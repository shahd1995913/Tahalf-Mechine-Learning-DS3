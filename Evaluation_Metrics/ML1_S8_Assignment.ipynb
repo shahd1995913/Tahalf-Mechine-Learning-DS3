{
  "cells": [
    {
      "cell_type": "markdown",
      "metadata": {
        "id": "view-in-github",
        "colab_type": "text"
      },
      "source": [
        "<a href=\"https://colab.research.google.com/github/shahd1995913/Tahalf-Mechine-Learning-DS3/blob/main/Evaluation_Metrics/ML1_S8_Assignment.ipynb\" target=\"_parent\"><img src=\"https://colab.research.google.com/assets/colab-badge.svg\" alt=\"Open In Colab\"/></a>"
      ]
    },
    {
      "cell_type": "markdown",
      "id": "096071b3",
      "metadata": {
        "id": "096071b3"
      },
      "source": [
        "# ML1-S8 (Assignment)\n",
        "----\n"
      ]
    },
    {
      "cell_type": "markdown",
      "id": "cca3fd8f",
      "metadata": {
        "id": "cca3fd8f"
      },
      "source": [
        "## Problem 1: Metrics Understanding\n",
        "---\n",
        "\n",
        "We want to build 3 AI models :\n",
        "\n",
        "*   One can detect skin cancer\n",
        "*   One can detect spam messages and move them to the trash \n",
        "*   One can classify fruits\n",
        "\n",
        "knowing that all of your datasets for these projects are unbalanced . What is the best metric you will use to report the performance for each one of these models ?"
      ]
    },
    {
      "cell_type": "markdown",
      "source": [
        "## 1. One can detect skin cancer\n",
        "\n",
        "### ===> Solution : \n",
        "- To detect cancer we care more about whether a person has the disease than to know if someone is not infected.  We care not to be in a mistake or the lowest possible rate of error in the case of misdiagnosis is that he is a person suffering from cancer but a diagnosis gave that he does not suffer.\n",
        "\n",
        "- We assume that a person with a disease has positive (P)results and a person who does not suffer from a disease with negative(N) results.  \n",
        "- For example, someone with cancer  (P) but  when use model prediction diagnosed with  does not have cancer (N). We care that False Negative (FN) is the least possible.\n",
        "\n",
        "|   | Actual | prediction |   Evaluation |\n",
        "|-|---|---|---|\n",
        "| FN |  positive  |  negative | Not Ok  |\n",
        "\n",
        "\n",
        "-  best metric you will use to report the performance  : Recall "
      ],
      "metadata": {
        "id": "aMQ7ZxqVGX0w"
      },
      "id": "aMQ7ZxqVGX0w"
    },
    {
      "cell_type": "markdown",
      "source": [
        "## 2. One can detect spam messages and move them to the trash\n",
        "### ===> Solution : \n",
        "- To check if the incoming mail is spam or not, we are here to care if the messages were expected to be spam, but in fact they are not spam.\n",
        "- If we assume that the messages are not spam (N), but were placed in spam here, it is wrong.\n",
        "- The truth is that the messages are not spam (N) but what was predicted as spam and was placed in spam.\n",
        "- False positive (FP): Predicting negative class as positive.\n",
        "\n",
        "|   | Actual | prediction |   Evaluation |\n",
        "|-|---|---|---|\n",
        "| FP |  negative  |   positive| Not Ok  |\n",
        "\n",
        "- We will use here to solve the issue is : Precision measures.\n"
      ],
      "metadata": {
        "id": "7CrMkur2LRks"
      },
      "id": "7CrMkur2LRks"
    },
    {
      "cell_type": "markdown",
      "source": [
        "## 3. One can classify fruits\n",
        "### ===> Solution\n",
        "\n",
        "-  Because there are different types of fruits we  can use metrics for For a multi-class classification problem is F1 score .\n",
        "- F1-Score: It is a harmonic mean of precision and recall(F1-score is a function of precision and recall) given by\n",
        "- F1-Score = 2**Precision* *Recall/(Precision + Recall)\n",
        "\n"
      ],
      "metadata": {
        "id": "do5zdq06VgIC"
      },
      "id": "do5zdq06VgIC"
    }
  ],
  "metadata": {
    "kernelspec": {
      "display_name": "Python 3",
      "language": "python",
      "name": "python3"
    },
    "language_info": {
      "codemirror_mode": {
        "name": "ipython",
        "version": 3
      },
      "file_extension": ".py",
      "mimetype": "text/x-python",
      "name": "python",
      "nbconvert_exporter": "python",
      "pygments_lexer": "ipython3",
      "version": "3.8.8"
    },
    "colab": {
      "name": "ML1_S8_Assignment.ipynb",
      "provenance": [],
      "include_colab_link": true
    }
  },
  "nbformat": 4,
  "nbformat_minor": 5
}