{
  "cells": [
    {
      "cell_type": "markdown",
      "metadata": {
        "id": "view-in-github",
        "colab_type": "text"
      },
      "source": [
        "<a href=\"https://colab.research.google.com/github/shahd1995913/Tahalf-Mechine-Learning-DS3/blob/main/Task/ML1_S5_Assignment.ipynb\" target=\"_parent\"><img src=\"https://colab.research.google.com/assets/colab-badge.svg\" alt=\"Open In Colab\"/></a>"
      ]
    },
    {
      "cell_type": "markdown",
      "id": "096071b3",
      "metadata": {
        "id": "096071b3"
      },
      "source": [
        "# ML1-S5 (Assignment)\n",
        "----"
      ]
    },
    {
      "cell_type": "markdown",
      "id": "4a7419d1",
      "metadata": {
        "id": "4a7419d1"
      },
      "source": [
        "## Problem 1:  Logistic Regression\n",
        "---\n",
        "\n",
        "- Mention 2 types of regularization used to overcome the overfitting problem and what is the difference between them.\n",
        "\n",
        "- Using the data below in X,y. Build a **`logistic model`** to predict the output and evaluate the model with a confusion matrix."
      ]
    },
    {
      "cell_type": "markdown",
      "source": [
        "# Common causes for overfitting are :\n",
        "1. When the model is complex enough that it starts modeling the noise in the training data.\n",
        "2. When the training data is relatively small and is an insufficient representation of the underlying distribution that it is sampled from, the model fails to learn a generalizable mapping.\n",
        "\n",
        "# Data Augmentation\n",
        "\n",
        "- Data augmentation is a regularization technique, which is used generally when we have images as data sets.\n",
        "-  It generates additional data artificially from the existing training data by making minor changes such as rotation, flipping, cropping, or blurring a few pixels in the image, and this process generates more and more data. \n",
        "- Through this regularization technique, the model variance is reduced, which in turn decreases the regularization error.\n",
        "\n",
        "# Early Stopping\n",
        "- It is a kind of cross-validation strategy where one part of the training set is used as a validation set, and the performance of the model is gauged against this set. So if the performance on this validation set gets worse, the training on the model is immediately stopped.\n",
        "\n",
        "- The main idea behind this technique is that while fitting a neural network on training data, consecutively, the model is evaluated on the unseen data or the validation set after each iteration. So if the performance on this validation set is decreasing or remaining the same for the certain iterations, then the process of model training is stopped.\n",
        "\n",
        "# Dropout\n",
        "\n",
        "- Another most frequently used regularization technique is dropout. \n",
        "- It essentially means that during the training, randomly selected neurons are turned off or ‘dropped’ out. \n",
        "- It means that they are temporarily obstructed from influencing or activating the downward neuron in a forward pass, and none of the weights updates is applied on the backward pass.\n",
        "\n",
        "- So if neurons are randomly dropped out of the network during training, the other neurons step in and make the predictions for the missing neurons. \n",
        "- This results in independent internal representations being learned by the network, making the network less sensitive to the specific weight of the neurons. \n",
        "- Such a network is better generalised and has fewer chances of producing overfitting.\n",
        "\n",
        "# L2 and L1 Regularization\n",
        "- L2 and L1 are the most common types of regularization. \n",
        "- Regularization works on the premise that smaller weights lead to simpler models which in results helps in avoiding overfitting. \n",
        "- So to obtain a smaller weight matrix, these techniques add a ‘regularization term’ along with the loss to obtain the cost function.\n",
        "\n",
        "## Cost function = Loss + Regularization term\n",
        "\n",
        "- The difference between L1 and L2 regularization techniques lies in the nature of this regularization term. In general, the addition of this regularization term causes the values of the weight matrices to reduce, leading simpler models.\n",
        "# -------------------------------------------------------------------------\n",
        "## Overfitting impacts the accuracy of Machine Learning models. The model attempts to capture the data points that do not represent the accurate properties of data. These data points may be considered as noise. To avoid the occurrence of overfitting, we may use a method called regularization.\n",
        "\n",
        "# LASSO & Ridge\n",
        "1. Lasso regression\n",
        "Lasso regression is a regularization technique used to reduce model complexity. It is also known as L1 regularization. Lasso stands for Least Absolute Shrinkage and Selector Operator.\n",
        "\n",
        "2. Ridge regression\n",
        "Ridge regression refers to a type of linear regression where in order to get better predictions in the long term, we introduce a small amount of bias. It is also known as L2 regularization. In ridge regression, we have the same loss function with a slight alteration in the penalty term,\n"
      ],
      "metadata": {
        "id": "Xhr-vitq2BFZ"
      },
      "id": "Xhr-vitq2BFZ"
    },
    {
      "cell_type": "code",
      "execution_count": 3,
      "id": "2c49fe14",
      "metadata": {
        "id": "2c49fe14"
      },
      "outputs": [],
      "source": [
        "### Put Your Answer Here ####\n",
        "import matplotlib.pyplot as plt\n",
        "import numpy as np\n",
        "from sklearn.datasets import load_digits\n",
        "from sklearn.linear_model import LogisticRegression\n",
        "from sklearn.metrics import classification_report, confusion_matrix\n",
        "from sklearn.model_selection import train_test_split\n",
        "from sklearn.preprocessing import StandardScaler"
      ]
    },
    {
      "cell_type": "code",
      "execution_count": 5,
      "id": "f2741015",
      "metadata": {
        "id": "f2741015"
      },
      "outputs": [],
      "source": [
        "# Dataset\n",
        "import numpy as np\n",
        "X = np.arange(15).reshape(-1, 1)\n",
        "y = np.array([0, 0, 0, 0, 0, 0, 0, 0, 1, 1, 1, 1, 1, 1, 1])"
      ]
    },
    {
      "cell_type": "code",
      "execution_count": 7,
      "id": "b6d36928",
      "metadata": {
        "colab": {
          "base_uri": "https://localhost:8080/"
        },
        "id": "b6d36928",
        "outputId": "6eeae4f3-7cdf-4b27-ef8b-45f1cffdb720"
      },
      "outputs": [
        {
          "output_type": "execute_result",
          "data": {
            "text/plain": [
              "array([[ 0],\n",
              "       [ 1],\n",
              "       [ 2],\n",
              "       [ 3],\n",
              "       [ 4],\n",
              "       [ 5],\n",
              "       [ 6],\n",
              "       [ 7],\n",
              "       [ 8],\n",
              "       [ 9],\n",
              "       [10],\n",
              "       [11],\n",
              "       [12],\n",
              "       [13],\n",
              "       [14]])"
            ]
          },
          "metadata": {},
          "execution_count": 7
        }
      ],
      "source": [
        "X"
      ]
    },
    {
      "cell_type": "code",
      "source": [
        "y"
      ],
      "metadata": {
        "colab": {
          "base_uri": "https://localhost:8080/"
        },
        "id": "jp-MSa1xD6iN",
        "outputId": "67f61e9c-8b78-4b6a-d519-51c3e1f5bbcd"
      },
      "id": "jp-MSa1xD6iN",
      "execution_count": 9,
      "outputs": [
        {
          "output_type": "execute_result",
          "data": {
            "text/plain": [
              "array([0, 0, 0, 0, 0, 0, 0, 0, 1, 1, 1, 1, 1, 1, 1])"
            ]
          },
          "metadata": {},
          "execution_count": 9
        }
      ]
    },
    {
      "cell_type": "code",
      "source": [
        "x_train, x_test, y_train, y_test =\\\n",
        "    train_test_split(X, y, test_size=0.2, random_state=0)"
      ],
      "metadata": {
        "id": "pVfOr6pDD_YW"
      },
      "id": "pVfOr6pDD_YW",
      "execution_count": 10,
      "outputs": []
    },
    {
      "cell_type": "code",
      "source": [
        "scaler = StandardScaler()\n",
        "x_train = scaler.fit_transform(x_train)"
      ],
      "metadata": {
        "id": "JQv6QIIBETRl"
      },
      "id": "JQv6QIIBETRl",
      "execution_count": 11,
      "outputs": []
    },
    {
      "cell_type": "code",
      "source": [
        "model = LogisticRegression(solver='liblinear', C=0.05, multi_class='ovr',\n",
        "                           random_state=0)\n",
        "model.fit(x_train, y_train)"
      ],
      "metadata": {
        "colab": {
          "base_uri": "https://localhost:8080/"
        },
        "id": "uNcF8yrGEfE1",
        "outputId": "3e203bd4-139f-406e-8b51-2a358f85d3b2"
      },
      "id": "uNcF8yrGEfE1",
      "execution_count": 12,
      "outputs": [
        {
          "output_type": "execute_result",
          "data": {
            "text/plain": [
              "LogisticRegression(C=0.05, multi_class='ovr', random_state=0,\n",
              "                   solver='liblinear')"
            ]
          },
          "metadata": {},
          "execution_count": 12
        }
      ]
    },
    {
      "cell_type": "code",
      "source": [
        "LogisticRegression(C=0.05, class_weight=None, dual=False, fit_intercept=True,\n",
        "                   intercept_scaling=1, l1_ratio=None, max_iter=100,\n",
        "                   multi_class='ovr', n_jobs=None, penalty='l2', random_state=0,\n",
        "                   solver='liblinear', tol=0.0001, verbose=0, warm_start=False)"
      ],
      "metadata": {
        "colab": {
          "base_uri": "https://localhost:8080/"
        },
        "id": "BODQKTK4EgQU",
        "outputId": "4faf8608-372e-408a-a51f-78a0778fc25a"
      },
      "id": "BODQKTK4EgQU",
      "execution_count": 13,
      "outputs": [
        {
          "output_type": "execute_result",
          "data": {
            "text/plain": [
              "LogisticRegression(C=0.05, multi_class='ovr', random_state=0,\n",
              "                   solver='liblinear')"
            ]
          },
          "metadata": {},
          "execution_count": 13
        }
      ]
    },
    {
      "cell_type": "code",
      "source": [
        "x_test = scaler.transform(x_test)\n"
      ],
      "metadata": {
        "id": "WAiDjsdJEgZS"
      },
      "id": "WAiDjsdJEgZS",
      "execution_count": 14,
      "outputs": []
    },
    {
      "cell_type": "code",
      "source": [
        "y_pred = model.predict(x_test)\n"
      ],
      "metadata": {
        "id": "CCfkXqIWEgbl"
      },
      "id": "CCfkXqIWEgbl",
      "execution_count": 15,
      "outputs": []
    },
    {
      "cell_type": "code",
      "source": [
        "print(model.score(x_train, y_train))\n",
        "\n",
        "print(model.score(x_test, y_test))"
      ],
      "metadata": {
        "colab": {
          "base_uri": "https://localhost:8080/"
        },
        "id": "IG-BNWllEgey",
        "outputId": "e9deaa6a-d656-42f4-e485-e4f284d01594"
      },
      "id": "IG-BNWllEgey",
      "execution_count": 17,
      "outputs": [
        {
          "output_type": "stream",
          "name": "stdout",
          "text": [
            "1.0\n",
            "1.0\n"
          ]
        }
      ]
    },
    {
      "cell_type": "code",
      "source": [
        "confusion_matrix(y_test, y_pred)"
      ],
      "metadata": {
        "colab": {
          "base_uri": "https://localhost:8080/"
        },
        "id": "Y_TmBu3YE0Kd",
        "outputId": "9fe47324-f8dd-470c-b3fa-124c4c2e63d3"
      },
      "id": "Y_TmBu3YE0Kd",
      "execution_count": 18,
      "outputs": [
        {
          "output_type": "execute_result",
          "data": {
            "text/plain": [
              "array([[2, 0],\n",
              "       [0, 1]])"
            ]
          },
          "metadata": {},
          "execution_count": 18
        }
      ]
    },
    {
      "cell_type": "code",
      "source": [
        "from sklearn.metrics import confusion_matrix\n",
        "cm = confusion_matrix(y_test, y_pred)\n",
        "# ax = plt.subplot()\n",
        "fig, ax = plt.subplots(figsize=(8, 8))\n",
        "ax.imshow(cm)\n",
        "ax.grid(False)\n",
        "sns.set(font_scale=3.0) #edited as suggested\n",
        "sns.heatmap(cm, annot=True, ax=ax, cmap=\"Blues\", fmt=\"g\");  # annot=True to annotate cells\n",
        "\n",
        "# labels, title and ticks\n",
        "ax.set_xlabel('PPredicted outputs');\n",
        "ax.set_ylabel('Actual outputs');\n",
        "ax.set_title('Confusion Matrix');\n",
        "ax.xaxis.set_ticklabels(['False', 'True']);\n",
        "ax.yaxis.set_ticklabels(['Flase', 'True']);\n",
        "plt.show()"
      ],
      "metadata": {
        "colab": {
          "base_uri": "https://localhost:8080/",
          "height": 520
        },
        "id": "QbdXklrTE0Ms",
        "outputId": "a59fbb3b-6cac-48af-c131-7653e3b9a2c3"
      },
      "id": "QbdXklrTE0Ms",
      "execution_count": 37,
      "outputs": [
        {
          "output_type": "display_data",
          "data": {
            "image/png": "[encoded data removed]",
            "text/plain": [
              "<Figure size 576x576 with 2 Axes>"
            ]
          },
          "metadata": {}
        }
      ]
    },
    {
      "cell_type": "code",
      "source": [
        "print(classification_report(y_test, y_pred))"
      ],
      "metadata": {
        "colab": {
          "base_uri": "https://localhost:8080/"
        },
        "id": "NG0z2548FwwV",
        "outputId": "6d65628d-12e7-437f-9936-23cbe3ebcaa7"
      },
      "id": "NG0z2548FwwV",
      "execution_count": 38,
      "outputs": [
        {
          "output_type": "stream",
          "name": "stdout",
          "text": [
            "              precision    recall  f1-score   support\n",
            "\n",
            "           0       1.00      1.00      1.00         2\n",
            "           1       1.00      1.00      1.00         1\n",
            "\n",
            "    accuracy                           1.00         3\n",
            "   macro avg       1.00      1.00      1.00         3\n",
            "weighted avg       1.00      1.00      1.00         3\n",
            "\n"
          ]
        }
      ]
    },
    {
      "cell_type": "code",
      "source": [
        ""
      ],
      "metadata": {
        "id": "0oe6cSpdE0QC"
      },
      "id": "0oe6cSpdE0QC",
      "execution_count": null,
      "outputs": []
    },
    {
      "cell_type": "markdown",
      "id": "6ea9afef",
      "metadata": {
        "id": "6ea9afef"
      },
      "source": [
        "## Problem 2:  KNN + metrics\n",
        "---\n",
        "Build a classification model based on KNN to classify the [Iris Dataset](https://archive.ics.uci.edu/ml/datasets/iris) , report the training and testing `accuracy` ,`f1score` , `recall` , `percision`."
      ]
    },
    {
      "cell_type": "code",
      "execution_count": null,
      "id": "db895d4f",
      "metadata": {
        "id": "db895d4f"
      },
      "outputs": [],
      "source": [
        "### Start Your Code Here ####\n",
        "\n",
        "\n",
        "### End Your Code Here ####"
      ]
    },
    {
      "cell_type": "markdown",
      "id": "cca3fd8f",
      "metadata": {
        "id": "cca3fd8f"
      },
      "source": [
        "## Problem 3: Naive Bayes\n",
        "---\n",
        "\n",
        "- Build a gaussian naive bayes model on [Iris Dataset](https://archive.ics.uci.edu/ml/datasets/iris) , you can load the data using sklearn , split the data to train 70% and test 30%.\n",
        "\n",
        "- If we have a discrete data which type of naive bayes should we use?\n",
        "\n",
        "- Create a dataset with 0 and 1 ,the training data will have 1000 instance and each instance will have 8 features , the testing data will have 100 instance and build a naive bayes model on it ."
      ]
    },
    {
      "cell_type": "code",
      "execution_count": null,
      "id": "d2d1190d",
      "metadata": {
        "id": "d2d1190d"
      },
      "outputs": [],
      "source": [
        "### Start Your Code Here ####\n",
        "\n",
        "\n",
        "### End Your Code Here ####"
      ]
    }
  ],
  "metadata": {
    "kernelspec": {
      "display_name": "Python 3",
      "language": "python",
      "name": "python3"
    },
    "language_info": {
      "codemirror_mode": {
        "name": "ipython",
        "version": 3
      },
      "file_extension": ".py",
      "mimetype": "text/x-python",
      "name": "python",
      "nbconvert_exporter": "python",
      "pygments_lexer": "ipython3",
      "version": "3.8.8"
    },
    "colab": {
      "name": "ML1_S5_Assignment.ipynb",
      "provenance": [],
      "toc_visible": true,
      "include_colab_link": true
    }
  },
  "nbformat": 4,
  "nbformat_minor": 5
}