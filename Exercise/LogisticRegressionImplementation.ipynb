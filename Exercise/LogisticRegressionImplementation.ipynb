{
  "cells": [
    {
      "cell_type": "markdown",
      "metadata": {
        "id": "view-in-github",
        "colab_type": "text"
      },
      "source": [
        "<a href=\"https://colab.research.google.com/github/shahd1995913/Tahalf-Mechine-Learning-DS3/blob/main/Exercise/LogisticRegressionImplementation.ipynb\" target=\"_parent\"><img src=\"https://colab.research.google.com/assets/colab-badge.svg\" alt=\"Open In Colab\"/></a>"
      ]
    },
    {
      "cell_type": "markdown",
      "metadata": {
        "id": "Bq2hNKDo3Hck"
      },
      "source": [
        "## Code from Scratch : Logistic Regression Implementation"
      ]
    },
    {
      "cell_type": "code",
      "execution_count": 1,
      "metadata": {
        "id": "puHE0mcg3Hco"
      },
      "outputs": [],
      "source": [
        "%matplotlib inline\n",
        "import numpy as np\n",
        "import matplotlib.pyplot as plt\n",
        "import seaborn as sns\n",
        "from sklearn import datasets\n",
        "from sklearn import linear_model"
      ]
    },
    {
      "cell_type": "markdown",
      "metadata": {
        "id": "clSGCGgW3Hcq"
      },
      "source": [
        "#### We will use something called as an Iris dataset, which is a dataset of 3 flowers, but for our problem we will only take 2 classes of them."
      ]
    },
    {
      "cell_type": "code",
      "execution_count": 2,
      "metadata": {
        "id": "mM9p9cie3Hcq"
      },
      "outputs": [],
      "source": [
        "iris = datasets.load_iris()"
      ]
    },
    {
      "cell_type": "code",
      "execution_count": 3,
      "metadata": {
        "id": "Ht0rkeZu3Hcq"
      },
      "outputs": [],
      "source": [
        "X = iris.data[:, :2]\n",
        "y = (iris.target != 0) * 1"
      ]
    },
    {
      "cell_type": "markdown",
      "metadata": {
        "id": "4he2_bW13Hcr"
      },
      "source": [
        "#### Let us try to plot and see how our data lies. Whether can it be separated using a decision boundary."
      ]
    },
    {
      "cell_type": "code",
      "execution_count": 4,
      "metadata": {
        "colab": {
          "base_uri": "https://localhost:8080/",
          "height": 376
        },
        "id": "a4lrCIk83Hcr",
        "outputId": "31963528-f6b2-4e16-bf18-722342d6d230"
      },
      "outputs": [
        {
          "output_type": "display_data",
          "data": {
            "image/png": "[encoded data removed]",
            "text/plain": [
              "<Figure size 720x432 with 1 Axes>"
            ]
          },
          "metadata": {
            "needs_background": "light"
          }
        }
      ],
      "source": [
        "plt.figure(figsize=(10, 6))\n",
        "plt.scatter(X[y == 0][:, 0], X[y == 0][:, 1], color='b', label='0')\n",
        "plt.scatter(X[y == 1][:, 0], X[y == 1][:, 1], color='r', label='1')\n",
        "plt.legend();"
      ]
    },
    {
      "cell_type": "markdown",
      "metadata": {
        "id": "09b-dnnd3Hcs"
      },
      "source": [
        "#### It seems that it can be differentiated using a Decision Boundary, now lets define our class."
      ]
    },
    {
      "cell_type": "code",
      "execution_count": null,
      "metadata": {
        "id": "THWW7jcv3Hct"
      },
      "outputs": [],
      "source": [
        "class LogisticRegression:\n",
        "    \n",
        "    # defining parameters such as learning rate, number ot iterations, whether to include intercept, \n",
        "    # and verbose which says whether to print anything or not like, loss etc.\n",
        "    def __init__(self, learning_rate=0.01, num_iterations=5000, fit_intercept=True, verbose=False):\n",
        "        self.learning_rate = learning_rate\n",
        "        self.num_iterations = num_iterations\n",
        "        self.fit_intercept = fit_intercept\n",
        "        self.verbose = verbose\n",
        "    \n",
        "    def __sigmoid_function(self, z):\n",
        "        # this is our actual sigmoid function which predicts our yp\n",
        "        return 1 / (1 + np.exp(-z))\n",
        "    \n",
        "    def __loss(self, yp, y):\n",
        "        # this is the loss function which we use to minimize the error of our model\n",
        "        return (-y * np.log(yp) - (1 - y) * np.log(1 - yp)).mean()\n",
        "    \n",
        "    # this is the function which trains our model.\n",
        "    def fit(self, X, y):\n",
        "        \n",
        "        # weights initialization of our Normal Vector, initially we set it to 0, then we learn it eventually\n",
        "        self.W = np.zeros(X.shape[1])\n",
        "        \n",
        "        # this for loop runs for the number of iterations provided\n",
        "        for i in range(self.num_iterations):\n",
        "            \n",
        "            # this is our W * Xi\n",
        "            z = np.dot(X, self.W)\n",
        "            \n",
        "            # this is where we predict the values of Y based on W and Xi\n",
        "            yp = self.__sigmoid_function(z)\n",
        "            \n",
        "            # this is where the gradient is calculated form the error generated by our model\n",
        "            gradient = np.dot(X.T, (yp - y)) / y.size\n",
        "            \n",
        "            # this is where we update our values of W, so that we can use the new values for the next iteration\n",
        "            self.W -= self.learning_rate * gradient\n",
        "            \n",
        "            # this is our new W * Xi\n",
        "            z = np.dot(X, self.W)\n",
        "            yp = self.__sigmoid_function(z)\n",
        "            \n",
        "            # this is where the loss is calculated\n",
        "            loss = self.__loss(yp, y)\n",
        "            \n",
        "            # as mentioned above if we want to print somehting we use verbose, so if verbose=True then our loss get printed\n",
        "            if(self.verbose ==True and i % 10000 == 0):\n",
        "                print(f'loss: {loss} \\t')\n",
        "    \n",
        "    # this is where we predict the probability values based on out generated W values out of all those iterations.\n",
        "    def predict_prob(self, X):\n",
        "        # this is the final prediction that is generated based on the values learned.\n",
        "        return self.__sigmoid_function(np.dot(X, self.W))\n",
        "    \n",
        "    # this is where we predict the actual values 0 or 1 using round. anything less than 0.5 = 0 or more than 0.5 is 1\n",
        "    def predict(self, X):\n",
        "        return self.predict_prob(X).round()"
      ]
    },
    {
      "cell_type": "markdown",
      "metadata": {
        "id": "FYkuVTeS3Hcu"
      },
      "source": [
        "#### Let us try creating a class of it, we will give Learning rate as 0.1  and number of iterations as 300000"
      ]
    },
    {
      "cell_type": "code",
      "execution_count": null,
      "metadata": {
        "id": "CGHo32GZ3Hcu"
      },
      "outputs": [],
      "source": [
        "model = LogisticRegression(learning_rate=0.1, num_iterations=3000)"
      ]
    },
    {
      "cell_type": "markdown",
      "metadata": {
        "id": "HTINV2AI3Hcv"
      },
      "source": [
        "#### Now we will try to train our model."
      ]
    },
    {
      "cell_type": "code",
      "execution_count": null,
      "metadata": {
        "id": "zxXJNdE43Hcv",
        "outputId": "e38d0517-fa83-4f59-e99d-24962c7802dc"
      },
      "outputs": [
        {
          "name": "stdout",
          "output_type": "stream",
          "text": [
            "Wall time: 206 ms\n"
          ]
        }
      ],
      "source": [
        "%%time\n",
        "model.fit(X, y)"
      ]
    },
    {
      "cell_type": "markdown",
      "metadata": {
        "id": "F2Dsv6_63Hcv"
      },
      "source": [
        "#### Lets us see how well our prediction works"
      ]
    },
    {
      "cell_type": "code",
      "execution_count": null,
      "metadata": {
        "id": "3vD_rlNN3Hcv",
        "outputId": "28f349fb-9d6b-4458-c35c-7b15f02a5bc5"
      },
      "outputs": [
        {
          "data": {
            "text/plain": [
              "0.9933333333333333"
            ]
          },
          "execution_count": 9,
          "metadata": {},
          "output_type": "execute_result"
        }
      ],
      "source": [
        "preds = model.predict(X)\n",
        "(preds == y).mean()"
      ]
    },
    {
      "cell_type": "code",
      "execution_count": null,
      "metadata": {
        "id": "HfC9SoQ53Hcw",
        "outputId": "7bd48670-3bcd-408f-e13b-2004eac18e78"
      },
      "outputs": [
        {
          "data": {
            "image/png": "[encoded data removed]",
            "text/plain": [
              "<Figure size 720x432 with 1 Axes>"
            ]
          },
          "metadata": {
            "needs_background": "light"
          },
          "output_type": "display_data"
        }
      ],
      "source": [
        "plt.figure(figsize=(10, 6))\n",
        "plt.scatter(X[y == 0][:, 0], X[y == 0][:, 1], color='b', label='0')\n",
        "plt.scatter(X[y == 1][:, 0], X[y == 1][:, 1], color='r', label='1')\n",
        "plt.legend()\n",
        "x1_min, x1_max = X[:,0].min(), X[:,0].max(),\n",
        "x2_min, x2_max = X[:,1].min(), X[:,1].max(),\n",
        "xx1, xx2 = np.meshgrid(np.linspace(x1_min, x1_max), np.linspace(x2_min, x2_max))\n",
        "grid = np.c_[xx1.ravel(), xx2.ravel()]\n",
        "probs = model.predict_prob(grid).reshape(xx1.shape)\n",
        "plt.contour(xx1, xx2, probs, [0.5], linewidths=1, colors='black');"
      ]
    },
    {
      "cell_type": "code",
      "execution_count": null,
      "metadata": {
        "id": "J8xhpYyX3Hcw",
        "outputId": "1b164e04-c9af-43d3-d44f-4b2d3c65d574"
      },
      "outputs": [
        {
          "name": "stdout",
          "output_type": "stream",
          "text": [
            "              precision    recall  f1-score   support\n",
            "\n",
            "           0       1.00      0.98      0.99        50\n",
            "           1       0.99      1.00      1.00       100\n",
            "\n",
            "    accuracy                           0.99       150\n",
            "   macro avg       1.00      0.99      0.99       150\n",
            "weighted avg       0.99      0.99      0.99       150\n",
            "\n"
          ]
        }
      ],
      "source": [
        "from sklearn.metrics import classification_report, confusion_matrix\n",
        "print(classification_report(y, model.predict(X)))"
      ]
    },
    {
      "cell_type": "code",
      "execution_count": null,
      "metadata": {
        "id": "ZnwugnVZ3Hcw",
        "outputId": "b43a8905-ae7d-4c36-ebe3-48639c43f69c"
      },
      "outputs": [
        {
          "data": {
            "image/png": "[encoded data removed]",
            "text/plain": [
              "<Figure size 576x576 with 1 Axes>"
            ]
          },
          "metadata": {
            "needs_background": "light"
          },
          "output_type": "display_data"
        }
      ],
      "source": [
        "cm = confusion_matrix(y, model.predict(X))\n",
        "\n",
        "fig, ax = plt.subplots(figsize=(8, 8))\n",
        "ax.imshow(cm)\n",
        "ax.grid(False)\n",
        "ax.xaxis.set(ticks=(0, 1), ticklabels=('Predicted 0s', 'Predicted 1s'))\n",
        "ax.yaxis.set(ticks=(0, 1), ticklabels=('Actual 0s', 'Actual 1s'))\n",
        "ax.set_ylim(1.5, -0.5)\n",
        "for i in range(2):\n",
        "    for j in range(2):\n",
        "        ax.text(j, i, cm[i, j], ha='center', va='center', color='white')\n",
        "plt.show()"
      ]
    },
    {
      "cell_type": "markdown",
      "metadata": {
        "id": "uAR5ccLG3Hcx"
      },
      "source": [
        "# Implementing Logistic Regression from Scikit-Learn"
      ]
    },
    {
      "cell_type": "markdown",
      "metadata": {
        "id": "7tCYZhiB3Hcx"
      },
      "source": [
        "#### Either you can choose to do all those coding yourself, or what you can do is just import a class form a phenominal library of python called Scikit-Learn, and use it's pre implemented Logistic Regression"
      ]
    },
    {
      "cell_type": "code",
      "execution_count": null,
      "metadata": {
        "id": "YMGa6KAP3Hcx"
      },
      "outputs": [],
      "source": [
        "\n",
        "from sklearn.linear_model import LogisticRegression\n",
        "from sklearn.metrics import classification_report, confusion_matrix\n",
        "model = LogisticRegression(random_state=0)"
      ]
    },
    {
      "cell_type": "markdown",
      "metadata": {
        "id": "NYy8kfZs3Hcx"
      },
      "source": [
        "#### It also has the same method as fit to train the model"
      ]
    },
    {
      "cell_type": "code",
      "execution_count": null,
      "metadata": {
        "scrolled": true,
        "id": "eiBe2AU_3Hcx",
        "outputId": "f105dbac-c2c5-4d27-9a31-9596d099f2c3"
      },
      "outputs": [
        {
          "data": {
            "text/plain": [
              "LogisticRegression(random_state=0)"
            ]
          },
          "execution_count": 15,
          "metadata": {},
          "output_type": "execute_result"
        }
      ],
      "source": [
        "model.fit(X, y)"
      ]
    },
    {
      "cell_type": "markdown",
      "metadata": {
        "id": "zxXdXlz63Hcy"
      },
      "source": [
        "#### Let us try to predict, and check the value of its prediction."
      ]
    },
    {
      "cell_type": "code",
      "execution_count": null,
      "metadata": {
        "id": "X36c7scI3Hcy",
        "outputId": "872875ce-3bc6-4d97-d3b3-293802e92514"
      },
      "outputs": [
        {
          "data": {
            "text/plain": [
              "array([[8.92720238e-01, 1.07279762e-01],\n",
              "       [7.71046348e-01, 2.28953652e-01],\n",
              "       [9.25861792e-01, 7.41382077e-02],\n",
              "       [9.27383226e-01, 7.26167745e-02],\n",
              "       [9.41260955e-01, 5.87390446e-02],\n",
              "       [9.14366510e-01, 8.56334901e-02],\n",
              "       [9.70588854e-01, 2.94111457e-02],\n",
              "       [8.94844544e-01, 1.05155456e-01],\n",
              "       [9.30340069e-01, 6.96599310e-02],\n",
              "       [8.22106028e-01, 1.77893972e-01],\n",
              "       [8.50082658e-01, 1.49917342e-01],\n",
              "       [9.43687032e-01, 5.63129680e-02],\n",
              "       [8.25355057e-01, 1.74644943e-01],\n",
              "       [9.62572636e-01, 3.74273639e-02],\n",
              "       [7.90722967e-01, 2.09277033e-01],\n",
              "       [9.49498438e-01, 5.05015620e-02],\n",
              "       [9.14366510e-01, 8.56334901e-02],\n",
              "       [8.92720238e-01, 1.07279762e-01],\n",
              "       [7.37925296e-01, 2.62074704e-01],\n",
              "       [9.55561442e-01, 4.44385583e-02],\n",
              "       [6.86948409e-01, 3.13051591e-01],\n",
              "       [9.40011474e-01, 5.99885260e-02],\n",
              "       [9.84162879e-01, 1.58371212e-02],\n",
              "       [8.15466254e-01, 1.84533746e-01],\n",
              "       [9.43687032e-01, 5.63129680e-02],\n",
              "       [7.05867903e-01, 2.94132097e-01],\n",
              "       [8.94844544e-01, 1.05155456e-01],\n",
              "       [8.55697295e-01, 1.44302705e-01],\n",
              "       [8.12075145e-01, 1.87924855e-01],\n",
              "       [9.25861792e-01, 7.41382077e-02],\n",
              "       [8.66401735e-01, 1.33598265e-01],\n",
              "       [6.86948409e-01, 3.13051591e-01],\n",
              "       [9.75366839e-01, 2.46331612e-02],\n",
              "       [9.51601779e-01, 4.83982209e-02],\n",
              "       [8.22106028e-01, 1.77893972e-01],\n",
              "       [8.18809824e-01, 1.81190176e-01],\n",
              "       [6.82116219e-01, 3.17883781e-01],\n",
              "       [9.57423588e-01, 4.25764123e-02],\n",
              "       [9.48259025e-01, 5.17409749e-02],\n",
              "       [8.58438460e-01, 1.41561540e-01],\n",
              "       [9.21120027e-01, 7.88799726e-02],\n",
              "       [5.87678957e-01, 4.12321043e-01],\n",
              "       [9.71839851e-01, 2.81601486e-02],\n",
              "       [9.21120027e-01, 7.88799726e-02],\n",
              "       [9.55561442e-01, 4.44385583e-02],\n",
              "       [8.25355057e-01, 1.74644943e-01],\n",
              "       [9.55561442e-01, 4.44385583e-02],\n",
              "       [9.46018652e-01, 5.39813480e-02],\n",
              "       [8.88358175e-01, 1.11641825e-01],\n",
              "       [8.61136004e-01, 1.38863996e-01],\n",
              "       [5.12600003e-03, 9.94874000e-01],\n",
              "       [3.78582845e-02, 9.62141716e-01],\n",
              "       [5.24138947e-03, 9.94758611e-01],\n",
              "       [4.59168341e-02, 9.54083166e-01],\n",
              "       [7.84539075e-03, 9.92154609e-01],\n",
              "       [1.06280067e-01, 8.93719933e-01],\n",
              "       [7.04348064e-02, 9.29565194e-01],\n",
              "       [3.35260426e-01, 6.64739574e-01],\n",
              "       [7.67311629e-03, 9.92326884e-01],\n",
              "       [3.20468700e-01, 6.79531300e-01],\n",
              "       [9.20273399e-02, 9.07972660e-01],\n",
              "       [1.02103420e-01, 8.97896580e-01],\n",
              "       [6.40328292e-03, 9.93596717e-01],\n",
              "       [4.03808448e-02, 9.59619155e-01],\n",
              "       [1.86330517e-01, 8.13669483e-01],\n",
              "       [1.02695039e-02, 9.89730496e-01],\n",
              "       [2.39107398e-01, 7.60892602e-01],\n",
              "       [5.81622102e-02, 9.41837790e-01],\n",
              "       [3.26189380e-03, 9.96738106e-01],\n",
              "       [6.06628345e-02, 9.39337165e-01],\n",
              "       [1.76366253e-01, 8.23633747e-01],\n",
              "       [2.97526242e-02, 9.70247376e-01],\n",
              "       [5.99002561e-03, 9.94009974e-01],\n",
              "       [2.97526242e-02, 9.70247376e-01],\n",
              "       [1.49988359e-02, 9.85001164e-01],\n",
              "       [1.04994549e-02, 9.89500545e-01],\n",
              "       [2.85324211e-03, 9.97146758e-01],\n",
              "       [7.50459613e-03, 9.92495404e-01],\n",
              "       [5.57585470e-02, 9.44241453e-01],\n",
              "       [5.94001956e-02, 9.40599804e-01],\n",
              "       [6.19505449e-02, 9.38049455e-01],\n",
              "       [6.19505449e-02, 9.38049455e-01],\n",
              "       [5.81622102e-02, 9.41837790e-01],\n",
              "       [3.04054318e-02, 9.69594568e-01],\n",
              "       [3.82271042e-01, 6.17728958e-01],\n",
              "       [2.23204739e-01, 7.76795261e-01],\n",
              "       [1.02695039e-02, 9.89730496e-01],\n",
              "       [3.18994330e-03, 9.96810057e-01],\n",
              "       [2.39107398e-01, 7.60892602e-01],\n",
              "       [8.30954449e-02, 9.16904555e-01],\n",
              "       [1.10606518e-01, 8.89393482e-01],\n",
              "       [5.45920536e-02, 9.45407946e-01],\n",
              "       [4.30639643e-02, 9.56936036e-01],\n",
              "       [2.07547843e-01, 7.92452157e-01],\n",
              "       [1.08424339e-01, 8.91575661e-01],\n",
              "       [1.82961696e-01, 8.17038304e-01],\n",
              "       [1.40292591e-01, 8.59707409e-01],\n",
              "       [2.91134116e-02, 9.70886588e-01],\n",
              "       [2.60052738e-01, 7.39947262e-01],\n",
              "       [1.06280067e-01, 8.93719933e-01],\n",
              "       [7.04348064e-02, 9.29565194e-01],\n",
              "       [5.81622102e-02, 9.41837790e-01],\n",
              "       [1.94601095e-03, 9.98053989e-01],\n",
              "       [2.09213773e-02, 9.79078623e-01],\n",
              "       [1.46718041e-02, 9.85328196e-01],\n",
              "       [3.58159275e-04, 9.99641841e-01],\n",
              "       [4.09015931e-01, 5.90984069e-01],\n",
              "       [7.21008730e-04, 9.99278991e-01],\n",
              "       [1.55151516e-03, 9.98448485e-01],\n",
              "       [9.19244022e-03, 9.90807560e-01],\n",
              "       [2.72747135e-02, 9.72725286e-01],\n",
              "       [8.02150180e-03, 9.91978498e-01],\n",
              "       [5.35936241e-03, 9.94640638e-01],\n",
              "       [4.39955947e-02, 9.56004405e-01],\n",
              "       [7.81217644e-02, 9.21878236e-01],\n",
              "       [3.78582845e-02, 9.62141716e-01],\n",
              "       [1.46718041e-02, 9.85328196e-01],\n",
              "       [3.20005486e-03, 9.96799945e-01],\n",
              "       [7.19969082e-05, 9.99928003e-01],\n",
              "       [6.40328292e-03, 9.93596717e-01],\n",
              "       [7.17849812e-03, 9.92821502e-01],\n",
              "       [1.43013278e-01, 8.56986722e-01],\n",
              "       [1.35566886e-04, 9.99864433e-01],\n",
              "       [1.12203100e-02, 9.88779690e-01],\n",
              "       [1.91644385e-02, 9.80835561e-01],\n",
              "       [2.60958787e-03, 9.97390412e-01],\n",
              "       [2.13846877e-02, 9.78615312e-01],\n",
              "       [5.45920536e-02, 9.45407946e-01],\n",
              "       [1.09747465e-02, 9.89025253e-01],\n",
              "       [1.38751071e-03, 9.98612489e-01],\n",
              "       [3.74546279e-04, 9.99625454e-01],\n",
              "       [1.62756451e-03, 9.98372435e-01],\n",
              "       [1.09747465e-02, 9.89025253e-01],\n",
              "       [1.53330438e-02, 9.84666956e-01],\n",
              "       [1.60236001e-02, 9.83976400e-01],\n",
              "       [2.55251918e-04, 9.99744748e-01],\n",
              "       [9.41847897e-02, 9.05815210e-01],\n",
              "       [2.78747149e-02, 9.72125285e-01],\n",
              "       [7.49588843e-02, 9.25041116e-01],\n",
              "       [5.24138947e-03, 9.94758611e-01],\n",
              "       [1.02695039e-02, 9.89730496e-01],\n",
              "       [5.24138947e-03, 9.94758611e-01],\n",
              "       [5.81622102e-02, 9.41837790e-01],\n",
              "       [1.00445380e-02, 9.89955462e-01],\n",
              "       [1.91644385e-02, 9.80835561e-01],\n",
              "       [7.50459613e-03, 9.92495404e-01],\n",
              "       [5.99002561e-03, 9.94009974e-01],\n",
              "       [1.46718041e-02, 9.85328196e-01],\n",
              "       [1.27333164e-01, 8.72666836e-01],\n",
              "       [1.02103420e-01, 8.97896580e-01]])"
            ]
          },
          "execution_count": 16,
          "metadata": {},
          "output_type": "execute_result"
        }
      ],
      "source": [
        "model.predict_proba(X)"
      ]
    },
    {
      "cell_type": "code",
      "execution_count": null,
      "metadata": {
        "id": "vfQLw6_y3Hcy",
        "outputId": "d8ae6603-2e01-46f1-ac35-b51c4b29ae2e"
      },
      "outputs": [
        {
          "data": {
            "image/png": "[encoded data removed]",
            "text/plain": [
              "<Figure size 576x576 with 1 Axes>"
            ]
          },
          "metadata": {
            "needs_background": "light"
          },
          "output_type": "display_data"
        }
      ],
      "source": [
        "cm = confusion_matrix(y, model.predict(X))\n",
        "\n",
        "fig, ax = plt.subplots(figsize=(8, 8))\n",
        "ax.imshow(cm)\n",
        "ax.grid(False)\n",
        "ax.xaxis.set(ticks=(0, 1), ticklabels=('Predicted 0s', 'Predicted 1s'))\n",
        "ax.yaxis.set(ticks=(0, 1), ticklabels=('Actual 0s', 'Actual 1s'))\n",
        "ax.set_ylim(1.5, -0.5)\n",
        "for i in range(2):\n",
        "    for j in range(2):\n",
        "        ax.text(j, i, cm[i, j], ha='center', va='center', color='white')\n",
        "plt.show()\n"
      ]
    },
    {
      "cell_type": "code",
      "execution_count": null,
      "metadata": {
        "id": "M29ZZq_33Hcy",
        "outputId": "54f85564-a0ca-457d-de40-3c60611aa616"
      },
      "outputs": [
        {
          "name": "stdout",
          "output_type": "stream",
          "text": [
            "              precision    recall  f1-score   support\n",
            "\n",
            "           0       1.00      1.00      1.00        50\n",
            "           1       1.00      1.00      1.00       100\n",
            "\n",
            "    accuracy                           1.00       150\n",
            "   macro avg       1.00      1.00      1.00       150\n",
            "weighted avg       1.00      1.00      1.00       150\n",
            "\n"
          ]
        }
      ],
      "source": [
        "print(classification_report(y, model.predict(X)))"
      ]
    },
    {
      "cell_type": "code",
      "execution_count": null,
      "metadata": {
        "id": "Y2vPhhU63Hcy"
      },
      "outputs": [],
      "source": [
        ""
      ]
    }
  ],
  "metadata": {
    "kernelspec": {
      "display_name": "Python 3",
      "language": "python",
      "name": "python3"
    },
    "language_info": {
      "codemirror_mode": {
        "name": "ipython",
        "version": 3
      },
      "file_extension": ".py",
      "mimetype": "text/x-python",
      "name": "python",
      "nbconvert_exporter": "python",
      "pygments_lexer": "ipython3",
      "version": "3.8.8"
    },
    "colab": {
      "name": "LogisticRegressionImplementation.ipynb",
      "provenance": [],
      "include_colab_link": true
    }
  },
  "nbformat": 4,
  "nbformat_minor": 0
}