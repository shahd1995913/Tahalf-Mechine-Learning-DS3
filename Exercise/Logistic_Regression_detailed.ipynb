{
  "cells": [
    {
      "cell_type": "markdown",
      "metadata": {
        "id": "view-in-github",
        "colab_type": "text"
      },
      "source": [
        "<a href=\"https://colab.research.google.com/github/shahd1995913/Tahalf-Mechine-Learning-DS3/blob/main/Exercise/Logistic_Regression_detailed.ipynb\" target=\"_parent\"><img src=\"https://colab.research.google.com/assets/colab-badge.svg\" alt=\"Open In Colab\"/></a>"
      ]
    },
    {
      "cell_type": "markdown",
      "id": "45e27949",
      "metadata": {
        "id": "45e27949"
      },
      "source": [
        "# **Logistic Regression 👨🏻‍💻**"
      ]
    },
    {
      "cell_type": "markdown",
      "id": "15be8725",
      "metadata": {
        "id": "15be8725"
      },
      "source": [
        "### From Scratch Implementation 🤔\n",
        "---"
      ]
    },
    {
      "cell_type": "code",
      "execution_count": null,
      "id": "cbfc85cc",
      "metadata": {
        "id": "cbfc85cc"
      },
      "outputs": [],
      "source": [
        "from __future__ import print_function, division\n",
        "import numpy as np\n",
        "import math\n",
        "from mpl_toolkits.mplot3d import Axes3D\n",
        "import matplotlib.pyplot as plt\n",
        "import matplotlib.cm as cmx\n",
        "import matplotlib.colors as colors\n",
        "import numpy as np\n",
        "\n",
        "\n",
        "def standardize(X):\n",
        "    \"\"\" Standardize the dataset X \"\"\"\n",
        "    X_std = X\n",
        "    mean = X.mean(axis=0)\n",
        "    std = X.std(axis=0)\n",
        "    for col in range(np.shape(X)[1]):\n",
        "        if std[col]:\n",
        "            X_std[:, col] = (X_std[:, col] - mean[col]) / std[col]\n",
        "    # X_std = (X - X.mean(axis=0)) / X.std(axis=0)\n",
        "    return X_std\n",
        "\n",
        "def normalize(X, axis=-1, order=2):\n",
        "    \"\"\" Normalize the dataset X \"\"\"\n",
        "    l2 = np.atleast_1d(np.linalg.norm(X, order, axis))\n",
        "    l2[l2 == 0] = 1\n",
        "    return X / np.expand_dims(l2, axis)\n",
        "\n",
        "def train_test_split(X, y, test_size=0.5, shuffle=True, seed=None):\n",
        "    \"\"\" Split the data into train and test sets \"\"\"\n",
        "    if shuffle:\n",
        "        X, y = shuffle_data(X, y, seed)\n",
        "    # Split the training data from test data in the ratio specified in\n",
        "    # test_size\n",
        "    split_i = len(y) - int(len(y) // (1 / test_size))\n",
        "    X_train, X_test = X[:split_i], X[split_i:]\n",
        "    y_train, y_test = y[:split_i], y[split_i:]\n",
        "\n",
        "    return X_train, X_test, y_train, y_test\n",
        "\n",
        "\n",
        "def shuffle_data(X, y, seed=None):\n",
        "    \"\"\" Random shuffle of the samples in X and y \"\"\"\n",
        "    if seed:\n",
        "        np.random.seed(seed)\n",
        "    idx = np.arange(X.shape[0])\n",
        "    np.random.shuffle(idx)\n",
        "    return X[idx], y[idx]\n",
        "\n",
        "def accuracy_score(y_true, y_pred):\n",
        "    \"\"\" Compare y_true to y_pred and return the accuracy \"\"\"\n",
        "    accuracy = np.sum(y_true == y_pred, axis=0) / len(y_true)\n",
        "    return accuracy\n",
        "\n",
        "def calculate_covariance_matrix(X, Y=None):\n",
        "    \"\"\" Calculate the covariance matrix for the dataset X \"\"\"\n",
        "    if Y is None:\n",
        "        Y = X\n",
        "    n_samples = np.shape(X)[0]\n",
        "    covariance_matrix = (1 / (n_samples-1)) * (X - X.mean(axis=0)).T.dot(Y - Y.mean(axis=0))\n",
        "\n",
        "    return np.array(covariance_matrix, dtype=float)\n",
        " \n",
        "\n",
        "def calculate_correlation_matrix(X, Y=None):\n",
        "    \"\"\" Calculate the correlation matrix for the dataset X \"\"\"\n",
        "    if Y is None:\n",
        "        Y = X\n",
        "    n_samples = np.shape(X)[0]\n",
        "    covariance = (1 / n_samples) * (X - X.mean(0)).T.dot(Y - Y.mean(0))\n",
        "    std_dev_X = np.expand_dims(calculate_std_dev(X), 1)\n",
        "    std_dev_y = np.expand_dims(calculate_std_dev(Y), 1)\n",
        "    correlation_matrix = np.divide(covariance, std_dev_X.dot(std_dev_y.T))\n",
        "\n",
        "    return np.array(correlation_matrix, dtype=float)\n",
        "\n",
        "class Plot():\n",
        "    def __init__(self): \n",
        "        self.cmap = plt.get_cmap('viridis')\n",
        "\n",
        "    def _transform(self, X, dim):\n",
        "        covariance = calculate_covariance_matrix(X)\n",
        "        eigenvalues, eigenvectors = np.linalg.eig(covariance)\n",
        "        # Sort eigenvalues and eigenvector by largest eigenvalues\n",
        "        idx = eigenvalues.argsort()[::-1]\n",
        "        eigenvalues = eigenvalues[idx][:dim]\n",
        "        eigenvectors = np.atleast_1d(eigenvectors[:, idx])[:, :dim]\n",
        "        # Project the data onto principal components\n",
        "        X_transformed = X.dot(eigenvectors)\n",
        "\n",
        "        return X_transformed\n",
        "\n",
        "\n",
        "    def plot_regression(self, lines, title, axis_labels=None, mse=None, scatter=None, legend={\"type\": \"lines\", \"loc\": \"lower right\"}):\n",
        "        \n",
        "        if scatter:\n",
        "            scatter_plots = scatter_labels = []\n",
        "            for s in scatter:\n",
        "                scatter_plots += [plt.scatter(s[\"x\"], s[\"y\"], color=s[\"color\"], s=s[\"size\"])]\n",
        "                scatter_labels += [s[\"label\"]]\n",
        "            scatter_plots = tuple(scatter_plots)\n",
        "            scatter_labels = tuple(scatter_labels)\n",
        "\n",
        "        for l in lines:\n",
        "            li = plt.plot(l[\"x\"], l[\"y\"], color=s[\"color\"], linewidth=l[\"width\"], label=l[\"label\"])\n",
        "\n",
        "        if mse:\n",
        "            plt.suptitle(title)\n",
        "            plt.title(\"MSE: %.2f\" % mse, fontsize=10)\n",
        "        else:\n",
        "            plt.title(title)\n",
        "\n",
        "        if axis_labels:\n",
        "            plt.xlabel(axis_labels[\"x\"])\n",
        "            plt.ylabel(axis_labels[\"y\"])\n",
        "\n",
        "        if legend[\"type\"] == \"lines\":\n",
        "            plt.legend(loc=\"lower_left\")\n",
        "        elif legend[\"type\"] == \"scatter\" and scatter:\n",
        "            plt.legend(scatter_plots, scatter_labels, loc=legend[\"loc\"])\n",
        "\n",
        "        plt.show()\n",
        "\n",
        "    # Plot the dataset X and the corresponding labels y in 2D using PCA.\n",
        "    def plot_in_2d(self, X, y=None, title=None, accuracy=None, legend_labels=None):\n",
        "        X_transformed = self._transform(X, dim=2)\n",
        "        x1 = X_transformed[:, 0]\n",
        "        x2 = X_transformed[:, 1]\n",
        "        class_distr = []\n",
        "\n",
        "        y = np.array(y).astype(int)\n",
        "\n",
        "        colors = [self.cmap(i) for i in np.linspace(0, 1, len(np.unique(y)))]\n",
        "\n",
        "        # Plot the different class distributions\n",
        "        for i, l in enumerate(np.unique(y)):\n",
        "            _x1 = x1[y == l]\n",
        "            _x2 = x2[y == l]\n",
        "            _y = y[y == l]\n",
        "            class_distr.append(plt.scatter(_x1, _x2, color=colors[i]))\n",
        "\n",
        "        # Plot legend\n",
        "        if not legend_labels is None: \n",
        "            plt.legend(class_distr, legend_labels, loc=1)\n",
        "\n",
        "        # Plot title\n",
        "        if title:\n",
        "            if accuracy:\n",
        "                perc = 100 * accuracy\n",
        "                plt.suptitle(title)\n",
        "                plt.title(\"Accuracy: %.1f%%\" % perc, fontsize=10)\n",
        "            else:\n",
        "                plt.title(title)\n",
        "\n",
        "        # Axis labels\n",
        "        plt.xlabel('Principal Component 1')\n",
        "        plt.ylabel('Principal Component 2')\n",
        "\n",
        "        plt.show()\n",
        "\n",
        "    # Plot the dataset X and the corresponding labels y in 3D using PCA.\n",
        "    def plot_in_3d(self, X, y=None):\n",
        "        X_transformed = self._transform(X, dim=3)\n",
        "        x1 = X_transformed[:, 0]\n",
        "        x2 = X_transformed[:, 1]\n",
        "        x3 = X_transformed[:, 2]\n",
        "        fig = plt.figure()\n",
        "        ax = fig.add_subplot(111, projection='3d')\n",
        "        ax.scatter(x1, x2, x3, c=y)\n",
        "        plt.show()\n",
        "\n",
        "\n",
        "\n",
        "class Sigmoid():\n",
        "    def __call__(self, x):\n",
        "        return 1 / (1 + np.exp(-x))\n",
        "\n",
        "    def gradient(self, x):\n",
        "        return self.__call__(x) * (1 - self.__call__(x))\n",
        "\n",
        "def make_diagonal(x):\n",
        "    \"\"\" Converts a vector into an diagonal matrix \"\"\"\n",
        "    m = np.zeros((len(x), len(x)))\n",
        "    for i in range(len(m[0])):\n",
        "        m[i, i] = x[i]\n",
        "    return m"
      ]
    },
    {
      "cell_type": "code",
      "execution_count": null,
      "id": "e3de2150",
      "metadata": {
        "id": "e3de2150"
      },
      "outputs": [],
      "source": [
        "class LogisticRegression():\n",
        "    \"\"\" Logistic Regression classifier.\n",
        "    Parameters:\n",
        "    -----------\n",
        "    learning_rate: float\n",
        "        The step length that will be taken when following the negative gradient during\n",
        "        training.\n",
        "    gradient_descent: boolean\n",
        "        True or false depending if gradient descent should be used when training. If\n",
        "        false then we use batch optimization by least squares.\n",
        "    \"\"\"\n",
        "    def __init__(self, learning_rate=.1, gradient_descent=True):\n",
        "        self.param = None\n",
        "        self.learning_rate = learning_rate\n",
        "        self.gradient_descent = gradient_descent\n",
        "        self.sigmoid = Sigmoid()\n",
        "\n",
        "    def _initialize_parameters(self, X):\n",
        "        n_features = np.shape(X)[1]\n",
        "        # Initialize parameters between [-1/sqrt(N), 1/sqrt(N)]\n",
        "        limit = 1 / math.sqrt(n_features)\n",
        "        self.param = np.random.uniform(-limit, limit, (n_features,))\n",
        "\n",
        "    def fit(self, X, y, n_iterations=4000):\n",
        "        self._initialize_parameters(X)\n",
        "        # Tune parameters for n iterations\n",
        "        for i in range(n_iterations):\n",
        "            # Make a new prediction\n",
        "            y_pred = self.sigmoid(X.dot(self.param))\n",
        "            if self.gradient_descent:\n",
        "                # Move against the gradient of the loss function with\n",
        "                # respect to the parameters to minimize the loss\n",
        "                self.param -= self.learning_rate * -(y - y_pred).dot(X)\n",
        "            else:\n",
        "                # Make a diagonal matrix of the sigmoid gradient column vector\n",
        "                diag_gradient = make_diagonal(self.sigmoid.gradient(X.dot(self.param)))\n",
        "                # Batch opt:\n",
        "                self.param = np.linalg.pinv(X.T.dot(diag_gradient).dot(X)).dot(X.T).dot(diag_gradient.dot(X).dot(self.param) + y - y_pred)\n",
        "\n",
        "    def predict(self, X):\n",
        "        y_pred = np.round(self.sigmoid(X.dot(self.param))).astype(int)\n",
        "        return y_pred"
      ]
    },
    {
      "cell_type": "code",
      "execution_count": null,
      "id": "8961279d",
      "metadata": {
        "id": "8961279d",
        "outputId": "9a707334-832c-4ad1-8a47-d8d41a6efdbe"
      },
      "outputs": [
        {
          "name": "stdout",
          "output_type": "stream",
          "text": [
            "Accuracy: 0.9393939393939394\n"
          ]
        },
        {
          "data": {
            "image/png": "[encoded data removed]",
            "text/plain": [
              "<Figure size 432x288 with 1 Axes>"
            ]
          },
          "metadata": {
            "needs_background": "light"
          },
          "output_type": "display_data"
        }
      ],
      "source": [
        "from __future__ import print_function\n",
        "from sklearn import datasets\n",
        "import numpy as np\n",
        "import matplotlib.pyplot as plt\n",
        "\n",
        "# Import helper functions\n",
        "\n",
        "def main():\n",
        "    # Load dataset\n",
        "    data = datasets.load_iris()\n",
        "    X = normalize(data.data[data.target != 0])\n",
        "    y = data.target[data.target != 0]\n",
        "    y[y == 1] = 0\n",
        "    y[y == 2] = 1\n",
        "\n",
        "    X_train, X_test, y_train, y_test = train_test_split(X, y, test_size=0.33, seed=1)\n",
        "\n",
        "    clf = LogisticRegression(gradient_descent=True)\n",
        "    clf.fit(X_train, y_train)\n",
        "    y_pred = clf.predict(X_test)\n",
        "\n",
        "    accuracy = accuracy_score(y_test, y_pred)\n",
        "    print (\"Accuracy:\", accuracy)\n",
        "\n",
        "    # Reduce dimension to two using PCA and plot the results\n",
        "    Plot().plot_in_2d(X_test, y_pred, title=\"Logistic Regression\", accuracy=accuracy)\n",
        "\n",
        "if __name__ == \"__main__\":\n",
        "    main()"
      ]
    },
    {
      "cell_type": "markdown",
      "id": "2847964f",
      "metadata": {
        "id": "2847964f"
      },
      "source": [
        "### Sklearn Implementation 🤔\n",
        "---"
      ]
    },
    {
      "cell_type": "markdown",
      "id": "e7525e4c",
      "metadata": {
        "id": "e7525e4c"
      },
      "source": [
        "### Training"
      ]
    },
    {
      "cell_type": "code",
      "execution_count": null,
      "id": "7e4abe47",
      "metadata": {
        "id": "7e4abe47",
        "outputId": "68c4e708-398c-4d25-9cdc-b076b9547c04"
      },
      "outputs": [
        {
          "name": "stderr",
          "output_type": "stream",
          "text": [
            "C:\\Users\\Asset\\anaconda3\\lib\\site-packages\\sklearn\\linear_model\\_logistic.py:763: ConvergenceWarning: lbfgs failed to converge (status=1):\n",
            "STOP: TOTAL NO. of ITERATIONS REACHED LIMIT.\n",
            "\n",
            "Increase the number of iterations (max_iter) or scale the data as shown in:\n",
            "    https://scikit-learn.org/stable/modules/preprocessing.html\n",
            "Please also refer to the documentation for alternative solver options:\n",
            "    https://scikit-learn.org/stable/modules/linear_model.html#logistic-regression\n",
            "  n_iter_i = _check_optimize_result(\n"
          ]
        },
        {
          "data": {
            "text/plain": [
              "0.96"
            ]
          },
          "execution_count": 12,
          "metadata": {},
          "output_type": "execute_result"
        }
      ],
      "source": [
        "from sklearn.datasets import load_iris\n",
        "from sklearn.linear_model import LogisticRegression\n",
        "from sklearn.model_selection import train_test_split\n",
        "\n",
        "X, y = load_iris(return_X_y=True)\n",
        "\n",
        "X_train, X_test, y_train, y_test = train_test_split(\n",
        "    X, y, test_size=0.33, random_state=42)\n",
        "\n",
        "clf = LogisticRegression(random_state=0).fit(X_train, y_train)\n",
        "\n",
        "\n",
        "clf.predict(X_train[:2, :])\n",
        "\n",
        "clf.predict_proba(X_train[:2, :])\n",
        "\n",
        "\n",
        "clf.score(X_train, y_train)"
      ]
    },
    {
      "cell_type": "markdown",
      "id": "55247433",
      "metadata": {
        "id": "55247433"
      },
      "source": [
        "### Testing"
      ]
    },
    {
      "cell_type": "code",
      "execution_count": null,
      "id": "41eb91d8",
      "metadata": {
        "id": "41eb91d8",
        "outputId": "e204c53e-15ae-479d-b251-66b1f645a585"
      },
      "outputs": [
        {
          "data": {
            "text/plain": [
              "1.0"
            ]
          },
          "execution_count": 6,
          "metadata": {},
          "output_type": "execute_result"
        }
      ],
      "source": [
        "y_pred = clf.predict(X_test)\n",
        "clf.score(X_test, y_test)"
      ]
    },
    {
      "cell_type": "code",
      "execution_count": null,
      "id": "13008f40",
      "metadata": {
        "id": "13008f40",
        "outputId": "e1f3cb9a-c309-42bd-b663-643747d4023d"
      },
      "outputs": [
        {
          "data": {
            "image/png": "[encoded data removed]",
            "text/plain": [
              "<Figure size 432x288 with 1 Axes>"
            ]
          },
          "metadata": {
            "needs_background": "light"
          },
          "output_type": "display_data"
        }
      ],
      "source": [
        "Plot().plot_in_2d(X_test, y_pred, title=\"Logistic Regression\")"
      ]
    },
    {
      "cell_type": "code",
      "execution_count": null,
      "id": "500073ea",
      "metadata": {
        "id": "500073ea",
        "outputId": "f79c6435-f9fb-454b-b7d0-d345b12382d1"
      },
      "outputs": [
        {
          "data": {
            "text/plain": [
              "(50, 4)"
            ]
          },
          "execution_count": 8,
          "metadata": {},
          "output_type": "execute_result"
        }
      ],
      "source": [
        "X_test.shape"
      ]
    },
    {
      "cell_type": "markdown",
      "id": "8a0a9a4a",
      "metadata": {
        "id": "8a0a9a4a"
      },
      "source": [
        "## Logistic Regression 3-class Classifier\n",
        "---"
      ]
    },
    {
      "cell_type": "code",
      "execution_count": null,
      "id": "fda91a23",
      "metadata": {
        "id": "fda91a23",
        "outputId": "ef4f54c6-1445-40c9-fd1e-33d9630a330d"
      },
      "outputs": [
        {
          "name": "stderr",
          "output_type": "stream",
          "text": [
            "<ipython-input-9-37fd3671bbe2>:26: MatplotlibDeprecationWarning: shading='flat' when X and Y have the same dimensions as C is deprecated since 3.3.  Either specify the corners of the quadrilaterals with X and Y, or pass shading='auto', 'nearest' or 'gouraud', or set rcParams['pcolor.shading'].  This will become an error two minor releases later.\n",
            "  plt.pcolormesh(xx, yy, Z, cmap=plt.cm.Paired)\n"
          ]
        },
        {
          "data": {
            "image/png": "[encoded data removed]",
            "text/plain": [
              "<Figure size 288x216 with 1 Axes>"
            ]
          },
          "metadata": {},
          "output_type": "display_data"
        }
      ],
      "source": [
        "import numpy as np\n",
        "import matplotlib.pyplot as plt\n",
        "from sklearn.linear_model import LogisticRegression\n",
        "from sklearn import datasets\n",
        "\n",
        "# import some data to play with\n",
        "iris = datasets.load_iris()\n",
        "X = iris.data[:, :2]  # we only take the first two features.\n",
        "Y = iris.target\n",
        "\n",
        "# Create an instance of Logistic Regression Classifier and fit the data.\n",
        "logreg = LogisticRegression(C=1e5)\n",
        "logreg.fit(X, Y)\n",
        "\n",
        "# Plot the decision boundary. For that, we will assign a color to each\n",
        "# point in the mesh [x_min, x_max]x[y_min, y_max].\n",
        "x_min, x_max = X[:, 0].min() - 0.5, X[:, 0].max() + 0.5\n",
        "y_min, y_max = X[:, 1].min() - 0.5, X[:, 1].max() + 0.5\n",
        "h = 0.02  # step size in the mesh\n",
        "xx, yy = np.meshgrid(np.arange(x_min, x_max, h), np.arange(y_min, y_max, h))\n",
        "Z = logreg.predict(np.c_[xx.ravel(), yy.ravel()])\n",
        "\n",
        "# Put the result into a color plot\n",
        "Z = Z.reshape(xx.shape)\n",
        "plt.figure(1, figsize=(4, 3))\n",
        "plt.pcolormesh(xx, yy, Z, cmap=plt.cm.Paired)\n",
        "\n",
        "# Plot also the training points\n",
        "plt.scatter(X[:, 0], X[:, 1], c=Y, edgecolors=\"k\", cmap=plt.cm.Paired)\n",
        "plt.xlabel(\"Sepal length\")\n",
        "plt.ylabel(\"Sepal width\")\n",
        "\n",
        "plt.xlim(xx.min(), xx.max())\n",
        "plt.ylim(yy.min(), yy.max())\n",
        "plt.xticks(())\n",
        "plt.yticks(())\n",
        "\n",
        "plt.show()"
      ]
    },
    {
      "cell_type": "code",
      "execution_count": null,
      "id": "71a96d67",
      "metadata": {
        "id": "71a96d67",
        "outputId": "69477a23-aad7-4cd4-da25-e93160c673d2"
      },
      "outputs": [
        {
          "data": {
            "text/plain": [
              "[None, Text(0.5, 0, '$X_1$'), Text(0, 0.5, '$X_2$')]"
            ]
          },
          "execution_count": 10,
          "metadata": {},
          "output_type": "execute_result"
        },
        {
          "data": {
            "image/png": "[encoded data removed]",
            "text/plain": [
              "<Figure size 576x432 with 1 Axes>"
            ]
          },
          "metadata": {
            "needs_background": "light"
          },
          "output_type": "display_data"
        }
      ],
      "source": [
        "f, ax = plt.subplots(figsize=(8, 6))\n",
        "ax.contour(xx, yy, Z, levels=[.5], cmap=\"Greys\", vmin=0, vmax=.6)\n",
        "\n",
        "ax.scatter(X[:,0], X[:, 1], c=y[:], s=50,\n",
        "           cmap=\"RdBu\", vmin=-.2, vmax=1.2,\n",
        "           edgecolor=\"white\", linewidth=1)\n",
        "\n",
        "ax.set(aspect=\"equal\",\n",
        "       xlabel=\"$X_1$\", ylabel=\"$X_2$\")"
      ]
    },
    {
      "cell_type": "code",
      "execution_count": null,
      "id": "1529990c",
      "metadata": {
        "id": "1529990c",
        "outputId": "bfb67413-c083-4cd2-9cff-8007d3cd8ed4"
      },
      "outputs": [
        {
          "name": "stdout",
          "output_type": "stream",
          "text": [
            "[-19.01850107]\n",
            "[3.48967497]\n"
          ]
        },
        {
          "data": {
            "image/png": "[encoded data removed]",
            "text/plain": [
              "<Figure size 432x288 with 1 Axes>"
            ]
          },
          "metadata": {
            "needs_background": "light"
          },
          "output_type": "display_data"
        }
      ],
      "source": [
        "import numpy as np\n",
        "import matplotlib.pyplot as plt\n",
        "from sklearn.linear_model import LogisticRegression\n",
        "from sklearn import datasets\n",
        "\n",
        "# import some data to play with\n",
        "iris = datasets.load_iris()\n",
        "X = iris.data[:, :2]  # we only take the first two features.\n",
        "Y = iris.target\n",
        "Y[Y == 1] = 0\n",
        "Y[Y == 2] = 1\n",
        "\n",
        "# Create an instance of Logistic Regression Classifier and fit the data.\n",
        "clf = LogisticRegression(C=1e5)\n",
        "clf.fit(X, Y)\n",
        "\n",
        "\n",
        "# Retrieve the model parameters.\n",
        "b = clf.intercept_[0]\n",
        "w1, w2 = clf.coef_.T\n",
        "# Calculate the intercept and gradient of the decision boundary.\n",
        "c = -b/w2\n",
        "m = -w1/w2\n",
        "\n",
        "print(c)\n",
        "print(m)\n",
        "\n",
        "# Plot the data and the classification with the decision boundary.\n",
        "xmin, xmax = X[:, 0].min() - 0.5, X[:, 0].max() + 0.5\n",
        "ymin, ymax = X[:, 1].min() - 0.5, X[:, 1].max() + 0.5\n",
        "\n",
        "xd = np.array([xmin, xmax])\n",
        "yd = m*xd + c\n",
        "plt.plot(xd, yd, 'k', lw=1, ls='--')\n",
        "plt.fill_between(xd, yd, ymin, color='tab:blue', alpha=0.2)\n",
        "plt.fill_between(xd, yd, ymax, color='tab:orange', alpha=0.2)\n",
        "\n",
        "plt.scatter(*X[Y==0].T, s=8, alpha=0.5)\n",
        "plt.scatter(*X[Y==1].T, s=8, alpha=0.5)\n",
        "plt.xlim(xmin, xmax)\n",
        "plt.ylim(ymin, ymax)\n",
        "plt.ylabel(r'$x_2$')\n",
        "plt.xlabel(r'$x_1$')\n",
        "\n",
        "plt.show()"
      ]
    },
    {
      "cell_type": "code",
      "execution_count": null,
      "id": "9f14474f",
      "metadata": {
        "id": "9f14474f"
      },
      "outputs": [],
      "source": [
        ""
      ]
    },
    {
      "cell_type": "code",
      "execution_count": null,
      "id": "6febcda7",
      "metadata": {
        "id": "6febcda7"
      },
      "outputs": [],
      "source": [
        ""
      ]
    }
  ],
  "metadata": {
    "kernelspec": {
      "display_name": "Python 3",
      "language": "python",
      "name": "python3"
    },
    "language_info": {
      "codemirror_mode": {
        "name": "ipython",
        "version": 3
      },
      "file_extension": ".py",
      "mimetype": "text/x-python",
      "name": "python",
      "nbconvert_exporter": "python",
      "pygments_lexer": "ipython3",
      "version": "3.8.8"
    },
    "colab": {
      "name": "Logistic_Regression_detailed.ipynb",
      "provenance": [],
      "include_colab_link": true
    }
  },
  "nbformat": 4,
  "nbformat_minor": 5
}