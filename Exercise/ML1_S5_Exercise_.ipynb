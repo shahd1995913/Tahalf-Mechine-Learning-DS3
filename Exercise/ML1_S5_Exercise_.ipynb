{
  "cells": [
    {
      "cell_type": "markdown",
      "metadata": {
        "id": "view-in-github",
        "colab_type": "text"
      },
      "source": [
        "<a href=\"https://colab.research.google.com/github/shahd1995913/Tahalf-Mechine-Learning-DS3/blob/main/Exercise/ML1_S5_Exercise_.ipynb\" target=\"_parent\"><img src=\"https://colab.research.google.com/assets/colab-badge.svg\" alt=\"Open In Colab\"/></a>"
      ]
    },
    {
      "cell_type": "markdown",
      "metadata": {
        "id": "yzVjwL7dxy4p"
      },
      "source": [
        "# ML1-S3 (K Nearest Neighbor (`KNN`) Algorithm)👨🏻‍💻\n",
        "---\n",
        "\n",
        "### Agenda\n",
        "- [Introduction](#Introduction)\n",
        "- [How does KNN Work?](#How)\n",
        "- [Model Representation](#Representation)\n",
        "- [Required Data Preparation](#Preparation)\n",
        "- [sklean Implementation](#Implementation)\n",
        "- [Implementation from scratch](#scratch)\n",
        "- [Compaire models](#Compaire)"
      ]
    },
    {
      "cell_type": "markdown",
      "metadata": {
        "id": "uBhcQp5owWL8"
      },
      "source": [
        "## <a id='Introduction'></a> `Introduction`\n",
        "---\n",
        "**K Nearest Neighbor** algorithm falls under the `Supervised` Learning category and is used for **classification** (most commonly) and **regression**. It is a versatile algorithm also used for imputing missing values and resampling datasets. As the name (K Nearest Neighbor) suggests it considers K Nearest Neighbors (Data points) to predict the class or continuous value for the new Datapoint.\n",
        "<img src=https://machinelearningknowledge.ai/wp-content/uploads/2018/08/KNN-Classification.gif width= 500>"
      ]
    },
    {
      "cell_type": "markdown",
      "metadata": {
        "id": "jEKS7-SmwZXT"
      },
      "source": [
        "**The algorithm’s learning is**:\n",
        "\n",
        "---\n",
        "1. Instance-based learning: Here we do not learn weights from training data to predict output (as in model-based algorithms) but use entire training instances to predict output for unseen data.\n",
        "\n",
        "\n",
        "2. Lazy Learning: Model is not learned using training data prior and the learning process is postponed to a time when prediction is requested on the new instance.\n",
        "\n",
        "\n",
        "3. Non -Parametric: In KNN, there is no predefined form of the mapping function.\n",
        "---"
      ]
    },
    {
      "cell_type": "markdown",
      "metadata": {
        "id": "w1XbIunDwktG"
      },
      "source": [
        "## <a id='How'></a> `How does KNN Work?`\n",
        "---\n",
        "👉**Principle**:\n",
        "\n",
        "Consider the following figure. Let us say we have plotted data points from our training set on a two-dimensional feature space. As shown, we have a total of 6 data points (3 red and 3 blue). \n",
        "\n",
        "Red data points belong to `class1` and blue data points belong to `class2`. \n",
        "\n",
        "And yellow data point in a feature space represents the new point for which a class is to be predicted. Obviously, we say it belongs to ‘class1’ (red points)\n",
        "\n",
        "**Why?** 🤔➨ Because its nearest neighbors belong to that class!\n",
        "<img src=https://editor.analyticsvidhya.com/uploads/17303KNN%20working.png width=400>"
      ]
    },
    {
      "cell_type": "markdown",
      "metadata": {
        "id": "uBHI524w0EL8"
      },
      "source": [
        "Yes, this is the principle behind K Nearest Neighbors. Here, nearest neighbors are those data points that have minimum distance in feature space from our new data point. And K is the number of such data points we consider in our implementation of the algorithm. Therefore, distance metric and K value are two important considerations while using the KNN algorithm. Euclidean distance is the most popular distance metric. You can also use Hamming distance, Manhattan distance, Minkowski distance as per your need. For predicting class/ continuous value for a new data point, it considers all the data points in the training dataset. Finds new data point’s ‘K’ Nearest Neighbors (Data points) from feature space and their class labels or continuous values.\n",
        "\n",
        "Then:\n",
        "\n",
        "- For classification: A class label assigned to the majority of K Nearest Neighbors from the training dataset is considered as a predicted class for the new data point.\n",
        "\n",
        "- For regression: Mean or median of continuous values assigned to K Nearest Neighbors from training dataset is a predicted continuous value for our new data point\n",
        "---"
      ]
    },
    {
      "cell_type": "markdown",
      "metadata": {
        "id": "zaDQkdkI1HyV"
      },
      "source": [
        "## <a id='Representation'></a> `Model Representation`\n",
        "--- \n",
        "\n",
        "Here, we do not learn weights and store them, instead, the entire training dataset is stored in the memory. Therefore, model representation for KNN is the entire training dataset.\n",
        "\n",
        "### How to choose the value for K?** 🤔\n",
        "---\n",
        "\n",
        "**K is a crucial parameter in the KNN algorithm. Some suggestions for choosing K Value are**:\n",
        "\n",
        "1. Using error curves: The figure below shows error curves for different values of K for training and test data.\n",
        "\n",
        "    At low K values, there is overfitting of data/high variance. Therefore test error is high and train error is low. At K=1 in train data, the error is always zero, because the nearest neighbor to that point is that point itself. Therefore though training error is low test error is high at lower K values. This is called overfitting. As we increase the value for K, the test error is reduced.\n",
        "\n",
        "    But after a certain K value, bias/ underfitting is introduced and test error goes high. So we can say initially test data error is high(due to variance) then it goes low and stabilizes and with further increase in K value, it again increases(due to bias). The K value when test error stabilizes and is low is considered as optimal value for K. From the above error curve we can choose K=8 for our KNN algorithm implementation.\n",
        "\n",
        "    <img src=https://editor.analyticsvidhya.com/uploads/47280kvalue.png width=400>\n",
        "\n",
        "\n",
        "2. Also, domain knowledge is very useful in choosing the K value.\n",
        "\n",
        "3. K value should be odd while considering binary(two-class) classification.\n",
        "---"
      ]
    },
    {
      "cell_type": "markdown",
      "metadata": {
        "id": "53oC1RDl1cRJ"
      },
      "source": [
        "## <a id='Preparation'></a> `Required Data Preparation`\n",
        "---\n",
        "1. Data Scaling: To locate the data point in multidimensional feature space, it would be helpful if all features are on the same scale. Hence normalization or standardization of data will help.\n",
        "\n",
        "2. Dimensionality Reduction: KNN may not work well if there are too many features. Hence dimensionality reduction techniques like feature selection, principal component analysis can be implemented.\n",
        "\n",
        "3. Missing value treatment: If out of M features one feature data is missing for a particular example in the training set then we cannot locate or calculate distance from that point. Therefore deleting that row or imputation is required."
      ]
    },
    {
      "cell_type": "markdown",
      "metadata": {
        "id": "VvlR5OfA1lbd"
      },
      "source": [
        "## <a id='Implementation'></a> `sklean Implementation`\n",
        "---"
      ]
    },
    {
      "cell_type": "code",
      "execution_count": null,
      "metadata": {
        "id": "62uWhHwx1u2q"
      },
      "outputs": [],
      "source": [
        "#First, let’s import all required libraries.\n",
        "#============================================\n",
        "import pandas as pd\n",
        "import numpy as np\n",
        "import matplotlib.pyplot as plt\n",
        "from sklearn.datasets import make_classification\n",
        "from sklearn.model_selection import train_test_split\n",
        "from sklearn.preprocessing import StandardScaler\n",
        "from sklearn.neighbors import KNeighborsClassifier \n",
        "from sklearn import metrics"
      ]
    },
    {
      "cell_type": "markdown",
      "metadata": {
        "id": "ri5NCJ8u1wDT"
      },
      "source": [
        "After loading important libraries, we create our data using sklearn.datasets with 200 samples, 8 features, and 2 classes. Then data is split into the train(80%) and test(20%) data and scaled using StandardScaler."
      ]
    },
    {
      "cell_type": "code",
      "execution_count": null,
      "metadata": {
        "colab": {
          "base_uri": "https://localhost:8080/"
        },
        "id": "wEqfGKRQ1yCn",
        "outputId": "0a99e02a-f695-4896-f711-02ca2f39c724"
      },
      "outputs": [
        {
          "data": {
            "text/plain": [
              "(200, 8)"
            ]
          },
          "execution_count": 2,
          "metadata": {},
          "output_type": "execute_result"
        }
      ],
      "source": [
        "X,Y=make_classification(n_samples= 200,n_features=8,n_informative=8,n_redundant=0,n_repeated=0,n_classes=2,random_state=14)\n",
        "X_train, X_test, y_train, y_test= train_test_split(X, Y, test_size= 0.2,random_state=32)\n",
        "sc= StandardScaler()\n",
        "sc.fit(X_train)\n",
        "X_train= sc.transform(X_train)\n",
        "sc.fit(X_test)\n",
        "X_test= sc.transform(X_test)\n",
        "X.shape"
      ]
    },
    {
      "cell_type": "markdown",
      "metadata": {
        "id": "SZxDaCZQ15Nq"
      },
      "source": [
        "For choosing the K value, we use error curves and K value with optimal variance, and bias error is chosen as K value for prediction purposes. With the error curve plotted below, we choose K=7 for the prediction "
      ]
    },
    {
      "cell_type": "code",
      "execution_count": null,
      "metadata": {
        "colab": {
          "base_uri": "https://localhost:8080/",
          "height": 296
        },
        "id": "b97eXTO6134F",
        "outputId": "9d182fa9-b97b-404a-b2a1-bfb4a65f09fe"
      },
      "outputs": [
        {
          "data": {
            "text/plain": [
              "<matplotlib.legend.Legend at 0x1a361118040>"
            ]
          },
          "execution_count": 3,
          "metadata": {},
          "output_type": "execute_result"
        },
        {
          "data": {
            "image/png": "[encoded data removed]",
            "text/plain": [
              "<Figure size 432x288 with 1 Axes>"
            ]
          },
          "metadata": {
            "needs_background": "light"
          },
          "output_type": "display_data"
        }
      ],
      "source": [
        "# Step 2: Find the value for K\n",
        "#====================================\n",
        "error1= []\n",
        "error2= []\n",
        "for k in range(1,15):\n",
        "    knn= KNeighborsClassifier(n_neighbors=k)\n",
        "    knn.fit(X_train,y_train)\n",
        "    y_pred1= knn.predict(X_train)\n",
        "    error1.append(np.mean(y_train!= y_pred1))\n",
        "    y_pred2= knn.predict(X_test)\n",
        "    error2.append(np.mean(y_test!= y_pred2))\n",
        "# plt.figure(figsize(10,5))\n",
        "plt.plot(range(1,15),error1,label=\"train\")\n",
        "plt.plot(range(1,15),error2,label=\"test\")\n",
        "plt.xlabel('k Value')\n",
        "plt.ylabel('Error')\n",
        "plt.legend()"
      ]
    },
    {
      "cell_type": "markdown",
      "metadata": {
        "id": "BE0MaFwN2AER"
      },
      "source": [
        "In step 2, we have chosen the K value to be 7. Now we substitute that value and get the accuracy score = 0.9 for the test data."
      ]
    },
    {
      "cell_type": "code",
      "execution_count": null,
      "metadata": {
        "colab": {
          "base_uri": "https://localhost:8080/"
        },
        "id": "GJwncSr22CTC",
        "outputId": "187a1022-38bc-4fd9-93c8-08622840733f"
      },
      "outputs": [
        {
          "data": {
            "text/plain": [
              "True"
            ]
          },
          "execution_count": 4,
          "metadata": {},
          "output_type": "execute_result"
        }
      ],
      "source": [
        "#Step 3: Predict:\n",
        "#======================\n",
        "knn= KNeighborsClassifier(n_neighbors=7)\n",
        "knn.fit(X_train,y_train)\n",
        "y_pred= knn.predict(X_test)\n",
        "metrics.accuracy_score(y_test,y_pred) == 0.9"
      ]
    },
    {
      "cell_type": "markdown",
      "metadata": {
        "id": "uqxCimH42DNV"
      },
      "source": [
        "## <a id='scratch'></a> `Implementation from scratch`\n",
        "---"
      ]
    },
    {
      "cell_type": "code",
      "execution_count": null,
      "metadata": {
        "id": "aTdM5lMRfKZe"
      },
      "outputs": [],
      "source": [
        "# load dataset\n",
        "#======================\n",
        "from sklearn.model_selection import train_test_split\n",
        "\n",
        "import numpy as np\n",
        "from sklearn.datasets import load_iris\n",
        "\n",
        "#Loading the Data\n",
        "iris= load_iris()"
      ]
    },
    {
      "cell_type": "code",
      "execution_count": null,
      "metadata": {
        "id": "yP1dTVFe3QID"
      },
      "outputs": [],
      "source": [
        "# Split X and Y\n",
        "#======================\n",
        "\n",
        "# Store features matrix in X\n",
        "X= iris.data\n",
        "#Store target vector in \n",
        "Y= iris.target\n",
        "\n",
        "X_train, X_test, y_train, y_test= train_test_split(X, Y, test_size= 0.2,random_state=32)"
      ]
    },
    {
      "cell_type": "markdown",
      "metadata": {
        "id": "Y-njvTec3Uib"
      },
      "source": [
        "### psudo code"
      ]
    },
    {
      "cell_type": "markdown",
      "metadata": {
        "id": "1o4WA3C-0PUH"
      },
      "source": [
        "K-nearest neighbors (KNN) algorithm uses ‘feature similarity’ to predict the values of new datapoints which further means that the new data point will be assigned a value based on how closely it matches the points in the training set. We can understand its working with the help of following steps −\n",
        "\n",
        "- Step 1 ➨ For implementing any algorithm, we need dataset. So during the first step of KNN, we must load the training as well as test data.\n",
        "\n",
        "- Step 2 ➨ Next, we need to choose the value of K i.e. the nearest data points. K can be any integer.\n",
        "\n",
        "- Step 3 ➨ For each point in the test data do the following:\n",
        "\n",
        "     * 3.1 − Calculate the distance between test data and each row of training data with the help of any of the method namely: Euclidean, Manhattan or Hamming distance. The most commonly used method to calculate distance is Euclidean.\n",
        "\n",
        "     * 3.2 − Now, based on the distance value, sort them in ascending order.\n",
        "\n",
        "     * 3.3 − Next, it will choose the top K rows from the sorted array.\n",
        "\n",
        "     * 3.4 − Now, it will assign a class to the test point based on most frequent class of these rows.\n",
        "\n",
        "- Step 4 ➨ End"
      ]
    },
    {
      "cell_type": "code",
      "execution_count": null,
      "metadata": {
        "id": "uZEcrKy9fMt1"
      },
      "outputs": [],
      "source": [
        "class MyKNN():\n",
        "    def __init__(self,X,Y,dist):\n",
        "        self.X_train = X\n",
        "        self.Y_train = Y\n",
        "        self.metric = dist\n",
        "        \n",
        "    def euclidean_distance(self,p1,p2):\n",
        "        ''' this helper function calculates the euclidean distance between two given points '''\n",
        "        # the equation : sqrt(sum((x - y)^2))\n",
        "        dist = np.sqrt(np.sum( (p1-p2)**2 ))\n",
        "        return dist\n",
        "\n",
        "    def manhattan_distance(self,p1,p2):\n",
        "        ''' this helper function calculates the manhattan distance between two given points '''\n",
        "        # the equation : sum(|x - y|)\n",
        "        dist = sum(abs(p1-p2))\n",
        "        return dist\n",
        "\n",
        "    def calc_distance(self,p1,p2,metric=\"euclidean\"):\n",
        "        ''' This function calculate the distance between two numbers based on the given distance metric \n",
        "\n",
        "        INPUTS : \n",
        "        p1 : first point or vector (numpy array)\n",
        "        p2 : second point or vector (numpy array)\n",
        "        metric : the distance metric (string)\n",
        "        Returns : \n",
        "        distance value as a float number \n",
        "        '''\n",
        "\n",
        "        if metric == \"euclidean\":\n",
        "            dist = self.euclidean_distance(p1,p2)\n",
        "        elif metric ==\"manhattan\" :\n",
        "            dist = self.manhattan_distance(p1,p2)\n",
        "\n",
        "        else :\n",
        "            print(\"you have entered invalid metric value\")\n",
        "            print(\"please Choose between 'euclidean' and 'manhattan' \")\n",
        "            raise ValueError\n",
        "        return dist\n",
        "\n",
        "    def predict(self,X,y,X_,neighbors):\n",
        "        ''' This function KNN algorithm implementation \n",
        "        Inputs :\n",
        "            X : the training features vectors \n",
        "            y : the training targets/labels vectors \n",
        "            X_ : the input features we want to calculate the call for. \n",
        "            neighbors : the numbers of naghbors to calculate on. \n",
        "            metric : the distance metric we will calculate on \n",
        "\n",
        "        Output :\n",
        "            y_ : list of the predicted classes for our input \n",
        "        '''\n",
        "\n",
        "        #create output list\n",
        "        y_ = []\n",
        "\n",
        "        #iterate over inputs \n",
        "        for p in X_ :\n",
        "            dists = []\n",
        "            #calculate the distance between each point and the training data\n",
        "            for px in X:\n",
        "                dist = self.calc_distance(p,px,metric=self.metric)\n",
        "                dists.append(dist)\n",
        "            #get the minimun k distances    \n",
        "            mins = np.argsort(dists)[:neighbors]\n",
        "\n",
        "            # get the most repeated class\n",
        "            classes = [y[i] for i in mins]\n",
        "            pred = max(set(classes), key = classes.count)\n",
        "            y_.append(pred)\n",
        "        return y_\n",
        "    "
      ]
    },
    {
      "cell_type": "code",
      "execution_count": null,
      "metadata": {
        "id": "QRCSfZhAfSZO"
      },
      "outputs": [],
      "source": [
        "#create model and predict\n",
        "#==============================\n",
        "knn = MyKNN(X,Y,\"euclidean\")\n",
        "y_ = knn.predict(X_train,y_train,X_test,7)"
      ]
    },
    {
      "cell_type": "code",
      "execution_count": null,
      "metadata": {
        "id": "KXIFEYVx905K",
        "outputId": "96677cf7-a598-4e07-8def-cb953f45eec0"
      },
      "outputs": [
        {
          "name": "stdout",
          "output_type": "stream",
          "text": [
            "0.9666666666666667\n"
          ]
        }
      ],
      "source": [
        "# Accuracy\n",
        "#==========================\n",
        "from sklearn.metrics import accuracy_score\n",
        "\n",
        "custom_model_score = accuracy_score(y_test,y_)\n",
        "\n",
        "print(custom_model_score)"
      ]
    },
    {
      "cell_type": "markdown",
      "metadata": {
        "id": "XYspSMZf-XZd"
      },
      "source": [
        "## <a id='Compaire'></a> `Compaire models`\n",
        "---"
      ]
    },
    {
      "cell_type": "markdown",
      "metadata": {
        "id": "t4mQc_fA-2gQ"
      },
      "source": [
        "#### sklearn model "
      ]
    },
    {
      "cell_type": "code",
      "execution_count": null,
      "metadata": {
        "id": "w-s1ntTlfTmQ"
      },
      "outputs": [],
      "source": [
        "# 7 kneighbors distance euclidean  \n",
        "knn= KNeighborsClassifier(n_neighbors=7,metric=\"euclidean\")\n",
        "# fit model\n",
        "knn.fit(X_train,y_train)\n",
        "#predict on test dataset\n",
        "y_pred= knn.predict(X_test)\n",
        "#get accuracy\n",
        "sklearn_model_score = metrics.accuracy_score(y_test,y_pred)"
      ]
    },
    {
      "cell_type": "code",
      "execution_count": null,
      "metadata": {
        "colab": {
          "base_uri": "https://localhost:8080/"
        },
        "id": "vWCI4Mo3fX1a",
        "outputId": "b41280db-b6cd-480a-c55c-de958d28503b"
      },
      "outputs": [
        {
          "name": "stdout",
          "output_type": "stream",
          "text": [
            "True\n"
          ]
        }
      ],
      "source": [
        "print (sklearn_model_score == custom_model_score)"
      ]
    },
    {
      "cell_type": "markdown",
      "metadata": {
        "id": "6aEg5px6fnp4"
      },
      "source": [
        "---\n",
        "# Homework\n",
        "---\n",
        "Tie break :\n",
        "\n",
        "\n",
        "Assume that you have selected the number of neighbours to be an even number, e.g., 2. For one of the neighbours, the suggested class is 1, and for the other neighbour the suggested class is 2. How would you break the tie? Write example pseudocode that does this."
      ]
    }
  ],
  "metadata": {
    "colab": {
      "collapsed_sections": [],
      "name": "ML1_S5_Exercise .ipynb",
      "provenance": [],
      "include_colab_link": true
    },
    "kernelspec": {
      "display_name": "Python 3",
      "language": "python",
      "name": "python3"
    },
    "language_info": {
      "codemirror_mode": {
        "name": "ipython",
        "version": 3
      },
      "file_extension": ".py",
      "mimetype": "text/x-python",
      "name": "python",
      "nbconvert_exporter": "python",
      "pygments_lexer": "ipython3",
      "version": "3.8.8"
    }
  },
  "nbformat": 4,
  "nbformat_minor": 0
}