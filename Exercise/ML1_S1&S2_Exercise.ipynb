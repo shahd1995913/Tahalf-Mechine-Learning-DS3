{
  "cells": [
    {
      "cell_type": "markdown",
      "metadata": {
        "id": "view-in-github",
        "colab_type": "text"
      },
      "source": [
        "<a href=\"https://colab.research.google.com/github/shahd1995913/Tahalf-Mechine-Learning-DS3/blob/main/ML1_S1%26S2_Exercise.ipynb\" target=\"_parent\"><img src=\"https://colab.research.google.com/assets/colab-badge.svg\" alt=\"Open In Colab\"/></a>"
      ]
    },
    {
      "cell_type": "markdown",
      "metadata": {
        "id": "AnJJNseT5Uoy"
      },
      "source": [
        "# ML1-S1&S2 (Linear Regression)👨🏻‍💻\n",
        "---\n",
        "\n",
        "### Agenda\n",
        "- [Linear Regression](#Linear_Regression)\n",
        "- [Simple Linear Regression (SLR)](#SLR)\n",
        "- [Error and cost Functions](#Functions)\n",
        "- [Gredient Descent](#Gredient)\n",
        "- [SLR Example](#SLR_Example)\n",
        "- [Linear regression From scratch](#LR_scratch)\n",
        "- [MLR Example](#MLR_Example)"
      ]
    },
    {
      "cell_type": "markdown",
      "metadata": {
        "id": "lU7gMLvaETBh"
      },
      "source": [
        "## <a id='Linear_Regression'></a> `Linear Regression`\n",
        "---\n",
        "Linear regression is the simplest regression algorithm that attempts to model the relationship between dependent variable and one or more independent variables by fitting a linear equation/best fit line to observed data.\n",
        "Based on the number of input features, Linear regression could be of two types:\n",
        "\n",
        "* **Simple Linear Regression (SLR)**\n",
        "* **Multiple Linear Regression (MLR)**\n",
        "\n",
        "<img src= \"https://raw.githubusercontent.com/michaelhaar/Intro-to-Linear-Regression-and-Gradient-Descent/master/Linear_regression_files/gradient_descent_example.gif\" width=500/>"
      ]
    },
    {
      "cell_type": "markdown",
      "metadata": {
        "id": "dCrHFTWVdpRl"
      },
      "source": [
        "## <a id='SLR'></a> `Simple Linear Regression (SLR)`\n",
        "---\n",
        "In Simple Linear Regression (SLR), we will have a single input variable based on which we predict the output variable. Where in Multiple Linear Regression (MLR), we predict the output based on multiple inputs.\n",
        "Input variables can also be termed as Independent/predictor variables, and the output variable is called the dependent variable.\n",
        "\n",
        "<img src=\"https://www.empirical-methods.hslu.ch/files/2017/02/regression-equation-simple-regression.png\" width=600 />\n",
        "\n",
        "This algorithm explains the linear relationship between the dependent(output) variable y and the independent(predictor) variable X using a straight line  \n",
        "```Y= B0 + B1 X.```"
      ]
    },
    {
      "cell_type": "markdown",
      "metadata": {
        "id": "nOPwa0QDdvGD"
      },
      "source": [
        "## <a id='Functions'></a> `Error and cost Functions`\n",
        "---\n",
        "Ok thats the linear Regression model , But **how do we train it ?**\n",
        "\n",
        "\n",
        "well training a model means detting its parameters so that the model best fits the training set. So we first need a measure of how well (or poorly) the model fits. \n",
        "\n",
        "**The best fit line is a line that has the least error which means the error between predicted values and actual values should be minimum.**\n",
        "\n",
        "\n",
        "- In regression, the difference between the observed value of the dependent variable `yi` and the predicted value(predicted) is called the residuals.\n",
        "\n",
        "    ```εi =  ypredicted –   yi```\n",
        "\n",
        "    where ```ypredicted =   B0 + B1 Xi```\n",
        "\n",
        "\n",
        "### Cost Function :\n",
        "---\n",
        "The cost function helps to work out the optimal values for `B0` and `B1`, which provides the best fit line for the data points.\n",
        "In Linear Regression, generally Mean Squared Error (MSE) cost function is used, which is the average of squared error that occurred between the `ypredicted` and `yi`.\n",
        "\n",
        "- We calculate **MSE** using simple linear equation **`y=mx+b`**\n",
        "\n",
        "\n",
        "<img src=https://miro.medium.com/max/1198/1*BtVajQNj29LkVySEWR_4ww.png width = 400>\n",
        "\n",
        "- then **`ŷ`** can be expanded into :\n",
        "\n",
        "<img src= https://github.com/michaelhaar/Intro-to-Linear-Regression-and-Gradient-Descent/raw/b4b446b9d884b7f840a2bddbdfecc42834799396//Linear_regression_files/sum_of_squared_errors.png width = 400>"
      ]
    },
    {
      "cell_type": "markdown",
      "metadata": {
        "id": "6thwe5wydvPV"
      },
      "source": [
        "**NOTE😉**: `Using the MSE function, we’ll update the values of` **`B0`** and **`B1`** `such that the MSE value settles at the minima.  These parameters can be determined using the gradient descent method such that the value for the cost function is minimum.`"
      ]
    },
    {
      "cell_type": "markdown",
      "metadata": {
        "id": "5pdCJbAsFWlM"
      },
      "source": [
        "## <a id='Gredient'></a>`Gredient Descent`\n",
        "---\n",
        "**So how actually we tweak the weights `B0` and `B1` ?** we will use the Algorithms that called optimizers\n",
        "\n",
        "- Gradient Descent is one of the optimization algorithms that optimize the cost function(objective function) to reach the optimal minimal solution.\n",
        "\n",
        "    - To find the optimum solution we need to reduce the cost function(MSE) for all data points. \n",
        " \n",
        "    - This is done by updating the values of B0 and B1 iteratively until we get an optimal solution.\n",
        "\n",
        " \n",
        "- A regression model optimizes the gradient descent algorithm to update the coefficients of the line by reducing the cost function by randomly selecting coefficient values and then iteratively updating the values to reach the minimum cost function\n",
        "\n",
        "So basically we are trying to find the values for b and m where the error is the smallest. Calculating the error for every single m and b value is usually very computation intensive and therefor we are using this Gradient Descent algorithm.\n",
        "\n",
        "👉 **Remember, the gradient of a function gives us the direction of the steepest ascent.**\n",
        "\n",
        "<img src=https://github.com/michaelhaar/Intro-to-Linear-Regression-and-Gradient-Descent/raw/b4b446b9d884b7f840a2bddbdfecc42834799396//Linear_regression_files/gradient_descent_illustration.png width = 600>\n",
        "\n",
        "**So in short: `The gradient of our error function tells us how to update our optimization parameters. The gradient can be calculated as follows:`**\n",
        "\n",
        "<img src=\"https://github.com/michaelhaar/Intro-to-Linear-Regression-and-Gradient-Descent/raw/b4b446b9d884b7f840a2bddbdfecc42834799396//Linear_regression_files/partial_error_derivatives.png\" width = 400>\n",
        "\n",
        "For more details check : [reference link](https://towardsdatascience.com/gradient-descent-explained-9b953fc0d2c)"
      ]
    },
    {
      "cell_type": "markdown",
      "metadata": {
        "id": "vu2kS94uSBdk"
      },
      "source": [
        "## <a id='SLR_Example'></a>`SLR Example`\n",
        "---\n",
        "- Lets start with an example implementing Simple Linear regression using sklearn.\n",
        "\n",
        "- The dataset we will be using is a **simple students scores dataset**, with one feature (studying Hours) and the `output label` is the score student achieved."
      ]
    },
    {
      "cell_type": "code",
      "execution_count": 1,
      "metadata": {
        "id": "R9wmD1q3jcYC"
      },
      "outputs": [],
      "source": [
        "# Import required libraries\n",
        "import numpy as np\n",
        "import matplotlib.pyplot as plt\n",
        "import pandas as pd\n",
        "# to make sure all students have the same results \n",
        "random_val = 123\n",
        "#import the train test split function\n",
        "from sklearn.model_selection import train_test_split\n",
        "#import the linear regression function\n",
        "from sklearn.linear_model import LinearRegression\n",
        "#import metrics\n",
        "from sklearn import metrics"
      ]
    },
    {
      "cell_type": "markdown",
      "metadata": {
        "id": "x0bHiLjdjt0O"
      },
      "source": [
        "### Load the dataset and perform some investigations\n",
        "---"
      ]
    },
    {
      "cell_type": "code",
      "execution_count": 2,
      "metadata": {
        "id": "pwZBsxWFkHOE",
        "colab": {
          "base_uri": "https://localhost:8080/",
          "height": 206
        },
        "outputId": "8b5b7b31-77db-4907-9fe9-123ab1af4915"
      },
      "outputs": [
        {
          "output_type": "execute_result",
          "data": {
            "text/html": [
              "\n",
              "  <div id=\"df-eac9c398-1564-46a2-82f5-c045c3646fa8\">\n",
              "    <div class=\"colab-df-container\">\n",
              "      <div>\n",
              "<style scoped>\n",
              "    .dataframe tbody tr th:only-of-type {\n",
              "        vertical-align: middle;\n",
              "    }\n",
              "\n",
              "    .dataframe tbody tr th {\n",
              "        vertical-align: top;\n",
              "    }\n",
              "\n",
              "    .dataframe thead th {\n",
              "        text-align: right;\n",
              "    }\n",
              "</style>\n",
              "<table border=\"1\" class=\"dataframe\">\n",
              "  <thead>\n",
              "    <tr style=\"text-align: right;\">\n",
              "      <th></th>\n",
              "      <th>Hours</th>\n",
              "      <th>Scores</th>\n",
              "    </tr>\n",
              "  </thead>\n",
              "  <tbody>\n",
              "    <tr>\n",
              "      <th>0</th>\n",
              "      <td>2.5</td>\n",
              "      <td>21</td>\n",
              "    </tr>\n",
              "    <tr>\n",
              "      <th>1</th>\n",
              "      <td>5.1</td>\n",
              "      <td>47</td>\n",
              "    </tr>\n",
              "    <tr>\n",
              "      <th>2</th>\n",
              "      <td>3.2</td>\n",
              "      <td>27</td>\n",
              "    </tr>\n",
              "    <tr>\n",
              "      <th>3</th>\n",
              "      <td>8.5</td>\n",
              "      <td>75</td>\n",
              "    </tr>\n",
              "    <tr>\n",
              "      <th>4</th>\n",
              "      <td>3.5</td>\n",
              "      <td>30</td>\n",
              "    </tr>\n",
              "  </tbody>\n",
              "</table>\n",
              "</div>\n",
              "      <button class=\"colab-df-convert\" onclick=\"convertToInteractive('df-eac9c398-1564-46a2-82f5-c045c3646fa8')\"\n",
              "              title=\"Convert this dataframe to an interactive table.\"\n",
              "              style=\"display:none;\">\n",
              "        \n",
              "  <svg xmlns=\"http://www.w3.org/2000/svg\" height=\"24px\"viewBox=\"0 0 24 24\"\n",
              "       width=\"24px\">\n",
              "    <path d=\"M0 0h24v24H0V0z\" fill=\"none\"/>\n",
              "    <path d=\"M18.56 5.44l.94 2.06.94-2.06 2.06-.94-2.06-.94-.94-2.06-.94 2.06-2.06.94zm-11 1L8.5 8.5l.94-2.06 2.06-.94-2.06-.94L8.5 2.5l-.94 2.06-2.06.94zm10 10l.94 2.06.94-2.06 2.06-.94-2.06-.94-.94-2.06-.94 2.06-2.06.94z\"/><path d=\"M17.41 7.96l-1.37-1.37c-.4-.4-.92-.59-1.43-.59-.52 0-1.04.2-1.43.59L10.3 9.45l-7.72 7.72c-.78.78-.78 2.05 0 2.83L4 21.41c.39.39.9.59 1.41.59.51 0 1.02-.2 1.41-.59l7.78-7.78 2.81-2.81c.8-.78.8-2.07 0-2.86zM5.41 20L4 18.59l7.72-7.72 1.47 1.35L5.41 20z\"/>\n",
              "  </svg>\n",
              "      </button>\n",
              "      \n",
              "  <style>\n",
              "    .colab-df-container {\n",
              "      display:flex;\n",
              "      flex-wrap:wrap;\n",
              "      gap: 12px;\n",
              "    }\n",
              "\n",
              "    .colab-df-convert {\n",
              "      background-color: #E8F0FE;\n",
              "      border: none;\n",
              "      border-radius: 50%;\n",
              "      cursor: pointer;\n",
              "      display: none;\n",
              "      fill: #1967D2;\n",
              "      height: 32px;\n",
              "      padding: 0 0 0 0;\n",
              "      width: 32px;\n",
              "    }\n",
              "\n",
              "    .colab-df-convert:hover {\n",
              "      background-color: #E2EBFA;\n",
              "      box-shadow: 0px 1px 2px rgba(60, 64, 67, 0.3), 0px 1px 3px 1px rgba(60, 64, 67, 0.15);\n",
              "      fill: #174EA6;\n",
              "    }\n",
              "\n",
              "    [theme=dark] .colab-df-convert {\n",
              "      background-color: #3B4455;\n",
              "      fill: #D2E3FC;\n",
              "    }\n",
              "\n",
              "    [theme=dark] .colab-df-convert:hover {\n",
              "      background-color: #434B5C;\n",
              "      box-shadow: 0px 1px 3px 1px rgba(0, 0, 0, 0.15);\n",
              "      filter: drop-shadow(0px 1px 2px rgba(0, 0, 0, 0.3));\n",
              "      fill: #FFFFFF;\n",
              "    }\n",
              "  </style>\n",
              "\n",
              "      <script>\n",
              "        const buttonEl =\n",
              "          document.querySelector('#df-eac9c398-1564-46a2-82f5-c045c3646fa8 button.colab-df-convert');\n",
              "        buttonEl.style.display =\n",
              "          google.colab.kernel.accessAllowed ? 'block' : 'none';\n",
              "\n",
              "        async function convertToInteractive(key) {\n",
              "          const element = document.querySelector('#df-eac9c398-1564-46a2-82f5-c045c3646fa8');\n",
              "          const dataTable =\n",
              "            await google.colab.kernel.invokeFunction('convertToInteractive',\n",
              "                                                     [key], {});\n",
              "          if (!dataTable) return;\n",
              "\n",
              "          const docLinkHtml = 'Like what you see? Visit the ' +\n",
              "            '<a target=\"_blank\" href=https://colab.research.google.com/notebooks/data_table.ipynb>data table notebook</a>'\n",
              "            + ' to learn more about interactive tables.';\n",
              "          element.innerHTML = '';\n",
              "          dataTable['output_type'] = 'display_data';\n",
              "          await google.colab.output.renderOutput(dataTable, element);\n",
              "          const docLink = document.createElement('div');\n",
              "          docLink.innerHTML = docLinkHtml;\n",
              "          element.appendChild(docLink);\n",
              "        }\n",
              "      </script>\n",
              "    </div>\n",
              "  </div>\n",
              "  "
            ],
            "text/plain": [
              "   Hours  Scores\n",
              "0    2.5      21\n",
              "1    5.1      47\n",
              "2    3.2      27\n",
              "3    8.5      75\n",
              "4    3.5      30"
            ]
          },
          "metadata": {},
          "execution_count": 2
        }
      ],
      "source": [
        "dataset_path = '/content/student_scores.csv'\n",
        "dataset = pd.read_csv(dataset_path)\n",
        "dataset.head()"
      ]
    },
    {
      "cell_type": "code",
      "execution_count": 3,
      "metadata": {
        "colab": {
          "base_uri": "https://localhost:8080/"
        },
        "id": "m5LvkdRQnWWE",
        "outputId": "940f1e63-2b07-44ec-f8ba-4892b3202d84"
      },
      "outputs": [
        {
          "output_type": "execute_result",
          "data": {
            "text/plain": [
              "(25, 2)"
            ]
          },
          "metadata": {},
          "execution_count": 3
        }
      ],
      "source": [
        "dataset.shape"
      ]
    },
    {
      "cell_type": "code",
      "execution_count": 4,
      "metadata": {
        "colab": {
          "base_uri": "https://localhost:8080/",
          "height": 300
        },
        "id": "dUjCzku9mt7G",
        "outputId": "5837b4f3-e0f3-4b75-c374-4c174e9b97b8"
      },
      "outputs": [
        {
          "output_type": "execute_result",
          "data": {
            "text/html": [
              "\n",
              "  <div id=\"df-9a475030-d992-47a4-85f4-6156a1c7fd60\">\n",
              "    <div class=\"colab-df-container\">\n",
              "      <div>\n",
              "<style scoped>\n",
              "    .dataframe tbody tr th:only-of-type {\n",
              "        vertical-align: middle;\n",
              "    }\n",
              "\n",
              "    .dataframe tbody tr th {\n",
              "        vertical-align: top;\n",
              "    }\n",
              "\n",
              "    .dataframe thead th {\n",
              "        text-align: right;\n",
              "    }\n",
              "</style>\n",
              "<table border=\"1\" class=\"dataframe\">\n",
              "  <thead>\n",
              "    <tr style=\"text-align: right;\">\n",
              "      <th></th>\n",
              "      <th>Hours</th>\n",
              "      <th>Scores</th>\n",
              "    </tr>\n",
              "  </thead>\n",
              "  <tbody>\n",
              "    <tr>\n",
              "      <th>count</th>\n",
              "      <td>25.000000</td>\n",
              "      <td>25.000000</td>\n",
              "    </tr>\n",
              "    <tr>\n",
              "      <th>mean</th>\n",
              "      <td>5.012000</td>\n",
              "      <td>51.480000</td>\n",
              "    </tr>\n",
              "    <tr>\n",
              "      <th>std</th>\n",
              "      <td>2.525094</td>\n",
              "      <td>25.286887</td>\n",
              "    </tr>\n",
              "    <tr>\n",
              "      <th>min</th>\n",
              "      <td>1.100000</td>\n",
              "      <td>17.000000</td>\n",
              "    </tr>\n",
              "    <tr>\n",
              "      <th>25%</th>\n",
              "      <td>2.700000</td>\n",
              "      <td>30.000000</td>\n",
              "    </tr>\n",
              "    <tr>\n",
              "      <th>50%</th>\n",
              "      <td>4.800000</td>\n",
              "      <td>47.000000</td>\n",
              "    </tr>\n",
              "    <tr>\n",
              "      <th>75%</th>\n",
              "      <td>7.400000</td>\n",
              "      <td>75.000000</td>\n",
              "    </tr>\n",
              "    <tr>\n",
              "      <th>max</th>\n",
              "      <td>9.200000</td>\n",
              "      <td>95.000000</td>\n",
              "    </tr>\n",
              "  </tbody>\n",
              "</table>\n",
              "</div>\n",
              "      <button class=\"colab-df-convert\" onclick=\"convertToInteractive('df-9a475030-d992-47a4-85f4-6156a1c7fd60')\"\n",
              "              title=\"Convert this dataframe to an interactive table.\"\n",
              "              style=\"display:none;\">\n",
              "        \n",
              "  <svg xmlns=\"http://www.w3.org/2000/svg\" height=\"24px\"viewBox=\"0 0 24 24\"\n",
              "       width=\"24px\">\n",
              "    <path d=\"M0 0h24v24H0V0z\" fill=\"none\"/>\n",
              "    <path d=\"M18.56 5.44l.94 2.06.94-2.06 2.06-.94-2.06-.94-.94-2.06-.94 2.06-2.06.94zm-11 1L8.5 8.5l.94-2.06 2.06-.94-2.06-.94L8.5 2.5l-.94 2.06-2.06.94zm10 10l.94 2.06.94-2.06 2.06-.94-2.06-.94-.94-2.06-.94 2.06-2.06.94z\"/><path d=\"M17.41 7.96l-1.37-1.37c-.4-.4-.92-.59-1.43-.59-.52 0-1.04.2-1.43.59L10.3 9.45l-7.72 7.72c-.78.78-.78 2.05 0 2.83L4 21.41c.39.39.9.59 1.41.59.51 0 1.02-.2 1.41-.59l7.78-7.78 2.81-2.81c.8-.78.8-2.07 0-2.86zM5.41 20L4 18.59l7.72-7.72 1.47 1.35L5.41 20z\"/>\n",
              "  </svg>\n",
              "      </button>\n",
              "      \n",
              "  <style>\n",
              "    .colab-df-container {\n",
              "      display:flex;\n",
              "      flex-wrap:wrap;\n",
              "      gap: 12px;\n",
              "    }\n",
              "\n",
              "    .colab-df-convert {\n",
              "      background-color: #E8F0FE;\n",
              "      border: none;\n",
              "      border-radius: 50%;\n",
              "      cursor: pointer;\n",
              "      display: none;\n",
              "      fill: #1967D2;\n",
              "      height: 32px;\n",
              "      padding: 0 0 0 0;\n",
              "      width: 32px;\n",
              "    }\n",
              "\n",
              "    .colab-df-convert:hover {\n",
              "      background-color: #E2EBFA;\n",
              "      box-shadow: 0px 1px 2px rgba(60, 64, 67, 0.3), 0px 1px 3px 1px rgba(60, 64, 67, 0.15);\n",
              "      fill: #174EA6;\n",
              "    }\n",
              "\n",
              "    [theme=dark] .colab-df-convert {\n",
              "      background-color: #3B4455;\n",
              "      fill: #D2E3FC;\n",
              "    }\n",
              "\n",
              "    [theme=dark] .colab-df-convert:hover {\n",
              "      background-color: #434B5C;\n",
              "      box-shadow: 0px 1px 3px 1px rgba(0, 0, 0, 0.15);\n",
              "      filter: drop-shadow(0px 1px 2px rgba(0, 0, 0, 0.3));\n",
              "      fill: #FFFFFF;\n",
              "    }\n",
              "  </style>\n",
              "\n",
              "      <script>\n",
              "        const buttonEl =\n",
              "          document.querySelector('#df-9a475030-d992-47a4-85f4-6156a1c7fd60 button.colab-df-convert');\n",
              "        buttonEl.style.display =\n",
              "          google.colab.kernel.accessAllowed ? 'block' : 'none';\n",
              "\n",
              "        async function convertToInteractive(key) {\n",
              "          const element = document.querySelector('#df-9a475030-d992-47a4-85f4-6156a1c7fd60');\n",
              "          const dataTable =\n",
              "            await google.colab.kernel.invokeFunction('convertToInteractive',\n",
              "                                                     [key], {});\n",
              "          if (!dataTable) return;\n",
              "\n",
              "          const docLinkHtml = 'Like what you see? Visit the ' +\n",
              "            '<a target=\"_blank\" href=https://colab.research.google.com/notebooks/data_table.ipynb>data table notebook</a>'\n",
              "            + ' to learn more about interactive tables.';\n",
              "          element.innerHTML = '';\n",
              "          dataTable['output_type'] = 'display_data';\n",
              "          await google.colab.output.renderOutput(dataTable, element);\n",
              "          const docLink = document.createElement('div');\n",
              "          docLink.innerHTML = docLinkHtml;\n",
              "          element.appendChild(docLink);\n",
              "        }\n",
              "      </script>\n",
              "    </div>\n",
              "  </div>\n",
              "  "
            ],
            "text/plain": [
              "           Hours     Scores\n",
              "count  25.000000  25.000000\n",
              "mean    5.012000  51.480000\n",
              "std     2.525094  25.286887\n",
              "min     1.100000  17.000000\n",
              "25%     2.700000  30.000000\n",
              "50%     4.800000  47.000000\n",
              "75%     7.400000  75.000000\n",
              "max     9.200000  95.000000"
            ]
          },
          "metadata": {},
          "execution_count": 4
        }
      ],
      "source": [
        "dataset.describe()"
      ]
    },
    {
      "cell_type": "code",
      "execution_count": 5,
      "metadata": {
        "colab": {
          "base_uri": "https://localhost:8080/",
          "height": 295
        },
        "id": "zflThD45lK3g",
        "outputId": "50e0ddeb-3779-4609-f90f-57ed5b2fb5d8"
      },
      "outputs": [
        {
          "output_type": "display_data",
          "data": {
            "image/png": "[encoded data removed]",
            "text/plain": [
              "<Figure size 432x288 with 1 Axes>"
            ]
          },
          "metadata": {
            "needs_background": "light"
          }
        }
      ],
      "source": [
        "dataset.plot(x='Hours', y='Scores', style='o')\n",
        "plt.title('Hours vs Percentage')\n",
        "plt.xlabel('Hours Studied')\n",
        "plt.ylabel('Percentage Score')\n",
        "plt.show()"
      ]
    },
    {
      "cell_type": "code",
      "execution_count": 6,
      "metadata": {
        "id": "veH244SEnOIk"
      },
      "outputs": [],
      "source": [
        "# select the feature in a variable called X \n",
        "X = dataset.iloc[:, :-1].values\n",
        "# select the output into a variable called y \n",
        "y = dataset.iloc[:, 1].values"
      ]
    },
    {
      "cell_type": "markdown",
      "metadata": {
        "id": "azUPNVUHjt2Y"
      },
      "source": [
        "### split the dataset into train and test\n",
        "---\n",
        "<img src=\"https://www.researchgate.net/profile/Brian-Mwandau/publication/325870973/figure/fig6/AS:639531594285060@1529487622235/Train-Test-Data-Split.png\" width = 400>"
      ]
    },
    {
      "cell_type": "code",
      "execution_count": 7,
      "metadata": {
        "id": "ttkbmbjDnCw4"
      },
      "outputs": [],
      "source": [
        "#split data to 75% train and 25% test\n",
        "X_train, X_test, y_train, y_test = train_test_split(X, y, test_size =0.25, random_state = random_val)"
      ]
    },
    {
      "cell_type": "markdown",
      "metadata": {
        "id": "Ld-BWe4Hjt6s"
      },
      "source": [
        "### Create model object and fit the data\n",
        "---"
      ]
    },
    {
      "cell_type": "code",
      "execution_count": 10,
      "metadata": {
        "colab": {
          "base_uri": "https://localhost:8080/"
        },
        "id": "EyBQU9Vxjg-K",
        "outputId": "f08a9939-3a6d-47ba-a184-dd301d8ca7a4"
      },
      "outputs": [
        {
          "output_type": "execute_result",
          "data": {
            "text/plain": [
              "LinearRegression()"
            ]
          },
          "metadata": {},
          "execution_count": 10
        }
      ],
      "source": [
        "# make an object initialization of Linear regression\n",
        "model = LinearRegression()\n",
        "# fit the train data\n",
        "model.fit(X_train, y_train)"
      ]
    },
    {
      "cell_type": "markdown",
      "metadata": {
        "id": "sSozmsHy0tG0"
      },
      "source": [
        "### visualize the fitted line for training data\n",
        "---"
      ]
    },
    {
      "cell_type": "code",
      "execution_count": 9,
      "metadata": {
        "colab": {
          "base_uri": "https://localhost:8080/",
          "height": 295
        },
        "id": "7V7m8xn8nghP",
        "outputId": "c2e08586-f61e-4aed-9c79-7d9222d209e9"
      },
      "outputs": [
        {
          "output_type": "display_data",
          "data": {
            "image/png": "[encoded data removed]",
            "text/plain": [
              "<Figure size 432x288 with 1 Axes>"
            ]
          },
          "metadata": {
            "needs_background": "light"
          }
        }
      ],
      "source": [
        "plt.scatter(X_train, y_train, color = 'red')\n",
        "plt.plot(X_train, model.predict(X_train), color = 'blue')\n",
        "plt.title('Hours vs Percentage')\n",
        "plt.xlabel('Study Hours')\n",
        "plt.ylabel('Scores percentage')\n",
        "plt.show()"
      ]
    },
    {
      "cell_type": "markdown",
      "metadata": {
        "id": "jMVdX0TKnnHA"
      },
      "source": [
        "### predict and visualize test data\n",
        "---"
      ]
    },
    {
      "cell_type": "code",
      "execution_count": 11,
      "metadata": {
        "id": "dtCoxUfInqA8"
      },
      "outputs": [],
      "source": [
        "y_pred = model.predict(X_test)"
      ]
    },
    {
      "cell_type": "code",
      "execution_count": 12,
      "metadata": {
        "colab": {
          "base_uri": "https://localhost:8080/",
          "height": 295
        },
        "id": "ecAbSC96nsAC",
        "outputId": "3cc5ca7f-5198-4c64-8631-4634dabf2501"
      },
      "outputs": [
        {
          "output_type": "display_data",
          "data": {
            "image/png": "[encoded data removed]",
            "text/plain": [
              "<Figure size 432x288 with 1 Axes>"
            ]
          },
          "metadata": {
            "needs_background": "light"
          }
        }
      ],
      "source": [
        "# Visualising the Test set results\n",
        "plt.scatter(X_test, y_test, color = 'red')\n",
        "plt.plot(X_train, model.predict(X_train), color = 'blue')\n",
        "plt.title('Hours vs Percentage')\n",
        "plt.xlabel('Study Hours')\n",
        "plt.ylabel('Scores percentage')\n",
        "plt.show()"
      ]
    },
    {
      "cell_type": "markdown",
      "metadata": {
        "id": "CrOZPkpf1fps"
      },
      "source": [
        "### Model Error \n",
        "---\n",
        "**We will be presenting the Error of our fitted model using (MSE)**"
      ]
    },
    {
      "cell_type": "code",
      "execution_count": 20,
      "metadata": {
        "id": "OJVbrAUzvUe7",
        "colab": {
          "base_uri": "https://localhost:8080/"
        },
        "outputId": "177b06bb-21ce-45ee-ec28-adebe2cb408e"
      },
      "outputs": [
        {
          "output_type": "stream",
          "name": "stdout",
          "text": [
            "23.019217337139764\n"
          ]
        }
      ],
      "source": [
        "# call the mean  squared error \n",
        "from sklearn.metrics import mean_squared_error\n",
        "my_MSE = mean_squared_error(y_test,y_pred)\n",
        "print(my_MSE)"
      ]
    },
    {
      "cell_type": "markdown",
      "metadata": {
        "id": "85BYqDb1mMdi"
      },
      "source": [
        "### Now Your Turn \n",
        "---\n",
        "Create **`MSE`** from scratch called `custom_mse`, make sure that it returns the same result\n"
      ]
    },
    {
      "cell_type": "code",
      "execution_count": 22,
      "metadata": {
        "id": "DsLHyuZWwgsK",
        "colab": {
          "base_uri": "https://localhost:8080/"
        },
        "outputId": "57d0cd73-fab2-42d6-cf8c-4ca84486a05b"
      },
      "outputs": [
        {
          "output_type": "execute_result",
          "data": {
            "text/plain": [
              "23.019217337139764"
            ]
          },
          "metadata": {},
          "execution_count": 22
        }
      ],
      "source": [
        "###################### Exercise ##########################\n",
        "### Start Your Code Here\n",
        " ### MSE = (1/n) * Σ (actual – prediction)2\n",
        "custom_mse = np.square(np.subtract(y_test,y_pred)).mean()\n",
        "custom_mse\n",
        "### End Your Code Here"
      ]
    },
    {
      "cell_type": "code",
      "execution_count": 23,
      "metadata": {
        "colab": {
          "base_uri": "https://localhost:8080/"
        },
        "id": "QiM6KFsB4H11",
        "outputId": "4a34df82-8ce1-49b3-f66b-bb0619fdd95f"
      },
      "outputs": [
        {
          "output_type": "stream",
          "name": "stdout",
          "text": [
            "Well Done \n"
          ]
        }
      ],
      "source": [
        "if sk_MSE == my_MSE :\n",
        "    print( \"Well Done \")\n",
        "else :\n",
        "    print(\"Try again\")\n"
      ]
    },
    {
      "cell_type": "markdown",
      "metadata": {
        "id": "KWhj3aaQl_Lo"
      },
      "source": [
        "### Model score\n",
        "---\n",
        "Using **`Coefficient of Determination`** or **`R-Squared (R2)`** \n",
        "\n",
        "- R-Squared is a number that explains the amount of variation that is explained/captured by the developed model. It always ranges between 0 & 1 . Overall, the higher the value of R-squared, the better the model fits the data.\n",
        "\n",
        "    - Mathematically it can be represented as: **R2 = 1 – ( RSS/TSS )**\n",
        "\n",
        "\n",
        "- Residual sum of Squares (RSS) is defined as the sum of squares of the residual for each data point in the plot/data. It is the measure of the difference between the expected and the actual observed output.\n",
        "\n",
        "\n",
        "- Total Sum of Squares (TSS) is defined as the sum of errors of the data points from the mean of the response variable.\n",
        "\n",
        "    - Mathematically TSS is where `y hat` is the mean of the sample data points.\n",
        "    \n",
        "\n",
        "<img src=\"./imgs/R2.png\" width = 800>"
      ]
    },
    {
      "cell_type": "code",
      "execution_count": 24,
      "metadata": {
        "colab": {
          "base_uri": "https://localhost:8080/"
        },
        "id": "GT65BmgEl-Su",
        "outputId": "80bb56c3-c9fd-4c86-ae7a-12abd46546af"
      },
      "outputs": [
        {
          "output_type": "execute_result",
          "data": {
            "text/plain": [
              "0.9593798023076978"
            ]
          },
          "metadata": {},
          "execution_count": 24
        }
      ],
      "source": [
        "# lets check the model r2 score on the test dataset \n",
        "model.score(X_test,y_test)"
      ]
    },
    {
      "cell_type": "markdown",
      "metadata": {
        "id": "VJ3PDJtrUf1H"
      },
      "source": [
        "## <a id='LR_scratch'></a>`Linear regression From scratch`\n",
        "---"
      ]
    },
    {
      "cell_type": "code",
      "execution_count": 25,
      "metadata": {
        "id": "LgFeNwcu1Qpq"
      },
      "outputs": [],
      "source": [
        "class LinearRegression:\n",
        "    def __init__(self, learning_rate=0.0001, n_iters=1000):\n",
        "        self.lr = learning_rate\n",
        "        self.n_iters = n_iters\n",
        "        self.weights = None\n",
        "        self.bias = None\n",
        "\n",
        "    def fit(self, X, y):\n",
        "        n_samples, n_features = X.shape\n",
        "        print(X.shape)\n",
        "        # init parameters start with zeros ? or random numbers ?\n",
        "        # self.weights = np.zeros(n_features) # zero initialization\n",
        "        # self.weights = np.random.uniform(size=n_features) # uniform dest\n",
        "        self.weights = np.random.normal(size=n_features) # normal dest\n",
        "        self.bias = 0\n",
        "\n",
        "        # gradient descent\n",
        "        for _ in range(self.n_iters):\n",
        "            y_predicted = np.dot(X, self.weights) + self.bias\n",
        "            \n",
        "            # compute gradients\n",
        "            dw = (-2 / n_samples) * np.dot(X.T, (y_predicted - y) )\n",
        "            db = (-2 / n_samples) * np.sum(y_predicted - y)\n",
        "            # update parameters\n",
        "            self.weights -= self.lr * dw\n",
        "            self.bias -= self.lr * db\n",
        "\n",
        "    def predict(self, X):\n",
        "        y_ = np.dot(X, self.weights) + self.bias\n",
        "        \n",
        "        return y_"
      ]
    },
    {
      "cell_type": "code",
      "execution_count": 26,
      "metadata": {
        "colab": {
          "base_uri": "https://localhost:8080/"
        },
        "id": "zITY94JOL7nO",
        "outputId": "aaf19785-1323-4b48-f6f2-a850fa755dc5"
      },
      "outputs": [
        {
          "output_type": "stream",
          "name": "stdout",
          "text": [
            "(18, 1)\n"
          ]
        }
      ],
      "source": [
        "regressor = LinearRegression(learning_rate=0.000000001, n_iters=100)\n",
        "regressor.fit(X_train, y_train)\n"
      ]
    },
    {
      "cell_type": "markdown",
      "metadata": {
        "id": "48gnvoXW31eQ"
      },
      "source": [
        "## <a id='MLR_Example'></a>MLR Example\n",
        "---\n",
        "- Multiple linear regression is a technique to understand the relationship between a single dependent variable and multiple independent variables.\n",
        "\n",
        "- The formulation for multiple linear regression is also similar to simple linear regression with the small change that instead of having one beta variable,\n",
        "\n",
        "**You will now have betas for all the variables used. The formula is given as:**\n",
        "` Y = B0 + B1X1 + B2X2 + … + BpXp + ε `\n",
        "\n",
        "<img src=\"https://miro.medium.com/max/1187/1*jOjxZ5g0RFJN0PqdR-G-Ug.png\" width=600>"
      ]
    },
    {
      "cell_type": "markdown",
      "metadata": {
        "id": "03-yi_tBX5vP"
      },
      "source": [
        "⚫ **Here is an example for the fitting process for a linear regression using an optimizer such as gredient descent.**\n",
        "\n",
        "**This graph only contains two features for the simplicity of visualization.**\n",
        "<img src=\"https://miro.medium.com/max/936/1*o_ZrNQXcd9sUEqfSRti8LQ.gif\" width=600>\n"
      ]
    },
    {
      "cell_type": "markdown",
      "metadata": {
        "id": "eRNVfvBbcGK7"
      },
      "source": [
        "### Dataset \n",
        "---\n",
        "We will be using `startups` dataset. \n",
        "\n",
        "envestigate the dataset and find out how many feature the dataset has. "
      ]
    },
    {
      "cell_type": "code",
      "execution_count": 28,
      "metadata": {
        "colab": {
          "base_uri": "https://localhost:8080/",
          "height": 206
        },
        "id": "FVFHzGy_e0IZ",
        "outputId": "ad0a2560-f351-4395-bb7e-65d95bc40341"
      },
      "outputs": [
        {
          "output_type": "execute_result",
          "data": {
            "text/html": [
              "\n",
              "  <div id=\"df-1a5f449d-5305-404a-be25-4672fa0f5a89\">\n",
              "    <div class=\"colab-df-container\">\n",
              "      <div>\n",
              "<style scoped>\n",
              "    .dataframe tbody tr th:only-of-type {\n",
              "        vertical-align: middle;\n",
              "    }\n",
              "\n",
              "    .dataframe tbody tr th {\n",
              "        vertical-align: top;\n",
              "    }\n",
              "\n",
              "    .dataframe thead th {\n",
              "        text-align: right;\n",
              "    }\n",
              "</style>\n",
              "<table border=\"1\" class=\"dataframe\">\n",
              "  <thead>\n",
              "    <tr style=\"text-align: right;\">\n",
              "      <th></th>\n",
              "      <th>R&amp;D Spend</th>\n",
              "      <th>Administration</th>\n",
              "      <th>Marketing Spend</th>\n",
              "      <th>State</th>\n",
              "      <th>Profit</th>\n",
              "    </tr>\n",
              "  </thead>\n",
              "  <tbody>\n",
              "    <tr>\n",
              "      <th>0</th>\n",
              "      <td>165349.20</td>\n",
              "      <td>136897.80</td>\n",
              "      <td>471784.10</td>\n",
              "      <td>New York</td>\n",
              "      <td>192261.83</td>\n",
              "    </tr>\n",
              "    <tr>\n",
              "      <th>1</th>\n",
              "      <td>162597.70</td>\n",
              "      <td>151377.59</td>\n",
              "      <td>443898.53</td>\n",
              "      <td>California</td>\n",
              "      <td>191792.06</td>\n",
              "    </tr>\n",
              "    <tr>\n",
              "      <th>2</th>\n",
              "      <td>153441.51</td>\n",
              "      <td>101145.55</td>\n",
              "      <td>407934.54</td>\n",
              "      <td>Florida</td>\n",
              "      <td>191050.39</td>\n",
              "    </tr>\n",
              "    <tr>\n",
              "      <th>3</th>\n",
              "      <td>144372.41</td>\n",
              "      <td>118671.85</td>\n",
              "      <td>383199.62</td>\n",
              "      <td>New York</td>\n",
              "      <td>182901.99</td>\n",
              "    </tr>\n",
              "    <tr>\n",
              "      <th>4</th>\n",
              "      <td>142107.34</td>\n",
              "      <td>91391.77</td>\n",
              "      <td>366168.42</td>\n",
              "      <td>Florida</td>\n",
              "      <td>166187.94</td>\n",
              "    </tr>\n",
              "  </tbody>\n",
              "</table>\n",
              "</div>\n",
              "      <button class=\"colab-df-convert\" onclick=\"convertToInteractive('df-1a5f449d-5305-404a-be25-4672fa0f5a89')\"\n",
              "              title=\"Convert this dataframe to an interactive table.\"\n",
              "              style=\"display:none;\">\n",
              "        \n",
              "  <svg xmlns=\"http://www.w3.org/2000/svg\" height=\"24px\"viewBox=\"0 0 24 24\"\n",
              "       width=\"24px\">\n",
              "    <path d=\"M0 0h24v24H0V0z\" fill=\"none\"/>\n",
              "    <path d=\"M18.56 5.44l.94 2.06.94-2.06 2.06-.94-2.06-.94-.94-2.06-.94 2.06-2.06.94zm-11 1L8.5 8.5l.94-2.06 2.06-.94-2.06-.94L8.5 2.5l-.94 2.06-2.06.94zm10 10l.94 2.06.94-2.06 2.06-.94-2.06-.94-.94-2.06-.94 2.06-2.06.94z\"/><path d=\"M17.41 7.96l-1.37-1.37c-.4-.4-.92-.59-1.43-.59-.52 0-1.04.2-1.43.59L10.3 9.45l-7.72 7.72c-.78.78-.78 2.05 0 2.83L4 21.41c.39.39.9.59 1.41.59.51 0 1.02-.2 1.41-.59l7.78-7.78 2.81-2.81c.8-.78.8-2.07 0-2.86zM5.41 20L4 18.59l7.72-7.72 1.47 1.35L5.41 20z\"/>\n",
              "  </svg>\n",
              "      </button>\n",
              "      \n",
              "  <style>\n",
              "    .colab-df-container {\n",
              "      display:flex;\n",
              "      flex-wrap:wrap;\n",
              "      gap: 12px;\n",
              "    }\n",
              "\n",
              "    .colab-df-convert {\n",
              "      background-color: #E8F0FE;\n",
              "      border: none;\n",
              "      border-radius: 50%;\n",
              "      cursor: pointer;\n",
              "      display: none;\n",
              "      fill: #1967D2;\n",
              "      height: 32px;\n",
              "      padding: 0 0 0 0;\n",
              "      width: 32px;\n",
              "    }\n",
              "\n",
              "    .colab-df-convert:hover {\n",
              "      background-color: #E2EBFA;\n",
              "      box-shadow: 0px 1px 2px rgba(60, 64, 67, 0.3), 0px 1px 3px 1px rgba(60, 64, 67, 0.15);\n",
              "      fill: #174EA6;\n",
              "    }\n",
              "\n",
              "    [theme=dark] .colab-df-convert {\n",
              "      background-color: #3B4455;\n",
              "      fill: #D2E3FC;\n",
              "    }\n",
              "\n",
              "    [theme=dark] .colab-df-convert:hover {\n",
              "      background-color: #434B5C;\n",
              "      box-shadow: 0px 1px 3px 1px rgba(0, 0, 0, 0.15);\n",
              "      filter: drop-shadow(0px 1px 2px rgba(0, 0, 0, 0.3));\n",
              "      fill: #FFFFFF;\n",
              "    }\n",
              "  </style>\n",
              "\n",
              "      <script>\n",
              "        const buttonEl =\n",
              "          document.querySelector('#df-1a5f449d-5305-404a-be25-4672fa0f5a89 button.colab-df-convert');\n",
              "        buttonEl.style.display =\n",
              "          google.colab.kernel.accessAllowed ? 'block' : 'none';\n",
              "\n",
              "        async function convertToInteractive(key) {\n",
              "          const element = document.querySelector('#df-1a5f449d-5305-404a-be25-4672fa0f5a89');\n",
              "          const dataTable =\n",
              "            await google.colab.kernel.invokeFunction('convertToInteractive',\n",
              "                                                     [key], {});\n",
              "          if (!dataTable) return;\n",
              "\n",
              "          const docLinkHtml = 'Like what you see? Visit the ' +\n",
              "            '<a target=\"_blank\" href=https://colab.research.google.com/notebooks/data_table.ipynb>data table notebook</a>'\n",
              "            + ' to learn more about interactive tables.';\n",
              "          element.innerHTML = '';\n",
              "          dataTable['output_type'] = 'display_data';\n",
              "          await google.colab.output.renderOutput(dataTable, element);\n",
              "          const docLink = document.createElement('div');\n",
              "          docLink.innerHTML = docLinkHtml;\n",
              "          element.appendChild(docLink);\n",
              "        }\n",
              "      </script>\n",
              "    </div>\n",
              "  </div>\n",
              "  "
            ],
            "text/plain": [
              "   R&D Spend  Administration  Marketing Spend       State     Profit\n",
              "0  165349.20       136897.80        471784.10    New York  192261.83\n",
              "1  162597.70       151377.59        443898.53  California  191792.06\n",
              "2  153441.51       101145.55        407934.54     Florida  191050.39\n",
              "3  144372.41       118671.85        383199.62    New York  182901.99\n",
              "4  142107.34        91391.77        366168.42     Florida  166187.94"
            ]
          },
          "metadata": {},
          "execution_count": 28
        }
      ],
      "source": [
        "# set dataset path\n",
        "startup_path =  '/content/startups.csv'\n",
        "# load the dataset csv using pandas \n",
        "startup_dataset = pd.read_csv(startup_path)\n",
        "startup_dataset.head()"
      ]
    },
    {
      "cell_type": "markdown",
      "metadata": {
        "id": "bSVNYH5_NF9G"
      },
      "source": [
        "### Load features X and labels y\n",
        "---"
      ]
    },
    {
      "cell_type": "code",
      "execution_count": 29,
      "metadata": {
        "id": "nF5PlIvafeUf"
      },
      "outputs": [],
      "source": [
        "# use only these features : `R&D Spend` \t`Administration` \t`Marketing Spend`\n",
        "X = startup_dataset.iloc[:, :-2].values\n",
        "y = startup_dataset.iloc[:, 4].values"
      ]
    },
    {
      "cell_type": "markdown",
      "metadata": {
        "id": "sCXl6qn_NMBR"
      },
      "source": [
        "### Splitting train and test\n",
        "---"
      ]
    },
    {
      "cell_type": "code",
      "execution_count": 30,
      "metadata": {
        "id": "jYI24Ow1ggyG"
      },
      "outputs": [],
      "source": [
        "# Splitting the dataset into the Training set and Test set\n",
        "from sklearn.model_selection import train_test_split\n",
        "X_train, X_test, y_train, y_test = train_test_split(X, y, test_size = 0.25, random_state = 0)"
      ]
    },
    {
      "cell_type": "markdown",
      "metadata": {
        "id": "0xlANHetNYrz"
      },
      "source": [
        "### Fit the data\n",
        "---"
      ]
    },
    {
      "cell_type": "code",
      "execution_count": 31,
      "metadata": {
        "colab": {
          "base_uri": "https://localhost:8080/"
        },
        "id": "efuUUNJuibEh",
        "outputId": "ff9a211d-f4de-4174-8a01-478b0b3e494b"
      },
      "outputs": [
        {
          "output_type": "execute_result",
          "data": {
            "text/plain": [
              "LinearRegression()"
            ]
          },
          "metadata": {},
          "execution_count": 31
        }
      ],
      "source": [
        "from sklearn.linear_model import LinearRegression\n",
        "regressor = LinearRegression()\n",
        "regressor.fit(X_train, y_train)"
      ]
    },
    {
      "cell_type": "markdown",
      "metadata": {
        "id": "2GYE_hFwN1tj"
      },
      "source": [
        "### Predict and check scores\n",
        "---"
      ]
    },
    {
      "cell_type": "code",
      "execution_count": 32,
      "metadata": {
        "id": "uFXyjTPtibGq"
      },
      "outputs": [],
      "source": [
        "# Predicting the Test set results\n",
        "y_pred = regressor.predict(X_test)"
      ]
    },
    {
      "cell_type": "code",
      "execution_count": 33,
      "metadata": {
        "colab": {
          "base_uri": "https://localhost:8080/"
        },
        "id": "dLeJs8aMihHY",
        "outputId": "314a4898-3f3e-40d1-c54c-654e8d35863b"
      },
      "outputs": [
        {
          "output_type": "stream",
          "name": "stdout",
          "text": [
            "72767199.14073583\n",
            "0.9325475204846337\n"
          ]
        }
      ],
      "source": [
        "#import metrics\n",
        "# call the mean  squared error \n",
        "print(metrics.mean_squared_error(y_test,y_pred))\n",
        "print(metrics.r2_score(y_test,y_pred))"
      ]
    },
    {
      "cell_type": "code",
      "execution_count": 34,
      "metadata": {
        "colab": {
          "base_uri": "https://localhost:8080/"
        },
        "id": "r27_p8N3ihJg",
        "outputId": "2ce28b30-9452-40c4-f170-2b11b1edcd2d"
      },
      "outputs": [
        {
          "output_type": "execute_result",
          "data": {
            "text/plain": [
              "0.9325475204846337"
            ]
          },
          "metadata": {},
          "execution_count": 34
        }
      ],
      "source": [
        "regressor.score(X_test,y_test)"
      ]
    },
    {
      "cell_type": "markdown",
      "metadata": {
        "id": "qR1eZHJY1lrc"
      },
      "source": [
        "## Learning rate image : \n",
        "\n",
        "<img src=\"https://miro.medium.com/max/977/0*svH5eeB6JalWU7YQ.png\" width=400>"
      ]
    }
  ],
  "metadata": {
    "colab": {
      "collapsed_sections": [
        "iwHXTwwu3SO6",
        "f9EZsyfGCxRD",
        "dCrHFTWVdpRl",
        "-fkQa5Dp_ANy",
        "5pdCJbAsFWlM"
      ],
      "name": "ML1_S1&S2_Exercise.ipynb",
      "provenance": [],
      "include_colab_link": true
    },
    "kernelspec": {
      "display_name": "Python 3",
      "language": "python",
      "name": "python3"
    },
    "language_info": {
      "codemirror_mode": {
        "name": "ipython",
        "version": 3
      },
      "file_extension": ".py",
      "mimetype": "text/x-python",
      "name": "python",
      "nbconvert_exporter": "python",
      "pygments_lexer": "ipython3",
      "version": "3.8.8"
    }
  },
  "nbformat": 4,
  "nbformat_minor": 0
}