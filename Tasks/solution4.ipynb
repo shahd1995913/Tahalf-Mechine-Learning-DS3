{
 "cells": [
  {
   "cell_type": "markdown",
   "metadata": {},
   "source": [
    "![image0](difference.jpg) \n",
    "![image1](DT.jpg)\n",
    "![image2](RF.jpg) \n",
    "![image3](RFQ2.jpg)"
   ]
  },
  {
   "cell_type": "markdown",
   "metadata": {},
   "source": []
  }
 ],
 "metadata": {
  "language_info": {
   "name": "python"
  },
  "orig_nbformat": 4
 },
 "nbformat": 4,
 "nbformat_minor": 2
}
