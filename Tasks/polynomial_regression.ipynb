{
  "nbformat": 4,
  "nbformat_minor": 0,
  "metadata": {
    "colab": {
      "name": "polynomial regression.ipynb",
      "private_outputs": true,
      "provenance": [],
      "authorship_tag": "ABX9TyM/DJQNTsp7WZ1DXSl4muPR",
      "include_colab_link": true
    },
    "kernelspec": {
      "name": "python3",
      "display_name": "Python 3"
    },
    "language_info": {
      "name": "python"
    }
  },
  "cells": [
    {
      "cell_type": "markdown",
      "metadata": {
        "id": "view-in-github",
        "colab_type": "text"
      },
      "source": [
        "<a href=\"https://colab.research.google.com/github/shahd1995913/Tahalf-Mechine-Learning-DS3/blob/main/Tasks/polynomial_regression.ipynb\" target=\"_parent\"><img src=\"https://colab.research.google.com/assets/colab-badge.svg\" alt=\"Open In Colab\"/></a>"
      ]
    },
    {
      "cell_type": "markdown",
      "source": [
        "\n",
        "## Problem 1: Polynomial Regression \n",
        "---\n",
        "You want to buy huge amount of chocolates to build a chocolate house, every room in this chocolate house should be made of different types of high quality chocolates. There is only one place to buy this amount of chocolate, the \"Chocolate City\" of 1000 different factories and famous for its cheating prices. Chocolate Merchants Association has provided a price sheet `chocolate_data.csv` to beat the deception for 10 types of quality, the prices are per kg, but there are quality types in the market that are not mentioned in the sheet. Build a **`regression model`** that predicts the price per kilogram, and says if you want 1000kg with a quality type called \"3.5\" what is the price?"
      ],
      "metadata": {
        "id": "E6uT6KO6sLgM"
      }
    },
    {
      "cell_type": "markdown",
      "source": [
        "# According to what is apparent after the analysis : \n",
        "\n",
        "\n",
        "---\n",
        "\n",
        "\n",
        "## 1.  found that the relationship between the price and the quantity of chocolate is an inverse relationship, the higher the quantity, the lower the price.\n",
        "\n",
        "## 2. the relationship between the name of the chocolate and the price is a direct relationship , The less the name, the higher the price, if we consider that the name of the chocolate is not a categorical thing, but the name of the chocolate is numbers\n",
        "\n",
        "## 3. Also, the polynomial regression is better than the linear regression it provide more accurate result\n",
        "\n",
        "## 4. Note: I have changed the names of a database column. Please work with the new attachment. A new database contains the same data."
      ],
      "metadata": {
        "id": "DTF6WmlHoZZT"
      }
    },
    {
      "cell_type": "code",
      "execution_count": null,
      "metadata": {
        "id": "nmW6rmg1RtDl"
      },
      "outputs": [],
      "source": [
        "# Importing the libraries\n",
        "import numpy as np\n",
        "import matplotlib.pyplot as plt\n",
        "import pandas as pd\n",
        "\n",
        "# Importing the dataset\n",
        "datas = pd.read_csv('/content/data.csv')\n",
        "datas"
      ]
    },
    {
      "cell_type": "code",
      "source": [
        "quality = datas.iloc[:, 0:1].values\n",
        "price = datas.iloc[:, 2].values\n",
        "\n",
        "# Fitting Linear Regression to the dataset\n",
        "from sklearn.linear_model import LinearRegression\n",
        "lin = LinearRegression()\n",
        "lin.fit(quality, price)\n",
        "\n",
        "\n",
        "# Fitting Polynomial Regression to the dataset\n",
        "from sklearn.preprocessing import PolynomialFeatures\n",
        "\n",
        "poly = PolynomialFeatures(degree = 4)\n",
        "quality_poly = poly.fit_transform(quality)\n",
        "\n",
        "poly.fit(quality_poly, price)\n",
        "lin2 = LinearRegression()\n",
        "lin2.fit(quality_poly, price)\n",
        "\n",
        "\n",
        "# Produce a scatter graph \n",
        "plt.title('quality Data')\n",
        "plt.scatter(quality, Price, c = \"black\")\n",
        "plt.xlabel(\"quality\")\n",
        "plt.ylabel(\"Price\")\n",
        "plt.show()\n",
        "\n",
        "\n",
        "# Visualising \n",
        "plt.scatter(quality, price, color = 'green')\n",
        "\n",
        "plt.plot(quality, lin.predict(quality), color = 'black')\n",
        "plt.title('Linear Regression')\n",
        "plt.xlabel('quality')\n",
        "plt.ylabel('price')\n",
        "\n",
        "plt.show()\n",
        "\n",
        "\n",
        "# Visualising the Polynomial Regression results\n",
        "plt.scatter(quality, price, color = 'green')\n",
        "\n",
        "plt.plot(quality, lin2.predict(poly.fit_transform(quality)), color = 'black')\n",
        "plt.title('Polynomial Regression')\n",
        "plt.xlabel('quality')\n",
        "plt.ylabel('price')\n",
        "\n",
        "plt.show()\n",
        "\n",
        "# Predicting a new result with Linear Regression\n",
        "print(\"Predicting a new result with Linear Regression when the quality is 1 :\", lin.predict([[1]]))\n",
        "# Predicting a new result with Polynomial Regression\n",
        "print(\"Predicting a new result with Polynomial Regression when the quality is 1 :\",lin2.predict(poly.fit_transform([[1]])))\n"
      ],
      "metadata": {
        "id": "6TIl8zMISEXw"
      },
      "execution_count": null,
      "outputs": []
    },
    {
      "cell_type": "code",
      "source": [
        "quality_input = int(input(\"Please insert the quality number to check the price  : \"))\n",
        "print(\"Predicting a new result with Polynomial Regression is \", lin2.predict(poly.fit_transform([[quality_input]])))\n"
      ],
      "metadata": {
        "id": "CzHgD-1kqQoE"
      },
      "execution_count": null,
      "outputs": []
    },
    {
      "cell_type": "code",
      "source": [
        "chocolate_name = datas.iloc[:, 1:2].values\n",
        "price22 = datas.iloc[:, 2].values\n",
        "lin_chocolate_name = LinearRegression()\n",
        "lin_chocolate_name.fit(chocolate_name, price22)\n",
        "\n",
        "poly = PolynomialFeatures(degree = 4)\n",
        "chocolate_name_poly = poly.fit_transform(chocolate_name)\n",
        "poly.fit(chocolate_name_poly, price22)\n",
        "lin_chocolate_name2 = LinearRegression()\n",
        "lin_chocolate_name2.fit(chocolate_name_poly, price22)\n",
        "\n",
        "\n",
        "# Produce a scatter graph \n",
        "plt.title('chocolate Data')\n",
        "plt.scatter(chocolate_name, price22, c = \"black\")\n",
        "plt.xlabel(\"chocolate_name\")\n",
        "plt.ylabel(\"Price\")\n",
        "plt.show()\n",
        "\n",
        "# Visualising \n",
        "plt.scatter(chocolate_name, price22, color = 'blue')\n",
        "plt.plot(chocolate_name, lin_chocolate_name.predict(chocolate_name), color = 'red')\n",
        "plt.title('Linear Regression')\n",
        "plt.xlabel('chocolate name')\n",
        "plt.ylabel('Price')\n",
        "plt.show()\n",
        "\n",
        "# Visualising the Polynochocolate_nameial Regression results\n",
        "plt.scatter(chocolate_name, price22, color = 'blue')\n",
        "\n",
        "plt.plot(chocolate_name, lin_chocolate_name2.predict(poly.fit_transform(chocolate_name)), color = 'red')\n",
        "plt.title('Polynomeial Regression')\n",
        "plt.xlabel('chocolate name')\n",
        "plt.ylabel('Price')\n",
        "\n",
        "plt.show()\n",
        "\n",
        "# Predicting a new result with Linear Regression\n",
        "print(\"Predicting a new result with Linear Regression when the chocolate name  is 1 :\" ,lin_chocolate_name.predict([[1]]))\n",
        "# Predicting a new result with Polynomial Regression\n",
        "print(\"Predicting a new result with Polynomial Regression when the chocolate name is 1 :\", lin_chocolate_name2.predict(poly.fit_transform([[1]])))\n"
      ],
      "metadata": {
        "id": "A-10jt5-SPDR"
      },
      "execution_count": null,
      "outputs": []
    },
    {
      "cell_type": "code",
      "source": [
        "chocolate_name_input = int(input(\"Please insert the chocolate Kind to predict the price : \"))\n",
        "print(\"Predicting a new result with Polynomial Regression is \", lin_chocolate_name2.predict(poly.fit_transform([[chocolate_name_input]])))\n"
      ],
      "metadata": {
        "id": "cU4TziQKqHTg"
      },
      "execution_count": null,
      "outputs": []
    },
    {
      "cell_type": "code",
      "source": [
        "print(\"Please insert the chocolate type with  quality you want : \")\n",
        "chocolate_name_input = int(input(\"Please insert the chocolate Kind  : \"))\n",
        "quality_input = int(input(\"Please insert the quality number  : \"))\n",
        "chocolate_Kind = lin_chocolate_name2.predict(poly.fit_transform([[chocolate_name_input]]))\n",
        "quality_ = lin2.predict(poly.fit_transform([[quality_input]]))\n",
        "price11 = chocolate_Kind + quality_\n",
        "print(\"The Final price is :  \", price11/2)"
      ],
      "metadata": {
        "id": "hiILcKZ32yLx"
      },
      "execution_count": null,
      "outputs": []
    },
    {
      "cell_type": "markdown",
      "source": [
        "## Problem 2: SVR\n",
        "---\n",
        "Build **`SVR model`** on the chocolate dataset `chocolate_data.csv` and provide the output graph showing the predictions of prices vs quality levels."
      ],
      "metadata": {
        "id": "DQlDBZI9sCMV"
      }
    },
    {
      "cell_type": "code",
      "source": [
        "import numpy as np\n",
        "import matplotlib.pyplot as plt\n",
        "import pandas as pd\n",
        "from sklearn.svm import SVR\n",
        "from sklearn.metrics import mean_squared_error\n",
        "\n",
        "import matplotlib.pyplot as plt\n",
        "dataset = pd.read_csv('/content/data.csv')\n",
        "X = dataset.iloc[:,0:1].values.astype(float)\n",
        "y = dataset.iloc[:,2:3].values.astype(float)\n",
        "\n",
        "X"
      ],
      "metadata": {
        "id": "OEYcw-5PtJhG"
      },
      "execution_count": null,
      "outputs": []
    },
    {
      "cell_type": "code",
      "source": [
        "#3 Feature Scaling\n",
        "from sklearn.preprocessing import StandardScaler\n",
        "sc_X = StandardScaler()\n",
        "sc_y = StandardScaler()\n",
        "X = sc_X.fit_transform(X)\n",
        "y = sc_y.fit_transform(y)\n"
      ],
      "metadata": {
        "id": "lqX8P78ntJr0"
      },
      "execution_count": null,
      "outputs": []
    },
    {
      "cell_type": "code",
      "source": [
        "#4 Fitting the Support Vector Regression Model to the dataset\n",
        "# Create your support vector regressor here\n",
        "from sklearn.svm import SVR\n",
        "# most important SVR parameter is Kernel type. It can be #linear,polynomial or gaussian SVR. We have a non-linear condition #so we can select polynomial or gaussian but here we select RBF(a #gaussian type) kernel.\n",
        "regressor = SVR(kernel='rbf')\n",
        "regressor.fit(X,y)"
      ],
      "metadata": {
        "id": "M7sbn9fPtJuK"
      },
      "execution_count": null,
      "outputs": []
    },
    {
      "cell_type": "code",
      "source": [
        "#6 Visualising the Support Vector Regression results\n",
        "plt.scatter(X, y, color = 'magenta')\n",
        "plt.plot(X, regressor.predict(X), color = 'green')\n",
        "plt.title('(Support Vector Regression Model)')\n",
        "plt.xlabel('quality')\n",
        "plt.ylabel('Price')\n",
        "plt.show()"
      ],
      "metadata": {
        "id": "lZPAmxJZt931"
      },
      "execution_count": null,
      "outputs": []
    },
    {
      "cell_type": "markdown",
      "source": [
        "# The relationship between quantity and price is an inverse relationship, the higher the quantity, the lower the price"
      ],
      "metadata": {
        "id": "ROcDrkSw2G8V"
      }
    },
    {
      "cell_type": "code",
      "source": [
        "#5 Predicting a new result\n",
        "y_pred = sc_y.inverse_transform(regressor.predict(sc_X.transform([[6.5]])).reshape(1,-1))\n",
        "print(\"Predicting the new price when the quality is 6.5  in SVR is : \", y_pred*10000)\n"
      ],
      "metadata": {
        "id": "FEaKj1ggt99g"
      },
      "execution_count": null,
      "outputs": []
    },
    {
      "cell_type": "code",
      "source": [
        "quality_input1 = int(input(\"Please insert the quality number to check the price  : \"))\n",
        "result =sc_y.inverse_transform(regressor.predict(sc_X.transform([[quality_input1]])).reshape(1,-1))\n",
        "print(\"Predicting a new Price  with SVR  is \", result)"
      ],
      "metadata": {
        "id": "5zcZTVx_vwb6"
      },
      "execution_count": null,
      "outputs": []
    }
  ]
}