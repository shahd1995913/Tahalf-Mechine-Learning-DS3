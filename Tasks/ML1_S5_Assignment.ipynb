{
  "cells": [
    {
      "cell_type": "markdown",
      "metadata": {
        "id": "view-in-github",
        "colab_type": "text"
      },
      "source": [
        "<a href=\"https://colab.research.google.com/github/shahd1995913/Tahalf-Mechine-Learning-DS3/blob/main/Tasks/ML1_S5_Assignment.ipynb\" target=\"_parent\"><img src=\"https://colab.research.google.com/assets/colab-badge.svg\" alt=\"Open In Colab\"/></a>"
      ]
    },
    {
      "cell_type": "markdown",
      "id": "096071b3",
      "metadata": {
        "id": "096071b3"
      },
      "source": [
        "# ML1-S5 (Assignment)\n",
        "----"
      ]
    },
    {
      "cell_type": "markdown",
      "id": "4a7419d1",
      "metadata": {
        "id": "4a7419d1"
      },
      "source": [
        "## Problem 1:  Logistic Regression\n",
        "---\n",
        "\n",
        "- Mention 2 types of regularization used to overcome the overfitting problem and what is the difference between them.\n",
        "\n",
        "- Using the data below in X,y. Build a **`logistic model`** to predict the output and evaluate the model with a confusion matrix."
      ]
    },
    {
      "cell_type": "markdown",
      "source": [
        "# Common causes for overfitting are :\n",
        "1. When the model is complex enough that it starts modeling the noise in the training data.\n",
        "2. When the training data is relatively small and is an insufficient representation of the underlying distribution that it is sampled from, the model fails to learn a generalizable mapping.\n",
        "\n",
        "---\n",
        "\n",
        " \n",
        "##  Lasso(also known as L1) and Ridge(also known as L2) regression are two popular regularization techniques that are used to avoid overfitting of data. \n",
        "## These methods are used to penalize the coefficients to find the optimum solution and reduce complexity.\n",
        "##  The difference between L1 and L2 regularization techniques lies in the nature of this regularization term. In general, the addition of this regularization term causes the values of the weight matrices to reduce, leading simpler models.\n",
        "---\n",
        "# L2 and L1 Regularization : LASSO vs Ridge\n",
        "1. Lasso regression\n",
        "- Lasso regression is a regularization technique used to reduce model complexity.\n",
        "-  It is also known as L1 regularization. \n",
        "- Lasso stands for Least Absolute Shrinkage and Selector Operator.\n",
        "-   The Lasso regression works by penalizing the sum of the absolute values of the coefficients.\n",
        "\n",
        "2. Ridge regression\n",
        "- Ridge regression refers to a type of linear regression where in order to get better predictions in the long term, we introduce a small amount of bias.\n",
        "-  It is also known as L2 regularization.\n",
        "- In Ridge or L2 regression, the penalty function is determined by the sum of the squares of the coefficients.\n",
        "-  In ridge regression, we have the same loss function with a slight alteration in the penalty term.\n"
      ],
      "metadata": {
        "id": "Xhr-vitq2BFZ"
      },
      "id": "Xhr-vitq2BFZ"
    },
    {
      "cell_type": "code",
      "execution_count": 1,
      "id": "2c49fe14",
      "metadata": {
        "id": "2c49fe14"
      },
      "outputs": [],
      "source": [
        "### Put Your Answer Here ####\n",
        "import matplotlib.pyplot as plt\n",
        "import numpy as np\n",
        "from sklearn.datasets import load_digits\n",
        "from sklearn.linear_model import LogisticRegression\n",
        "from sklearn.metrics import classification_report, confusion_matrix\n",
        "from sklearn.model_selection import train_test_split\n",
        "from sklearn.preprocessing import StandardScaler"
      ]
    },
    {
      "cell_type": "code",
      "execution_count": 53,
      "id": "f2741015",
      "metadata": {
        "id": "f2741015"
      },
      "outputs": [],
      "source": [
        "# Dataset\n",
        "X = np.arange(15).reshape(-1, 1)\n",
        "y = np.array([0, 0, 0, 0, 0, 0, 0, 0, 1, 1, 1, 1, 1, 1, 1])"
      ]
    },
    {
      "cell_type": "code",
      "execution_count": 54,
      "id": "b6d36928",
      "metadata": {
        "colab": {
          "base_uri": "https://localhost:8080/"
        },
        "id": "b6d36928",
        "outputId": "4171d413-bf18-490a-8f02-769d03302e98"
      },
      "outputs": [
        {
          "output_type": "execute_result",
          "data": {
            "text/plain": [
              "array([[ 0],\n",
              "       [ 1],\n",
              "       [ 2],\n",
              "       [ 3],\n",
              "       [ 4],\n",
              "       [ 5],\n",
              "       [ 6],\n",
              "       [ 7],\n",
              "       [ 8],\n",
              "       [ 9],\n",
              "       [10],\n",
              "       [11],\n",
              "       [12],\n",
              "       [13],\n",
              "       [14]])"
            ]
          },
          "metadata": {},
          "execution_count": 54
        }
      ],
      "source": [
        "X"
      ]
    },
    {
      "cell_type": "code",
      "source": [
        "y"
      ],
      "metadata": {
        "colab": {
          "base_uri": "https://localhost:8080/"
        },
        "id": "jp-MSa1xD6iN",
        "outputId": "d094964b-0304-41e6-ffec-e19b06d397c9"
      },
      "id": "jp-MSa1xD6iN",
      "execution_count": 55,
      "outputs": [
        {
          "output_type": "execute_result",
          "data": {
            "text/plain": [
              "array([0, 0, 0, 0, 0, 0, 0, 0, 1, 1, 1, 1, 1, 1, 1])"
            ]
          },
          "metadata": {},
          "execution_count": 55
        }
      ]
    },
    {
      "cell_type": "code",
      "source": [
        "x_train, x_test, y_train, y_test =train_test_split(X, y, test_size=0.2, random_state=0)"
      ],
      "metadata": {
        "id": "pVfOr6pDD_YW"
      },
      "id": "pVfOr6pDD_YW",
      "execution_count": 56,
      "outputs": []
    },
    {
      "cell_type": "code",
      "source": [
        "scaler = StandardScaler()\n",
        "x_train = scaler.fit_transform(x_train)"
      ],
      "metadata": {
        "id": "JQv6QIIBETRl"
      },
      "id": "JQv6QIIBETRl",
      "execution_count": 57,
      "outputs": []
    },
    {
      "cell_type": "code",
      "source": [
        "model = LogisticRegression(solver='liblinear', C=0.05, multi_class='ovr',\n",
        "                         random_state=0)\n",
        "model.fit(x_train, y_train)"
      ],
      "metadata": {
        "colab": {
          "base_uri": "https://localhost:8080/"
        },
        "id": "uNcF8yrGEfE1",
        "outputId": "cba08704-43e2-4ba4-c392-a71cfa928901"
      },
      "id": "uNcF8yrGEfE1",
      "execution_count": 58,
      "outputs": [
        {
          "output_type": "execute_result",
          "data": {
            "text/plain": [
              "LogisticRegression(C=0.05, multi_class='ovr', random_state=0,\n",
              "                   solver='liblinear')"
            ]
          },
          "metadata": {},
          "execution_count": 58
        }
      ]
    },
    {
      "cell_type": "code",
      "source": [
        "model.predict_proba(x_train)"
      ],
      "metadata": {
        "colab": {
          "base_uri": "https://localhost:8080/"
        },
        "id": "6Ev4ZqHN5QKF",
        "outputId": "ce6321f8-5d09-401e-c540-a119a969b0c7"
      },
      "id": "6Ev4ZqHN5QKF",
      "execution_count": 59,
      "outputs": [
        {
          "output_type": "execute_result",
          "data": {
            "text/plain": [
              "array([[0.48034823, 0.51965177],\n",
              "       [0.41559875, 0.58440125],\n",
              "       [0.54576465, 0.45423535],\n",
              "       [0.57161916, 0.42838084],\n",
              "       [0.42838984, 0.57161016],\n",
              "       [0.46727395, 0.53272605],\n",
              "       [0.50655972, 0.49344028],\n",
              "       [0.45424447, 0.54575553],\n",
              "       [0.55873171, 0.44126829],\n",
              "       [0.59708849, 0.40291151],\n",
              "       [0.5327352 , 0.4672648 ],\n",
              "       [0.44127735, 0.55872265]])"
            ]
          },
          "metadata": {},
          "execution_count": 59
        }
      ]
    },
    {
      "cell_type": "code",
      "source": [
        "x_test = scaler.transform(x_test)"
      ],
      "metadata": {
        "id": "WAiDjsdJEgZS"
      },
      "id": "WAiDjsdJEgZS",
      "execution_count": 60,
      "outputs": []
    },
    {
      "cell_type": "code",
      "source": [
        "y_pred = model.predict(x_test)"
      ],
      "metadata": {
        "id": "CCfkXqIWEgbl"
      },
      "id": "CCfkXqIWEgbl",
      "execution_count": 61,
      "outputs": []
    },
    {
      "cell_type": "code",
      "source": [
        "print(model.score(x_train, y_train))\n",
        "print(model.score(x_test, y_test))\n",
        "print(\"Accuracy:\",metrics.accuracy_score(y_test, y_pred))\n"
      ],
      "metadata": {
        "colab": {
          "base_uri": "https://localhost:8080/"
        },
        "id": "IG-BNWllEgey",
        "outputId": "b5e39a7a-9c8c-4c17-8b75-0402f9a35571"
      },
      "id": "IG-BNWllEgey",
      "execution_count": 63,
      "outputs": [
        {
          "output_type": "stream",
          "name": "stdout",
          "text": [
            "1.0\n",
            "1.0\n",
            "Accuracy: 1.0\n"
          ]
        }
      ]
    },
    {
      "cell_type": "code",
      "source": [
        "confusion_matrix(y_test, y_pred)"
      ],
      "metadata": {
        "colab": {
          "base_uri": "https://localhost:8080/"
        },
        "id": "Y_TmBu3YE0Kd",
        "outputId": "8baff063-9f10-42a3-f90e-62d9f5cf026c"
      },
      "id": "Y_TmBu3YE0Kd",
      "execution_count": 64,
      "outputs": [
        {
          "output_type": "execute_result",
          "data": {
            "text/plain": [
              "array([[2, 0],\n",
              "       [0, 1]])"
            ]
          },
          "metadata": {},
          "execution_count": 64
        }
      ]
    },
    {
      "cell_type": "code",
      "source": [
        "print(classification_report(y_test, y_pred))"
      ],
      "metadata": {
        "colab": {
          "base_uri": "https://localhost:8080/"
        },
        "id": "NG0z2548FwwV",
        "outputId": "4a38090d-8ff1-46d9-9ea6-c1f74b98869a"
      },
      "id": "NG0z2548FwwV",
      "execution_count": 65,
      "outputs": [
        {
          "output_type": "stream",
          "name": "stdout",
          "text": [
            "              precision    recall  f1-score   support\n",
            "\n",
            "           0       1.00      1.00      1.00         2\n",
            "           1       1.00      1.00      1.00         1\n",
            "\n",
            "    accuracy                           1.00         3\n",
            "   macro avg       1.00      1.00      1.00         3\n",
            "weighted avg       1.00      1.00      1.00         3\n",
            "\n"
          ]
        }
      ]
    },
    {
      "cell_type": "code",
      "source": [
        "from sklearn.metrics import confusion_matrix\n",
        "import seaborn as sns\n",
        "\n",
        "cm = confusion_matrix(y_test, y_pred)\n",
        "# ax = plt.subplot()\n",
        "fig, ax = plt.subplots(figsize=(8, 8))\n",
        "ax.imshow(cm)\n",
        "ax.grid(False)\n",
        "sns.set(font_scale=3.0) #edited as suggested\n",
        "sns.heatmap(cm, annot=True, ax=ax, cmap=\"Blues\", fmt=\"g\");  # annot=True to annotate cells\n",
        "\n",
        "# labels, title and ticks\n",
        "ax.set_xlabel('Predicted outputs');\n",
        "ax.set_ylabel('Actual outputs');\n",
        "ax.set_title('Confusion Matrix');\n",
        "ax.xaxis.set_ticklabels(['False', 'True']);\n",
        "ax.yaxis.set_ticklabels(['Flase', 'True']);\n",
        "plt.show()"
      ],
      "metadata": {
        "colab": {
          "base_uri": "https://localhost:8080/",
          "height": 520
        },
        "id": "QbdXklrTE0Ms",
        "outputId": "3c9239db-19aa-44bd-d20b-5619cab14958"
      },
      "id": "QbdXklrTE0Ms",
      "execution_count": 67,
      "outputs": [
        {
          "output_type": "display_data",
          "data": {
            "image/png": "[encoded data removed]",
            "text/plain": [
              "<Figure size 576x576 with 2 Axes>"
            ]
          },
          "metadata": {}
        }
      ]
    },
    {
      "cell_type": "markdown",
      "id": "6ea9afef",
      "metadata": {
        "id": "6ea9afef"
      },
      "source": [
        "## Problem 2:  KNN + metrics\n",
        "---\n",
        "Build a classification model based on KNN to classify the [Iris Dataset](https://archive.ics.uci.edu/ml/datasets/iris) , report the training and testing `accuracy` ,`f1score` , `recall` , `percision`."
      ]
    },
    {
      "cell_type": "code",
      "execution_count": 30,
      "id": "db895d4f",
      "metadata": {
        "id": "db895d4f"
      },
      "outputs": [],
      "source": [
        "import pandas as pd\n",
        "import numpy as np\n",
        "import math\n",
        "import operator\n",
        "from sklearn.model_selection import train_test_split\n",
        "from sklearn.model_selection import cross_val_score\n",
        "from sklearn.metrics import accuracy_score\n",
        "from sklearn.metrics import recall_score , precision_score , roc_auc_score ,roc_curve\n",
        "from sklearn.svm import SVC\n",
        "import matplotlib.pyplot as plt\n",
        "import seaborn as sns\n",
        "import warnings\n",
        "warnings.filterwarnings(\"ignore\") #to remove unwanted warnings\n",
        "from sklearn.model_selection import train_test_split\n",
        "from sklearn.datasets import load_iris\n",
        "from sklearn.metrics import classification_report, confusion_matrix\n",
        "#Import scikit-learn metrics module for accuracy calculation\n",
        "from sklearn import metrics\n",
        "#Import knearest neighbors Classifier model\n",
        "from sklearn.neighbors import KNeighborsClassifier"
      ]
    },
    {
      "cell_type": "code",
      "source": [
        "#Loading the Data\n",
        "iris= load_iris()"
      ],
      "metadata": {
        "id": "7TB2ZC4gElcH"
      },
      "id": "7TB2ZC4gElcH",
      "execution_count": 33,
      "outputs": []
    },
    {
      "cell_type": "code",
      "source": [
        "# Split X and Y\n",
        "#======================\n",
        "X= iris.data\n",
        "\n",
        "Y= iris.target\n",
        "\n",
        "X_train, X_test, y_train, y_test= train_test_split(X, Y, test_size= 0.3,random_state=32)\n",
        "print(f'training set size: {X_train.shape[0]} samples \\ntest set size: {X_test.shape[0]} samples')"
      ],
      "metadata": {
        "colab": {
          "base_uri": "https://localhost:8080/"
        },
        "id": "gUTMnm3rBTZ5",
        "outputId": "008501f0-ba41-4a9f-f869-b43f8c1d1110"
      },
      "id": "gUTMnm3rBTZ5",
      "execution_count": 34,
      "outputs": [
        {
          "output_type": "stream",
          "name": "stdout",
          "text": [
            "training set size: 105 samples \n",
            "test set size: 45 samples\n"
          ]
        }
      ]
    },
    {
      "cell_type": "code",
      "source": [
        "#Create KNN Classifier\n",
        "knn = KNeighborsClassifier(n_neighbors=3)\n",
        "\n",
        "#Train the model using the training sets\n",
        "knn.fit(X_train, y_train)\n",
        "\n",
        "#Predict the response for test dataset\n",
        "y_pred = knn.predict(X_test)"
      ],
      "metadata": {
        "id": "YkcZxQGQEnFC"
      },
      "id": "YkcZxQGQEnFC",
      "execution_count": 35,
      "outputs": []
    },
    {
      "cell_type": "code",
      "source": [
        "# Model Accuracy, how often is the classifier correct?\n",
        "print(\"Accuracy when number of neighbors 3 :===>\",metrics.accuracy_score(y_test, y_pred))"
      ],
      "metadata": {
        "id": "8w4Lo7ZREnHH",
        "outputId": "be255b0b-6e48-4f08-86b5-9f9e885ec2c3",
        "colab": {
          "base_uri": "https://localhost:8080/"
        }
      },
      "id": "8w4Lo7ZREnHH",
      "execution_count": 36,
      "outputs": [
        {
          "output_type": "stream",
          "name": "stdout",
          "text": [
            "Accuracy when number of neighbors 3 :===> 1.0\n"
          ]
        }
      ]
    },
    {
      "cell_type": "code",
      "source": [
        "custom_model_score = accuracy_score(y_test,y_pred)\n",
        "print(custom_model_score)\n",
        "print(classification_report(y_test,y_pred))"
      ],
      "metadata": {
        "colab": {
          "base_uri": "https://localhost:8080/"
        },
        "id": "p3FFxXi3DWK_",
        "outputId": "dd7c15f7-6214-45fe-e7b0-e87397c6986d"
      },
      "id": "p3FFxXi3DWK_",
      "execution_count": 37,
      "outputs": [
        {
          "output_type": "stream",
          "name": "stdout",
          "text": [
            "1.0\n",
            "              precision    recall  f1-score   support\n",
            "\n",
            "           0       1.00      1.00      1.00        19\n",
            "           1       1.00      1.00      1.00        12\n",
            "           2       1.00      1.00      1.00        14\n",
            "\n",
            "    accuracy                           1.00        45\n",
            "   macro avg       1.00      1.00      1.00        45\n",
            "weighted avg       1.00      1.00      1.00        45\n",
            "\n"
          ]
        }
      ]
    },
    {
      "cell_type": "markdown",
      "id": "cca3fd8f",
      "metadata": {
        "id": "cca3fd8f"
      },
      "source": [
        "## Problem 3: Naive Bayes\n",
        "---\n",
        "\n",
        "- Build a gaussian naive bayes model on [Iris Dataset](https://archive.ics.uci.edu/ml/datasets/iris) , you can load the data using sklearn , split the data to train 70% and test 30%.\n",
        "\n",
        "- If we have a discrete data which type of naive bayes should we use?\n",
        "\n",
        "- Create a dataset with 0 and 1 ,the training data will have 1000 instance and each instance will have 8 features , the testing data will have 100 instance and build a naive bayes model on it ."
      ]
    },
    {
      "cell_type": "code",
      "execution_count": 39,
      "id": "d2d1190d",
      "metadata": {
        "id": "d2d1190d",
        "colab": {
          "base_uri": "https://localhost:8080/"
        },
        "outputId": "a8ce0ca6-57cf-4c0c-ae7d-69119f670822"
      },
      "outputs": [
        {
          "output_type": "stream",
          "name": "stdout",
          "text": [
            "training set size: 105 samples \n",
            "test set size: 45 samples\n"
          ]
        }
      ],
      "source": [
        "### Start Your Code Here ####\n",
        "\n",
        "#Loading the Data\n",
        "iris= load_iris()\n",
        "\n",
        "# Split X and Y\n",
        "#======================\n",
        "Naive_X= iris.data\n",
        "Naive_y= iris.target\n",
        "\n",
        "\n",
        "Naive_X_train, Naive_X_test, Naive_y_train, Naive_y_test = train_test_split(Naive_X, Naive_y, test_size = 0.3)\n",
        "print(f'training set size: {Naive_X_train.shape[0]} samples \\ntest set size: {Naive_X_test.shape[0]} samples')"
      ]
    },
    {
      "cell_type": "code",
      "source": [
        "from sklearn.preprocessing import StandardScaler\n",
        "sc = StandardScaler()\n",
        "Naive_X_train = sc.fit_transform(Naive_X_train)\n",
        "Naive_X_test = sc.transform(Naive_X_test)"
      ],
      "metadata": {
        "id": "EtXbsbbyGfUt"
      },
      "id": "EtXbsbbyGfUt",
      "execution_count": 40,
      "outputs": []
    },
    {
      "cell_type": "code",
      "source": [
        "from sklearn.naive_bayes import GaussianNB\n",
        "classifier = GaussianNB()\n",
        "classifier.fit(Naive_X_train, Naive_y_train)"
      ],
      "metadata": {
        "colab": {
          "base_uri": "https://localhost:8080/"
        },
        "id": "BtiPgPWFGfXO",
        "outputId": "4c80d5b5-8d07-4f2d-cddf-9f1021e82b01"
      },
      "id": "BtiPgPWFGfXO",
      "execution_count": 41,
      "outputs": [
        {
          "output_type": "execute_result",
          "data": {
            "text/plain": [
              "GaussianNB()"
            ]
          },
          "metadata": {},
          "execution_count": 41
        }
      ]
    },
    {
      "cell_type": "code",
      "source": [
        "Naive_y_pred = classifier.predict(Naive_X_test) \n",
        "Naive_y_pred"
      ],
      "metadata": {
        "colab": {
          "base_uri": "https://localhost:8080/"
        },
        "id": "T_hAOKeZGfas",
        "outputId": "1276208d-2529-4f7e-fb13-d451e11d8a3b"
      },
      "id": "T_hAOKeZGfas",
      "execution_count": 42,
      "outputs": [
        {
          "output_type": "execute_result",
          "data": {
            "text/plain": [
              "array([1, 0, 1, 0, 2, 1, 0, 2, 2, 0, 1, 0, 1, 0, 1, 1, 0, 1, 2, 2, 2, 1,\n",
              "       1, 2, 2, 2, 2, 0, 2, 1, 0, 0, 2, 1, 2, 0, 0, 1, 1, 0, 2, 1, 0, 2,\n",
              "       2])"
            ]
          },
          "metadata": {},
          "execution_count": 42
        }
      ]
    },
    {
      "cell_type": "code",
      "source": [
        "from sklearn.metrics import confusion_matrix\n",
        "cm1 = confusion_matrix(Naive_y_test, Naive_y_pred)\n",
        "from sklearn.metrics import accuracy_score \n",
        "\n",
        "print (\"Accuracy : \", accuracy_score(Naive_y_test, Naive_y_pred))\n",
        "print(\"----------------------------------------------------------\")\n",
        "\n",
        "custom_model_score_naive = accuracy_score(Naive_y_test,Naive_y_pred)\n",
        "print(\"Accuracy :\",custom_model_score_naive)\n",
        "print(classification_report(Naive_y_test,y_pred))\n",
        "print(\"----------------------------------------------------------\")\n",
        "\n",
        "\n",
        "# print(cm1)\n",
        "cm_df = pd.DataFrame(cm1,\n",
        "                     index = ['setosa','versicolor','virginica'], \n",
        "                     columns = ['setosa','versicolor','virginica'])\n",
        "\n",
        "sns.heatmap(cm_df, annot=True)\n",
        "plt.title('Accuracy using Naive Bayes:{0:.3f}'.format(accuracy_score(Naive_y_test, Naive_y_pred)))\n",
        "plt.ylabel('Actual label')\n",
        "plt.xlabel('Predicted label')\n",
        "plt.show()"
      ],
      "metadata": {
        "colab": {
          "base_uri": "https://localhost:8080/",
          "height": 733
        },
        "id": "44QEHUUyGnep",
        "outputId": "de82ea29-504c-4eed-ad59-5d895ac1e5de"
      },
      "id": "44QEHUUyGnep",
      "execution_count": 43,
      "outputs": [
        {
          "output_type": "stream",
          "name": "stdout",
          "text": [
            "Accuracy :  0.9555555555555556\n",
            "----------------------------------------------------------\n",
            "Accuracy : 0.9555555555555556\n",
            "              precision    recall  f1-score   support\n",
            "\n",
            "           0       0.37      0.50      0.42        14\n",
            "           1       0.25      0.23      0.24        13\n",
            "           2       0.21      0.17      0.19        18\n",
            "\n",
            "    accuracy                           0.29        45\n",
            "   macro avg       0.28      0.30      0.28        45\n",
            "weighted avg       0.27      0.29      0.28        45\n",
            "\n",
            "----------------------------------------------------------\n"
          ]
        },
        {
          "output_type": "display_data",
          "data": {
            "image/png": "[encoded data removed]",
            "text/plain": [
              "<Figure size 432x288 with 2 Axes>"
            ]
          },
          "metadata": {}
        }
      ]
    },
    {
      "cell_type": "code",
      "source": [
        "dfNaive_ = pd.DataFrame({'Real Values':Naive_y_test, 'Predicted Values':Naive_y_pred})\n",
        "dfNaive_"
      ],
      "metadata": {
        "colab": {
          "base_uri": "https://localhost:8080/",
          "height": 1000
        },
        "id": "KqleL26THJpI",
        "outputId": "07306c40-7250-45a4-b82d-c615b840488a"
      },
      "id": "KqleL26THJpI",
      "execution_count": 44,
      "outputs": [
        {
          "output_type": "execute_result",
          "data": {
            "text/html": [
              "\n",
              "  <div id=\"df-78d293d2-7663-4af5-833f-ddf32d185396\">\n",
              "    <div class=\"colab-df-container\">\n",
              "      <div>\n",
              "<style scoped>\n",
              "    .dataframe tbody tr th:only-of-type {\n",
              "        vertical-align: middle;\n",
              "    }\n",
              "\n",
              "    .dataframe tbody tr th {\n",
              "        vertical-align: top;\n",
              "    }\n",
              "\n",
              "    .dataframe thead th {\n",
              "        text-align: right;\n",
              "    }\n",
              "</style>\n",
              "<table border=\"1\" class=\"dataframe\">\n",
              "  <thead>\n",
              "    <tr style=\"text-align: right;\">\n",
              "      <th></th>\n",
              "      <th>Real Values</th>\n",
              "      <th>Predicted Values</th>\n",
              "    </tr>\n",
              "  </thead>\n",
              "  <tbody>\n",
              "    <tr>\n",
              "      <th>0</th>\n",
              "      <td>1</td>\n",
              "      <td>1</td>\n",
              "    </tr>\n",
              "    <tr>\n",
              "      <th>1</th>\n",
              "      <td>0</td>\n",
              "      <td>0</td>\n",
              "    </tr>\n",
              "    <tr>\n",
              "      <th>2</th>\n",
              "      <td>2</td>\n",
              "      <td>1</td>\n",
              "    </tr>\n",
              "    <tr>\n",
              "      <th>3</th>\n",
              "      <td>0</td>\n",
              "      <td>0</td>\n",
              "    </tr>\n",
              "    <tr>\n",
              "      <th>4</th>\n",
              "      <td>2</td>\n",
              "      <td>2</td>\n",
              "    </tr>\n",
              "    <tr>\n",
              "      <th>5</th>\n",
              "      <td>1</td>\n",
              "      <td>1</td>\n",
              "    </tr>\n",
              "    <tr>\n",
              "      <th>6</th>\n",
              "      <td>0</td>\n",
              "      <td>0</td>\n",
              "    </tr>\n",
              "    <tr>\n",
              "      <th>7</th>\n",
              "      <td>2</td>\n",
              "      <td>2</td>\n",
              "    </tr>\n",
              "    <tr>\n",
              "      <th>8</th>\n",
              "      <td>2</td>\n",
              "      <td>2</td>\n",
              "    </tr>\n",
              "    <tr>\n",
              "      <th>9</th>\n",
              "      <td>0</td>\n",
              "      <td>0</td>\n",
              "    </tr>\n",
              "    <tr>\n",
              "      <th>10</th>\n",
              "      <td>1</td>\n",
              "      <td>1</td>\n",
              "    </tr>\n",
              "    <tr>\n",
              "      <th>11</th>\n",
              "      <td>0</td>\n",
              "      <td>0</td>\n",
              "    </tr>\n",
              "    <tr>\n",
              "      <th>12</th>\n",
              "      <td>1</td>\n",
              "      <td>1</td>\n",
              "    </tr>\n",
              "    <tr>\n",
              "      <th>13</th>\n",
              "      <td>0</td>\n",
              "      <td>0</td>\n",
              "    </tr>\n",
              "    <tr>\n",
              "      <th>14</th>\n",
              "      <td>1</td>\n",
              "      <td>1</td>\n",
              "    </tr>\n",
              "    <tr>\n",
              "      <th>15</th>\n",
              "      <td>1</td>\n",
              "      <td>1</td>\n",
              "    </tr>\n",
              "    <tr>\n",
              "      <th>16</th>\n",
              "      <td>0</td>\n",
              "      <td>0</td>\n",
              "    </tr>\n",
              "    <tr>\n",
              "      <th>17</th>\n",
              "      <td>2</td>\n",
              "      <td>1</td>\n",
              "    </tr>\n",
              "    <tr>\n",
              "      <th>18</th>\n",
              "      <td>2</td>\n",
              "      <td>2</td>\n",
              "    </tr>\n",
              "    <tr>\n",
              "      <th>19</th>\n",
              "      <td>2</td>\n",
              "      <td>2</td>\n",
              "    </tr>\n",
              "    <tr>\n",
              "      <th>20</th>\n",
              "      <td>2</td>\n",
              "      <td>2</td>\n",
              "    </tr>\n",
              "    <tr>\n",
              "      <th>21</th>\n",
              "      <td>1</td>\n",
              "      <td>1</td>\n",
              "    </tr>\n",
              "    <tr>\n",
              "      <th>22</th>\n",
              "      <td>1</td>\n",
              "      <td>1</td>\n",
              "    </tr>\n",
              "    <tr>\n",
              "      <th>23</th>\n",
              "      <td>2</td>\n",
              "      <td>2</td>\n",
              "    </tr>\n",
              "    <tr>\n",
              "      <th>24</th>\n",
              "      <td>2</td>\n",
              "      <td>2</td>\n",
              "    </tr>\n",
              "    <tr>\n",
              "      <th>25</th>\n",
              "      <td>2</td>\n",
              "      <td>2</td>\n",
              "    </tr>\n",
              "    <tr>\n",
              "      <th>26</th>\n",
              "      <td>2</td>\n",
              "      <td>2</td>\n",
              "    </tr>\n",
              "    <tr>\n",
              "      <th>27</th>\n",
              "      <td>0</td>\n",
              "      <td>0</td>\n",
              "    </tr>\n",
              "    <tr>\n",
              "      <th>28</th>\n",
              "      <td>2</td>\n",
              "      <td>2</td>\n",
              "    </tr>\n",
              "    <tr>\n",
              "      <th>29</th>\n",
              "      <td>1</td>\n",
              "      <td>1</td>\n",
              "    </tr>\n",
              "    <tr>\n",
              "      <th>30</th>\n",
              "      <td>0</td>\n",
              "      <td>0</td>\n",
              "    </tr>\n",
              "    <tr>\n",
              "      <th>31</th>\n",
              "      <td>0</td>\n",
              "      <td>0</td>\n",
              "    </tr>\n",
              "    <tr>\n",
              "      <th>32</th>\n",
              "      <td>2</td>\n",
              "      <td>2</td>\n",
              "    </tr>\n",
              "    <tr>\n",
              "      <th>33</th>\n",
              "      <td>1</td>\n",
              "      <td>1</td>\n",
              "    </tr>\n",
              "    <tr>\n",
              "      <th>34</th>\n",
              "      <td>2</td>\n",
              "      <td>2</td>\n",
              "    </tr>\n",
              "    <tr>\n",
              "      <th>35</th>\n",
              "      <td>0</td>\n",
              "      <td>0</td>\n",
              "    </tr>\n",
              "    <tr>\n",
              "      <th>36</th>\n",
              "      <td>0</td>\n",
              "      <td>0</td>\n",
              "    </tr>\n",
              "    <tr>\n",
              "      <th>37</th>\n",
              "      <td>1</td>\n",
              "      <td>1</td>\n",
              "    </tr>\n",
              "    <tr>\n",
              "      <th>38</th>\n",
              "      <td>1</td>\n",
              "      <td>1</td>\n",
              "    </tr>\n",
              "    <tr>\n",
              "      <th>39</th>\n",
              "      <td>0</td>\n",
              "      <td>0</td>\n",
              "    </tr>\n",
              "    <tr>\n",
              "      <th>40</th>\n",
              "      <td>2</td>\n",
              "      <td>2</td>\n",
              "    </tr>\n",
              "    <tr>\n",
              "      <th>41</th>\n",
              "      <td>1</td>\n",
              "      <td>1</td>\n",
              "    </tr>\n",
              "    <tr>\n",
              "      <th>42</th>\n",
              "      <td>0</td>\n",
              "      <td>0</td>\n",
              "    </tr>\n",
              "    <tr>\n",
              "      <th>43</th>\n",
              "      <td>2</td>\n",
              "      <td>2</td>\n",
              "    </tr>\n",
              "    <tr>\n",
              "      <th>44</th>\n",
              "      <td>2</td>\n",
              "      <td>2</td>\n",
              "    </tr>\n",
              "  </tbody>\n",
              "</table>\n",
              "</div>\n",
              "      <button class=\"colab-df-convert\" onclick=\"convertToInteractive('df-78d293d2-7663-4af5-833f-ddf32d185396')\"\n",
              "              title=\"Convert this dataframe to an interactive table.\"\n",
              "              style=\"display:none;\">\n",
              "        \n",
              "  <svg xmlns=\"http://www.w3.org/2000/svg\" height=\"24px\"viewBox=\"0 0 24 24\"\n",
              "       width=\"24px\">\n",
              "    <path d=\"M0 0h24v24H0V0z\" fill=\"none\"/>\n",
              "    <path d=\"M18.56 5.44l.94 2.06.94-2.06 2.06-.94-2.06-.94-.94-2.06-.94 2.06-2.06.94zm-11 1L8.5 8.5l.94-2.06 2.06-.94-2.06-.94L8.5 2.5l-.94 2.06-2.06.94zm10 10l.94 2.06.94-2.06 2.06-.94-2.06-.94-.94-2.06-.94 2.06-2.06.94z\"/><path d=\"M17.41 7.96l-1.37-1.37c-.4-.4-.92-.59-1.43-.59-.52 0-1.04.2-1.43.59L10.3 9.45l-7.72 7.72c-.78.78-.78 2.05 0 2.83L4 21.41c.39.39.9.59 1.41.59.51 0 1.02-.2 1.41-.59l7.78-7.78 2.81-2.81c.8-.78.8-2.07 0-2.86zM5.41 20L4 18.59l7.72-7.72 1.47 1.35L5.41 20z\"/>\n",
              "  </svg>\n",
              "      </button>\n",
              "      \n",
              "  <style>\n",
              "    .colab-df-container {\n",
              "      display:flex;\n",
              "      flex-wrap:wrap;\n",
              "      gap: 12px;\n",
              "    }\n",
              "\n",
              "    .colab-df-convert {\n",
              "      background-color: #E8F0FE;\n",
              "      border: none;\n",
              "      border-radius: 50%;\n",
              "      cursor: pointer;\n",
              "      display: none;\n",
              "      fill: #1967D2;\n",
              "      height: 32px;\n",
              "      padding: 0 0 0 0;\n",
              "      width: 32px;\n",
              "    }\n",
              "\n",
              "    .colab-df-convert:hover {\n",
              "      background-color: #E2EBFA;\n",
              "      box-shadow: 0px 1px 2px rgba(60, 64, 67, 0.3), 0px 1px 3px 1px rgba(60, 64, 67, 0.15);\n",
              "      fill: #174EA6;\n",
              "    }\n",
              "\n",
              "    [theme=dark] .colab-df-convert {\n",
              "      background-color: #3B4455;\n",
              "      fill: #D2E3FC;\n",
              "    }\n",
              "\n",
              "    [theme=dark] .colab-df-convert:hover {\n",
              "      background-color: #434B5C;\n",
              "      box-shadow: 0px 1px 3px 1px rgba(0, 0, 0, 0.15);\n",
              "      filter: drop-shadow(0px 1px 2px rgba(0, 0, 0, 0.3));\n",
              "      fill: #FFFFFF;\n",
              "    }\n",
              "  </style>\n",
              "\n",
              "      <script>\n",
              "        const buttonEl =\n",
              "          document.querySelector('#df-78d293d2-7663-4af5-833f-ddf32d185396 button.colab-df-convert');\n",
              "        buttonEl.style.display =\n",
              "          google.colab.kernel.accessAllowed ? 'block' : 'none';\n",
              "\n",
              "        async function convertToInteractive(key) {\n",
              "          const element = document.querySelector('#df-78d293d2-7663-4af5-833f-ddf32d185396');\n",
              "          const dataTable =\n",
              "            await google.colab.kernel.invokeFunction('convertToInteractive',\n",
              "                                                     [key], {});\n",
              "          if (!dataTable) return;\n",
              "\n",
              "          const docLinkHtml = 'Like what you see? Visit the ' +\n",
              "            '<a target=\"_blank\" href=https://colab.research.google.com/notebooks/data_table.ipynb>data table notebook</a>'\n",
              "            + ' to learn more about interactive tables.';\n",
              "          element.innerHTML = '';\n",
              "          dataTable['output_type'] = 'display_data';\n",
              "          await google.colab.output.renderOutput(dataTable, element);\n",
              "          const docLink = document.createElement('div');\n",
              "          docLink.innerHTML = docLinkHtml;\n",
              "          element.appendChild(docLink);\n",
              "        }\n",
              "      </script>\n",
              "    </div>\n",
              "  </div>\n",
              "  "
            ],
            "text/plain": [
              "    Real Values  Predicted Values\n",
              "0             1                 1\n",
              "1             0                 0\n",
              "2             2                 1\n",
              "3             0                 0\n",
              "4             2                 2\n",
              "5             1                 1\n",
              "6             0                 0\n",
              "7             2                 2\n",
              "8             2                 2\n",
              "9             0                 0\n",
              "10            1                 1\n",
              "11            0                 0\n",
              "12            1                 1\n",
              "13            0                 0\n",
              "14            1                 1\n",
              "15            1                 1\n",
              "16            0                 0\n",
              "17            2                 1\n",
              "18            2                 2\n",
              "19            2                 2\n",
              "20            2                 2\n",
              "21            1                 1\n",
              "22            1                 1\n",
              "23            2                 2\n",
              "24            2                 2\n",
              "25            2                 2\n",
              "26            2                 2\n",
              "27            0                 0\n",
              "28            2                 2\n",
              "29            1                 1\n",
              "30            0                 0\n",
              "31            0                 0\n",
              "32            2                 2\n",
              "33            1                 1\n",
              "34            2                 2\n",
              "35            0                 0\n",
              "36            0                 0\n",
              "37            1                 1\n",
              "38            1                 1\n",
              "39            0                 0\n",
              "40            2                 2\n",
              "41            1                 1\n",
              "42            0                 0\n",
              "43            2                 2\n",
              "44            2                 2"
            ]
          },
          "metadata": {},
          "execution_count": 44
        }
      ]
    },
    {
      "cell_type": "markdown",
      "source": [
        "# - If we have a discrete data which type of naive bayes should we use?\n",
        "\n",
        "---\n",
        "## Sol --> Bernoulli Naive Bayes\n",
        "### if you have discrete features in 1s and 0s that represent the presence or absence of a feature.\n",
        "###  In that case, the features will be binary and we will use Bernoulli Naive Bayes. "
      ],
      "metadata": {
        "id": "BPthP6wnHO7x"
      },
      "id": "BPthP6wnHO7x"
    },
    {
      "cell_type": "markdown",
      "source": [
        "---\n",
        "### - Create a dataset with 0 and 1 ,the training data will have 1000 instance and each instance will have 8 features , the testing data will have 100 instance and build a naive bayes model on it \n",
        "---"
      ],
      "metadata": {
        "id": "ItN5WNxiHUe6"
      },
      "id": "ItN5WNxiHUe6"
    },
    {
      "cell_type": "code",
      "source": [
        "import pandas as pd\n",
        "import numpy as np\n",
        "import matplotlib.pyplot as plt\n",
        "from sklearn.datasets import make_classification\n",
        "from sklearn.model_selection import train_test_split\n",
        "from sklearn import metrics\n",
        "from sklearn.preprocessing import StandardScaler"
      ],
      "metadata": {
        "id": "OaOSkPdiTLrn"
      },
      "id": "OaOSkPdiTLrn",
      "execution_count": 45,
      "outputs": []
    },
    {
      "cell_type": "code",
      "source": [
        "Bayes_x,Bayes_Y=make_classification(n_samples= 1000,n_features=8,n_informative=8,n_redundant=0,n_repeated=0,n_classes=2,random_state=14)\n",
        "#   If the test_size was 0.1 then that mean 100 instance\n",
        "Bayes_x_train, Bayes_X_test, Bayes_y_train, Bayes_y_test= train_test_split(Bayes_x, Bayes_Y, test_size= 0.1, random_state=32)\n",
        "sc= StandardScaler()\n",
        "sc.fit(Bayes_x_train)\n",
        "Bayes_x_train= sc.transform(Bayes_x_train)\n",
        "sc. fit(Bayes_X_test)\n",
        "Bayes_X_test= sc.transform(Bayes_X_test)\n",
        "Bayes_x.shape                                         "
      ],
      "metadata": {
        "id": "9k2vWVk8NXMH",
        "outputId": "95f1b404-8166-4c90-f6ea-bbad9e3d9027",
        "colab": {
          "base_uri": "https://localhost:8080/"
        }
      },
      "id": "9k2vWVk8NXMH",
      "execution_count": 46,
      "outputs": [
        {
          "output_type": "execute_result",
          "data": {
            "text/plain": [
              "(1000, 8)"
            ]
          },
          "metadata": {},
          "execution_count": 46
        }
      ]
    },
    {
      "cell_type": "code",
      "source": [
        "from sklearn.naive_bayes import GaussianNB\n",
        "classifier = GaussianNB()\n",
        "classifier.fit(Bayes_x_train, Bayes_y_train)"
      ],
      "metadata": {
        "id": "-EvVszDlRmCZ",
        "outputId": "9d8d85b6-f078-49ea-fc03-ee58fe6b81e6",
        "colab": {
          "base_uri": "https://localhost:8080/"
        }
      },
      "id": "-EvVszDlRmCZ",
      "execution_count": 47,
      "outputs": [
        {
          "output_type": "execute_result",
          "data": {
            "text/plain": [
              "GaussianNB()"
            ]
          },
          "metadata": {},
          "execution_count": 47
        }
      ]
    },
    {
      "cell_type": "code",
      "source": [
        "Bayes_y_pred = classifier.predict(Bayes_X_test) \n",
        "Bayes_y_pred"
      ],
      "metadata": {
        "id": "1arojHyCSbFN",
        "outputId": "3a7c3dcb-6b88-4370-91a0-3a4f0fbdccf7",
        "colab": {
          "base_uri": "https://localhost:8080/"
        }
      },
      "id": "1arojHyCSbFN",
      "execution_count": 48,
      "outputs": [
        {
          "output_type": "execute_result",
          "data": {
            "text/plain": [
              "array([1, 1, 0, 1, 1, 0, 0, 0, 1, 0, 0, 0, 0, 1, 1, 0, 1, 0, 1, 0, 0, 1,\n",
              "       1, 0, 0, 1, 0, 1, 0, 0, 1, 1, 1, 1, 0, 0, 0, 0, 0, 0, 1, 0, 1, 1,\n",
              "       0, 0, 1, 0, 1, 0, 0, 0, 0, 0, 0, 1, 1, 0, 0, 1, 0, 1, 1, 1, 0, 1,\n",
              "       1, 0, 0, 0, 0, 0, 0, 0, 0, 0, 0, 1, 1, 1, 0, 1, 1, 0, 0, 0, 1, 1,\n",
              "       0, 1, 1, 0, 1, 1, 1, 1, 1, 1, 0, 1])"
            ]
          },
          "metadata": {},
          "execution_count": 48
        }
      ]
    },
    {
      "cell_type": "code",
      "source": [
        "from sklearn.metrics import confusion_matrix\n",
        "cm1 = confusion_matrix(Bayes_y_test, Bayes_y_pred)\n",
        "from sklearn.metrics import accuracy_score \n",
        "\n",
        "print (\"Accuracy : \", accuracy_score(Bayes_y_test, Bayes_y_pred))\n",
        "print(\"----------------------------------------------------------\")\n",
        "\n",
        "custom_model_score_Bayes = accuracy_score(Bayes_y_test,Bayes_y_pred)\n",
        "print(\"Accuracy :\",custom_model_score_Bayes)\n",
        "print(classification_report(Bayes_y_test,Bayes_y_pred))\n",
        "print(\"----------------------------------------------------------\")\n",
        "\n",
        "\n",
        "# print(cm1)\n",
        "cm_df = pd.DataFrame(cm1)\n",
        "\n",
        "sns.heatmap(cm_df, annot=True)\n",
        "plt.title('Accuracy using Naive Bayes:{0:.3f}'.format(accuracy_score(Bayes_y_test, Bayes_y_pred)))\n",
        "plt.ylabel('Actual label')\n",
        "plt.xlabel('Predicted label')\n",
        "plt.show()"
      ],
      "metadata": {
        "id": "rMIPO4_RSmBm",
        "outputId": "5a6884c5-b3b6-4226-8f0d-b41806063028",
        "colab": {
          "base_uri": "https://localhost:8080/",
          "height": 587
        }
      },
      "id": "rMIPO4_RSmBm",
      "execution_count": 49,
      "outputs": [
        {
          "output_type": "stream",
          "name": "stdout",
          "text": [
            "Accuracy :  0.65\n",
            "----------------------------------------------------------\n",
            "Accuracy : 0.65\n",
            "              precision    recall  f1-score   support\n",
            "\n",
            "           0       0.61      0.70      0.65        47\n",
            "           1       0.70      0.60      0.65        53\n",
            "\n",
            "    accuracy                           0.65       100\n",
            "   macro avg       0.65      0.65      0.65       100\n",
            "weighted avg       0.66      0.65      0.65       100\n",
            "\n",
            "----------------------------------------------------------\n"
          ]
        },
        {
          "output_type": "display_data",
          "data": {
            "image/png": "[encoded data removed]",
            "text/plain": [
              "<Figure size 432x288 with 2 Axes>"
            ]
          },
          "metadata": {}
        }
      ]
    },
    {
      "cell_type": "markdown",
      "source": [
        "## How can I choose the best K in KNN  ??\n",
        "1.  KNN --> K number of neighbors . \n",
        "- If the value of K is small then it lead to -- >overfitting of the model. \n",
        "-  if K is very large then i-->  underfitting of the model. \n",
        "2. KNN when be a  odd value provide a good result. \n",
        "\n",
        "--- > To choose the best K in KNN --- > we can also split  the entire data set into train  set and test set. then  preform  the KNN algorithm into training set and cross validate, we can use k with a cross validate to take the best result and we well repet until find a good result."
      ],
      "metadata": {
        "id": "PwiX_4OMEjtR"
      },
      "id": "PwiX_4OMEjtR"
    }
  ],
  "metadata": {
    "kernelspec": {
      "display_name": "Python 3",
      "language": "python",
      "name": "python3"
    },
    "language_info": {
      "codemirror_mode": {
        "name": "ipython",
        "version": 3
      },
      "file_extension": ".py",
      "mimetype": "text/x-python",
      "name": "python",
      "nbconvert_exporter": "python",
      "pygments_lexer": "ipython3",
      "version": "3.8.8"
    },
    "colab": {
      "name": "ML1_S5_Assignment.ipynb",
      "provenance": [],
      "toc_visible": true,
      "include_colab_link": true
    }
  },
  "nbformat": 4,
  "nbformat_minor": 5
}