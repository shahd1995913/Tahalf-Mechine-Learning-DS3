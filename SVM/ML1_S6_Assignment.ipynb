{
  "cells": [
    {
      "cell_type": "markdown",
      "metadata": {
        "id": "view-in-github",
        "colab_type": "text"
      },
      "source": [
        "<a href=\"https://colab.research.google.com/github/shahd1995913/Tahalf-Mechine-Learning-DS3/blob/main/SVM/ML1_S6_Assignment.ipynb\" target=\"_parent\"><img src=\"https://colab.research.google.com/assets/colab-badge.svg\" alt=\"Open In Colab\"/></a>"
      ]
    },
    {
      "cell_type": "markdown",
      "id": "096071b3",
      "metadata": {
        "id": "096071b3"
      },
      "source": [
        "# ML1-S6 (Assignment)\n",
        "----\n"
      ]
    },
    {
      "cell_type": "markdown",
      "id": "4a7419d1",
      "metadata": {
        "id": "4a7419d1"
      },
      "source": [
        "## Problem 1:  SVM\n",
        "---\n",
        "- Build a classification model based on SVM to classify the [Iris Dataset](https://archive.ics.uci.edu/ml/datasets/iris) , split the data to 75% training set and 25% testing set and report the training and testing accuracy .\n",
        "\n",
        "- How svm can be used to solve nonlinear problems ?"
      ]
    },
    {
      "cell_type": "code",
      "execution_count": 1,
      "id": "b6d36928",
      "metadata": {
        "id": "b6d36928"
      },
      "outputs": [],
      "source": [
        "### Start Your Code Here ####\n",
        "#First, let’s import all required libraries.\n",
        "#============================================\n",
        "from sklearn.svm import SVC\n",
        "import numpy as np\n",
        "import pandas as pd\n",
        "import matplotlib.pyplot as plt\n",
        "import seaborn as sns\n",
        "from sklearn.preprocessing import StandardScaler\n",
        "from sklearn.model_selection import train_test_split, cross_val_score\n",
        "from sklearn.metrics import accuracy_score, confusion_matrix\n",
        "from sklearn import preprocessing\n",
        "from sklearn.model_selection import GridSearchCV\n",
        "import warnings\n",
        "warnings.filterwarnings(\"ignore\")\n",
        "\n",
        "### End Your Code Here ####"
      ]
    },
    {
      "cell_type": "code",
      "source": [
        ""
      ],
      "metadata": {
        "id": "CP4YtLGfybKf"
      },
      "id": "CP4YtLGfybKf",
      "execution_count": null,
      "outputs": []
    }
  ],
  "metadata": {
    "kernelspec": {
      "display_name": "Python 3",
      "language": "python",
      "name": "python3"
    },
    "language_info": {
      "codemirror_mode": {
        "name": "ipython",
        "version": 3
      },
      "file_extension": ".py",
      "mimetype": "text/x-python",
      "name": "python",
      "nbconvert_exporter": "python",
      "pygments_lexer": "ipython3",
      "version": "3.8.8"
    },
    "colab": {
      "name": "ML1_S6_Assignment.ipynb",
      "provenance": [],
      "include_colab_link": true
    }
  },
  "nbformat": 4,
  "nbformat_minor": 5
}