{
  "cells": [
    {
      "cell_type": "markdown",
      "metadata": {
        "id": "view-in-github",
        "colab_type": "text"
      },
      "source": [
        "<a href=\"https://colab.research.google.com/github/shahd1995913/Tahalf-Mechine-Learning-DS3/blob/main/SVM/ML1_S6_Coding_Material(SVM).ipynb\" target=\"_parent\"><img src=\"https://colab.research.google.com/assets/colab-badge.svg\" alt=\"Open In Colab\"/></a>"
      ]
    },
    {
      "cell_type": "markdown",
      "id": "e749d829",
      "metadata": {
        "id": "e749d829"
      },
      "source": [
        "# ML1_S6&S7 Coding Material\n",
        "---\n",
        "## Support Vector Machine (SVM)\n",
        "---\n",
        "- Implementation and hyperparameter tuning of Support Vector Machine in Python.\n",
        "\n",
        "- For implementation on a dataset, we will be using the Income Evaluation dataset, which has information about an individual’s personal life and an output of 50K or <=50. The [dataset](https://www.kaggle.com/lodetomasi1995/income-classification) can be found here.\n",
        "\n",
        "- The task here is to classify the income of an individual when given the required inputs about his personal life."
      ]
    },
    {
      "cell_type": "code",
      "execution_count": null,
      "id": "c32b32a9",
      "metadata": {
        "id": "c32b32a9"
      },
      "outputs": [],
      "source": [
        "#First, let’s import all required libraries.\n",
        "#============================================\n",
        "from sklearn.svm import SVC\n",
        "import numpy as np\n",
        "import pandas as pd\n",
        "import matplotlib.pyplot as plt\n",
        "import seaborn as sns\n",
        "from sklearn.preprocessing import StandardScaler\n",
        "from sklearn.model_selection import train_test_split, cross_val_score\n",
        "from sklearn.metrics import accuracy_score, confusion_matrix\n",
        "from sklearn import preprocessing\n",
        "from sklearn.model_selection import GridSearchCV\n",
        "import warnings\n",
        "warnings.filterwarnings(\"ignore\")"
      ]
    },
    {
      "cell_type": "code",
      "execution_count": null,
      "id": "df1b1170",
      "metadata": {
        "id": "df1b1170",
        "outputId": "4e5f5999-8929-4929-a625-e32f4dbec48c"
      },
      "outputs": [
        {
          "data": {
            "text/html": [
              "<div>\n",
              "<style scoped>\n",
              "    .dataframe tbody tr th:only-of-type {\n",
              "        vertical-align: middle;\n",
              "    }\n",
              "\n",
              "    .dataframe tbody tr th {\n",
              "        vertical-align: top;\n",
              "    }\n",
              "\n",
              "    .dataframe thead th {\n",
              "        text-align: right;\n",
              "    }\n",
              "</style>\n",
              "<table border=\"1\" class=\"dataframe\">\n",
              "  <thead>\n",
              "    <tr style=\"text-align: right;\">\n",
              "      <th></th>\n",
              "      <th>age</th>\n",
              "      <th>workclass</th>\n",
              "      <th>fnlwgt</th>\n",
              "      <th>education</th>\n",
              "      <th>education-num</th>\n",
              "      <th>marital-status</th>\n",
              "      <th>occupation</th>\n",
              "      <th>relationship</th>\n",
              "      <th>race</th>\n",
              "      <th>sex</th>\n",
              "      <th>capital-gain</th>\n",
              "      <th>capital-loss</th>\n",
              "      <th>hours-per-week</th>\n",
              "      <th>native-country</th>\n",
              "      <th>income</th>\n",
              "    </tr>\n",
              "  </thead>\n",
              "  <tbody>\n",
              "    <tr>\n",
              "      <th>0</th>\n",
              "      <td>39</td>\n",
              "      <td>State-gov</td>\n",
              "      <td>77516</td>\n",
              "      <td>Bachelors</td>\n",
              "      <td>13</td>\n",
              "      <td>Never-married</td>\n",
              "      <td>Adm-clerical</td>\n",
              "      <td>Not-in-family</td>\n",
              "      <td>White</td>\n",
              "      <td>Male</td>\n",
              "      <td>2174</td>\n",
              "      <td>0</td>\n",
              "      <td>40</td>\n",
              "      <td>United-States</td>\n",
              "      <td>&lt;=50K</td>\n",
              "    </tr>\n",
              "    <tr>\n",
              "      <th>1</th>\n",
              "      <td>50</td>\n",
              "      <td>Self-emp-not-inc</td>\n",
              "      <td>83311</td>\n",
              "      <td>Bachelors</td>\n",
              "      <td>13</td>\n",
              "      <td>Married-civ-spouse</td>\n",
              "      <td>Exec-managerial</td>\n",
              "      <td>Husband</td>\n",
              "      <td>White</td>\n",
              "      <td>Male</td>\n",
              "      <td>0</td>\n",
              "      <td>0</td>\n",
              "      <td>13</td>\n",
              "      <td>United-States</td>\n",
              "      <td>&lt;=50K</td>\n",
              "    </tr>\n",
              "    <tr>\n",
              "      <th>2</th>\n",
              "      <td>38</td>\n",
              "      <td>Private</td>\n",
              "      <td>215646</td>\n",
              "      <td>HS-grad</td>\n",
              "      <td>9</td>\n",
              "      <td>Divorced</td>\n",
              "      <td>Handlers-cleaners</td>\n",
              "      <td>Not-in-family</td>\n",
              "      <td>White</td>\n",
              "      <td>Male</td>\n",
              "      <td>0</td>\n",
              "      <td>0</td>\n",
              "      <td>40</td>\n",
              "      <td>United-States</td>\n",
              "      <td>&lt;=50K</td>\n",
              "    </tr>\n",
              "    <tr>\n",
              "      <th>3</th>\n",
              "      <td>53</td>\n",
              "      <td>Private</td>\n",
              "      <td>234721</td>\n",
              "      <td>11th</td>\n",
              "      <td>7</td>\n",
              "      <td>Married-civ-spouse</td>\n",
              "      <td>Handlers-cleaners</td>\n",
              "      <td>Husband</td>\n",
              "      <td>Black</td>\n",
              "      <td>Male</td>\n",
              "      <td>0</td>\n",
              "      <td>0</td>\n",
              "      <td>40</td>\n",
              "      <td>United-States</td>\n",
              "      <td>&lt;=50K</td>\n",
              "    </tr>\n",
              "    <tr>\n",
              "      <th>4</th>\n",
              "      <td>28</td>\n",
              "      <td>Private</td>\n",
              "      <td>338409</td>\n",
              "      <td>Bachelors</td>\n",
              "      <td>13</td>\n",
              "      <td>Married-civ-spouse</td>\n",
              "      <td>Prof-specialty</td>\n",
              "      <td>Wife</td>\n",
              "      <td>Black</td>\n",
              "      <td>Female</td>\n",
              "      <td>0</td>\n",
              "      <td>0</td>\n",
              "      <td>40</td>\n",
              "      <td>Cuba</td>\n",
              "      <td>&lt;=50K</td>\n",
              "    </tr>\n",
              "  </tbody>\n",
              "</table>\n",
              "</div>"
            ],
            "text/plain": [
              "   age          workclass   fnlwgt   education   education-num  \\\n",
              "0   39          State-gov    77516   Bachelors              13   \n",
              "1   50   Self-emp-not-inc    83311   Bachelors              13   \n",
              "2   38            Private   215646     HS-grad               9   \n",
              "3   53            Private   234721        11th               7   \n",
              "4   28            Private   338409   Bachelors              13   \n",
              "\n",
              "        marital-status          occupation    relationship    race      sex  \\\n",
              "0        Never-married        Adm-clerical   Not-in-family   White     Male   \n",
              "1   Married-civ-spouse     Exec-managerial         Husband   White     Male   \n",
              "2             Divorced   Handlers-cleaners   Not-in-family   White     Male   \n",
              "3   Married-civ-spouse   Handlers-cleaners         Husband   Black     Male   \n",
              "4   Married-civ-spouse      Prof-specialty            Wife   Black   Female   \n",
              "\n",
              "    capital-gain   capital-loss   hours-per-week  native-country  income  \n",
              "0           2174              0               40   United-States   <=50K  \n",
              "1              0              0               13   United-States   <=50K  \n",
              "2              0              0               40   United-States   <=50K  \n",
              "3              0              0               40   United-States   <=50K  \n",
              "4              0              0               40            Cuba   <=50K  "
            ]
          },
          "execution_count": 2,
          "metadata": {},
          "output_type": "execute_result"
        }
      ],
      "source": [
        "#Now let’s read the dataset and look at the columns to understand the information better.\n",
        "df = pd.read_csv('./Data/income_evaluation.csv')\n",
        "df.head()"
      ]
    },
    {
      "cell_type": "code",
      "execution_count": null,
      "id": "f493d2cb",
      "metadata": {
        "id": "f493d2cb",
        "outputId": "7c972a45-67a3-4790-b63c-604e892573cd"
      },
      "outputs": [
        {
          "name": "stdout",
          "output_type": "stream",
          "text": [
            "There are no missing values in the data.\n"
          ]
        }
      ],
      "source": [
        "# removing redundant spaces from column names\n",
        "df.columns = list(map(lambda a: a.lstrip(), df.columns))\n",
        "\n",
        "print('Check the data. Some values are missing.') if df.isnull().any().any() else print(\"There are no missing values in the data.\")"
      ]
    },
    {
      "cell_type": "code",
      "execution_count": null,
      "id": "b666d634",
      "metadata": {
        "id": "b666d634",
        "outputId": "943be4d8-ac8c-4c44-cccf-85ebba5906fc"
      },
      "outputs": [
        {
          "data": {
            "text/plain": [
              " Private             22696\n",
              " Self-emp-not-inc     2541\n",
              " Local-gov            2093\n",
              " ?                    1836\n",
              " State-gov            1298\n",
              " Self-emp-inc         1116\n",
              " Federal-gov           960\n",
              " Without-pay            14\n",
              " Never-worked            7\n",
              "Name: workclass, dtype: int64"
            ]
          },
          "execution_count": 4,
          "metadata": {},
          "output_type": "execute_result"
        }
      ],
      "source": [
        "df['workclass'].value_counts()"
      ]
    },
    {
      "cell_type": "markdown",
      "id": "4fe03935",
      "metadata": {
        "id": "4fe03935"
      },
      "source": [
        "There are question marks in the columns instead of 'NaN' or 'None' values. Question marks signalize missing values, that is why they will be removed."
      ]
    },
    {
      "cell_type": "code",
      "execution_count": null,
      "id": "dcab490d",
      "metadata": {
        "id": "dcab490d",
        "outputId": "aaa89a13-50a2-4397-f75f-3b952431046c"
      },
      "outputs": [
        {
          "name": "stdout",
          "output_type": "stream",
          "text": [
            "2399 rows have been removed.\n"
          ]
        }
      ],
      "source": [
        "shape0 = df.shape[0]\n",
        "for column in df.columns:\n",
        "    df[column].replace(' ?', np.NaN, inplace=True)\n",
        "df = df.dropna().reset_index().drop(columns=['index'])\n",
        "shape1 = df.shape[0]\n",
        "print(str(shape0 - shape1) + ' rows have been removed.')"
      ]
    },
    {
      "cell_type": "code",
      "execution_count": null,
      "id": "abe69886",
      "metadata": {
        "id": "abe69886",
        "outputId": "f5c5168a-1c6f-4635-fb8e-0cf8657d4ed6"
      },
      "outputs": [
        {
          "data": {
            "text/plain": [
              " Private             22286\n",
              " Self-emp-not-inc     2499\n",
              " Local-gov            2067\n",
              " State-gov            1279\n",
              " Self-emp-inc         1074\n",
              " Federal-gov           943\n",
              " Without-pay            14\n",
              "Name: workclass, dtype: int64"
            ]
          },
          "execution_count": 12,
          "metadata": {},
          "output_type": "execute_result"
        }
      ],
      "source": [
        "df['workclass'].value_counts()"
      ]
    },
    {
      "cell_type": "code",
      "execution_count": null,
      "id": "60694184",
      "metadata": {
        "id": "60694184",
        "outputId": "105a817c-0444-460a-aaf9-229fb254204f"
      },
      "outputs": [
        {
          "data": {
            "text/plain": [
              " <=50K    22654\n",
              " >50K      7508\n",
              "Name: income, dtype: int64"
            ]
          },
          "execution_count": 13,
          "metadata": {},
          "output_type": "execute_result"
        }
      ],
      "source": [
        "#1.1 Adjusting income column to binary type\n",
        "#============================================\n",
        "income = df.income.value_counts()\n",
        "income"
      ]
    },
    {
      "cell_type": "code",
      "execution_count": null,
      "id": "56b22397",
      "metadata": {
        "id": "56b22397",
        "outputId": "3499a469-a5d6-4310-dd0e-d57025548f5d"
      },
      "outputs": [
        {
          "data": {
            "text/plain": [
              "<matplotlib.legend.Legend at 0x1fe8dac86a0>"
            ]
          },
          "execution_count": 14,
          "metadata": {},
          "output_type": "execute_result"
        },
        {
          "data": {
            "image/png": "[encoded data removed]",
            "text/plain": [
              "<Figure size 432x288 with 1 Axes>"
            ]
          },
          "metadata": {},
          "output_type": "display_data"
        }
      ],
      "source": [
        "colors = ['#ADEFD1FF', '#00203FFF']\n",
        "explode = [0, 0.1]\n",
        "plt.pie(income, labels=income.values, colors=colors, explode = explode, shadow=True)\n",
        "plt.title('Income distribution')\n",
        "plt.legend(labels=income.index)"
      ]
    },
    {
      "cell_type": "code",
      "execution_count": null,
      "id": "212faa21",
      "metadata": {
        "id": "212faa21"
      },
      "outputs": [],
      "source": [
        "# changing string to binary values.\n",
        "df['income'].replace([' <=50K',' >50K'],[1,0], inplace=True)"
      ]
    },
    {
      "cell_type": "code",
      "execution_count": null,
      "id": "c24099bc",
      "metadata": {
        "id": "c24099bc",
        "outputId": "e5522392-e438-4fe9-aec2-ba195f2c64ca"
      },
      "outputs": [
        {
          "data": {
            "text/plain": [
              "age                int64\n",
              "workclass         object\n",
              "fnlwgt             int64\n",
              "education         object\n",
              "education-num      int64\n",
              "marital-status    object\n",
              "occupation        object\n",
              "relationship      object\n",
              "race              object\n",
              "sex               object\n",
              "capital-gain       int64\n",
              "capital-loss       int64\n",
              "hours-per-week     int64\n",
              "native-country    object\n",
              "income             int64\n",
              "dtype: object"
            ]
          },
          "execution_count": 16,
          "metadata": {},
          "output_type": "execute_result"
        }
      ],
      "source": [
        "#1.2 Creating correlation heatmap\n",
        "#=====================================\n",
        "# checking types of variables\n",
        "df.dtypes"
      ]
    },
    {
      "cell_type": "code",
      "execution_count": null,
      "id": "9f54448c",
      "metadata": {
        "id": "9f54448c"
      },
      "outputs": [],
      "source": [
        "# object type variables cannot be included in a correlation heatmap.\n",
        "stats = df.select_dtypes(['float', 'int64']).drop(columns=['income'])"
      ]
    },
    {
      "cell_type": "code",
      "execution_count": null,
      "id": "34abe2eb",
      "metadata": {
        "id": "34abe2eb",
        "outputId": "8dc7456d-40a3-47c5-dab0-41292410edf1"
      },
      "outputs": [
        {
          "data": {
            "text/plain": [
              "<AxesSubplot:>"
            ]
          },
          "execution_count": 19,
          "metadata": {},
          "output_type": "execute_result"
        },
        {
          "data": {
            "image/png": "[encoded data removed]",
            "text/plain": [
              "<Figure size 504x504 with 2 Axes>"
            ]
          },
          "metadata": {
            "needs_background": "light"
          },
          "output_type": "display_data"
        }
      ],
      "source": [
        "fig = plt.figure(figsize=(7,7))\n",
        "corr = stats.corr()\n",
        "sns.heatmap(corr,\n",
        "            vmin=-1, vmax=1, center=0, \n",
        "            cmap=sns.diverging_palette(h_neg=250, h_pos=15, as_cmap=True),\n",
        "            square=True, annot=True)"
      ]
    },
    {
      "cell_type": "markdown",
      "id": "8a7cb2cb",
      "metadata": {
        "id": "8a7cb2cb"
      },
      "source": [
        "There is barely correlation between all numeric variables."
      ]
    },
    {
      "cell_type": "code",
      "execution_count": null,
      "id": "5a702640",
      "metadata": {
        "id": "5a702640",
        "outputId": "f3f7542c-75ec-4355-b1de-d5cdd90d351f"
      },
      "outputs": [
        {
          "data": {
            "text/html": [
              "<div>\n",
              "<style scoped>\n",
              "    .dataframe tbody tr th:only-of-type {\n",
              "        vertical-align: middle;\n",
              "    }\n",
              "\n",
              "    .dataframe tbody tr th {\n",
              "        vertical-align: top;\n",
              "    }\n",
              "\n",
              "    .dataframe thead th {\n",
              "        text-align: right;\n",
              "    }\n",
              "</style>\n",
              "<table border=\"1\" class=\"dataframe\">\n",
              "  <thead>\n",
              "    <tr style=\"text-align: right;\">\n",
              "      <th></th>\n",
              "      <th>count</th>\n",
              "      <th>mean</th>\n",
              "      <th>std</th>\n",
              "      <th>min</th>\n",
              "      <th>25%</th>\n",
              "      <th>50%</th>\n",
              "      <th>75%</th>\n",
              "      <th>max</th>\n",
              "    </tr>\n",
              "  </thead>\n",
              "  <tbody>\n",
              "    <tr>\n",
              "      <th>age</th>\n",
              "      <td>30162.0</td>\n",
              "      <td>38.437902</td>\n",
              "      <td>13.134665</td>\n",
              "      <td>17.0</td>\n",
              "      <td>28.00</td>\n",
              "      <td>37.0</td>\n",
              "      <td>47.0</td>\n",
              "      <td>90.0</td>\n",
              "    </tr>\n",
              "    <tr>\n",
              "      <th>fnlwgt</th>\n",
              "      <td>30162.0</td>\n",
              "      <td>189793.833930</td>\n",
              "      <td>105652.971529</td>\n",
              "      <td>13769.0</td>\n",
              "      <td>117627.25</td>\n",
              "      <td>178425.0</td>\n",
              "      <td>237628.5</td>\n",
              "      <td>1484705.0</td>\n",
              "    </tr>\n",
              "    <tr>\n",
              "      <th>education-num</th>\n",
              "      <td>30162.0</td>\n",
              "      <td>10.121312</td>\n",
              "      <td>2.549995</td>\n",
              "      <td>1.0</td>\n",
              "      <td>9.00</td>\n",
              "      <td>10.0</td>\n",
              "      <td>13.0</td>\n",
              "      <td>16.0</td>\n",
              "    </tr>\n",
              "    <tr>\n",
              "      <th>capital-gain</th>\n",
              "      <td>30162.0</td>\n",
              "      <td>1092.007858</td>\n",
              "      <td>7406.346497</td>\n",
              "      <td>0.0</td>\n",
              "      <td>0.00</td>\n",
              "      <td>0.0</td>\n",
              "      <td>0.0</td>\n",
              "      <td>99999.0</td>\n",
              "    </tr>\n",
              "    <tr>\n",
              "      <th>capital-loss</th>\n",
              "      <td>30162.0</td>\n",
              "      <td>88.372489</td>\n",
              "      <td>404.298370</td>\n",
              "      <td>0.0</td>\n",
              "      <td>0.00</td>\n",
              "      <td>0.0</td>\n",
              "      <td>0.0</td>\n",
              "      <td>4356.0</td>\n",
              "    </tr>\n",
              "    <tr>\n",
              "      <th>hours-per-week</th>\n",
              "      <td>30162.0</td>\n",
              "      <td>40.931238</td>\n",
              "      <td>11.979984</td>\n",
              "      <td>1.0</td>\n",
              "      <td>40.00</td>\n",
              "      <td>40.0</td>\n",
              "      <td>45.0</td>\n",
              "      <td>99.0</td>\n",
              "    </tr>\n",
              "  </tbody>\n",
              "</table>\n",
              "</div>"
            ],
            "text/plain": [
              "                  count           mean            std      min        25%  \\\n",
              "age             30162.0      38.437902      13.134665     17.0      28.00   \n",
              "fnlwgt          30162.0  189793.833930  105652.971529  13769.0  117627.25   \n",
              "education-num   30162.0      10.121312       2.549995      1.0       9.00   \n",
              "capital-gain    30162.0    1092.007858    7406.346497      0.0       0.00   \n",
              "capital-loss    30162.0      88.372489     404.298370      0.0       0.00   \n",
              "hours-per-week  30162.0      40.931238      11.979984      1.0      40.00   \n",
              "\n",
              "                     50%       75%        max  \n",
              "age                 37.0      47.0       90.0  \n",
              "fnlwgt          178425.0  237628.5  1484705.0  \n",
              "education-num       10.0      13.0       16.0  \n",
              "capital-gain         0.0       0.0    99999.0  \n",
              "capital-loss         0.0       0.0     4356.0  \n",
              "hours-per-week      40.0      45.0       99.0  "
            ]
          },
          "execution_count": 20,
          "metadata": {},
          "output_type": "execute_result"
        }
      ],
      "source": [
        "#1.2 Creating density functions and boxplots\n",
        "#=============================================\n",
        "stats.describe().transpose()"
      ]
    },
    {
      "cell_type": "code",
      "execution_count": null,
      "id": "8a38f616",
      "metadata": {
        "id": "8a38f616",
        "outputId": "00240b1f-9f7e-4cee-c46a-37ee83b93bda"
      },
      "outputs": [
        {
          "data": {
            "image/png": "[encoded data removed]",
            "text/plain": [
              "<Figure size 864x2016 with 12 Axes>"
            ]
          },
          "metadata": {
            "needs_background": "light"
          },
          "output_type": "display_data"
        }
      ],
      "source": [
        "# creating graphs\n",
        "colors = list(sns.color_palette(\"Paired\"))\n",
        "fig, ax = plt.subplots(nrows=6, ncols=2, figsize=(12,28))\n",
        "for i in range(6):\n",
        "    # Plot univariate or bivariate distributions using kernel density estimation.\n",
        "    sns.kdeplot(stats.iloc[:, i], \n",
        "                shade = True, \n",
        "                color = colors[i*2+1], \n",
        "                ax=ax[i, 0]).set(ylabel = '', xlabel = stats.columns[i])\n",
        "    \n",
        "    sns.boxplot(data=stats.iloc[:, i],\n",
        "                color = colors[i*2], orient=\"h\",\n",
        "                ax=ax[i, 1]).set(xlabel = '', ylabel = '')\n",
        "plt.show()"
      ]
    },
    {
      "cell_type": "code",
      "execution_count": null,
      "id": "2a968d11",
      "metadata": {
        "id": "2a968d11",
        "outputId": "7c409f5a-2540-4bb1-f12a-f3a545860d36"
      },
      "outputs": [
        {
          "data": {
            "text/html": [
              "<div>\n",
              "<style scoped>\n",
              "    .dataframe tbody tr th:only-of-type {\n",
              "        vertical-align: middle;\n",
              "    }\n",
              "\n",
              "    .dataframe tbody tr th {\n",
              "        vertical-align: top;\n",
              "    }\n",
              "\n",
              "    .dataframe thead th {\n",
              "        text-align: right;\n",
              "    }\n",
              "</style>\n",
              "<table border=\"1\" class=\"dataframe\">\n",
              "  <thead>\n",
              "    <tr style=\"text-align: right;\">\n",
              "      <th></th>\n",
              "      <th>age</th>\n",
              "      <th>fnlwgt</th>\n",
              "      <th>education-num</th>\n",
              "      <th>capital-gain</th>\n",
              "      <th>capital-loss</th>\n",
              "      <th>hours-per-week</th>\n",
              "      <th>income</th>\n",
              "      <th>workclass_ Federal-gov</th>\n",
              "      <th>workclass_ Local-gov</th>\n",
              "      <th>workclass_ Private</th>\n",
              "      <th>...</th>\n",
              "      <th>native-country_ Portugal</th>\n",
              "      <th>native-country_ Puerto-Rico</th>\n",
              "      <th>native-country_ Scotland</th>\n",
              "      <th>native-country_ South</th>\n",
              "      <th>native-country_ Taiwan</th>\n",
              "      <th>native-country_ Thailand</th>\n",
              "      <th>native-country_ Trinadad&amp;Tobago</th>\n",
              "      <th>native-country_ United-States</th>\n",
              "      <th>native-country_ Vietnam</th>\n",
              "      <th>native-country_ Yugoslavia</th>\n",
              "    </tr>\n",
              "  </thead>\n",
              "  <tbody>\n",
              "    <tr>\n",
              "      <th>0</th>\n",
              "      <td>39</td>\n",
              "      <td>77516</td>\n",
              "      <td>13</td>\n",
              "      <td>2174</td>\n",
              "      <td>0</td>\n",
              "      <td>40</td>\n",
              "      <td>1</td>\n",
              "      <td>0</td>\n",
              "      <td>0</td>\n",
              "      <td>0</td>\n",
              "      <td>...</td>\n",
              "      <td>0</td>\n",
              "      <td>0</td>\n",
              "      <td>0</td>\n",
              "      <td>0</td>\n",
              "      <td>0</td>\n",
              "      <td>0</td>\n",
              "      <td>0</td>\n",
              "      <td>1</td>\n",
              "      <td>0</td>\n",
              "      <td>0</td>\n",
              "    </tr>\n",
              "    <tr>\n",
              "      <th>1</th>\n",
              "      <td>50</td>\n",
              "      <td>83311</td>\n",
              "      <td>13</td>\n",
              "      <td>0</td>\n",
              "      <td>0</td>\n",
              "      <td>13</td>\n",
              "      <td>1</td>\n",
              "      <td>0</td>\n",
              "      <td>0</td>\n",
              "      <td>0</td>\n",
              "      <td>...</td>\n",
              "      <td>0</td>\n",
              "      <td>0</td>\n",
              "      <td>0</td>\n",
              "      <td>0</td>\n",
              "      <td>0</td>\n",
              "      <td>0</td>\n",
              "      <td>0</td>\n",
              "      <td>1</td>\n",
              "      <td>0</td>\n",
              "      <td>0</td>\n",
              "    </tr>\n",
              "    <tr>\n",
              "      <th>2</th>\n",
              "      <td>38</td>\n",
              "      <td>215646</td>\n",
              "      <td>9</td>\n",
              "      <td>0</td>\n",
              "      <td>0</td>\n",
              "      <td>40</td>\n",
              "      <td>1</td>\n",
              "      <td>0</td>\n",
              "      <td>0</td>\n",
              "      <td>1</td>\n",
              "      <td>...</td>\n",
              "      <td>0</td>\n",
              "      <td>0</td>\n",
              "      <td>0</td>\n",
              "      <td>0</td>\n",
              "      <td>0</td>\n",
              "      <td>0</td>\n",
              "      <td>0</td>\n",
              "      <td>1</td>\n",
              "      <td>0</td>\n",
              "      <td>0</td>\n",
              "    </tr>\n",
              "    <tr>\n",
              "      <th>3</th>\n",
              "      <td>53</td>\n",
              "      <td>234721</td>\n",
              "      <td>7</td>\n",
              "      <td>0</td>\n",
              "      <td>0</td>\n",
              "      <td>40</td>\n",
              "      <td>1</td>\n",
              "      <td>0</td>\n",
              "      <td>0</td>\n",
              "      <td>1</td>\n",
              "      <td>...</td>\n",
              "      <td>0</td>\n",
              "      <td>0</td>\n",
              "      <td>0</td>\n",
              "      <td>0</td>\n",
              "      <td>0</td>\n",
              "      <td>0</td>\n",
              "      <td>0</td>\n",
              "      <td>1</td>\n",
              "      <td>0</td>\n",
              "      <td>0</td>\n",
              "    </tr>\n",
              "    <tr>\n",
              "      <th>4</th>\n",
              "      <td>28</td>\n",
              "      <td>338409</td>\n",
              "      <td>13</td>\n",
              "      <td>0</td>\n",
              "      <td>0</td>\n",
              "      <td>40</td>\n",
              "      <td>1</td>\n",
              "      <td>0</td>\n",
              "      <td>0</td>\n",
              "      <td>1</td>\n",
              "      <td>...</td>\n",
              "      <td>0</td>\n",
              "      <td>0</td>\n",
              "      <td>0</td>\n",
              "      <td>0</td>\n",
              "      <td>0</td>\n",
              "      <td>0</td>\n",
              "      <td>0</td>\n",
              "      <td>0</td>\n",
              "      <td>0</td>\n",
              "      <td>0</td>\n",
              "    </tr>\n",
              "  </tbody>\n",
              "</table>\n",
              "<p>5 rows × 105 columns</p>\n",
              "</div>"
            ],
            "text/plain": [
              "   age  fnlwgt  education-num  capital-gain  capital-loss  hours-per-week  \\\n",
              "0   39   77516             13          2174             0              40   \n",
              "1   50   83311             13             0             0              13   \n",
              "2   38  215646              9             0             0              40   \n",
              "3   53  234721              7             0             0              40   \n",
              "4   28  338409             13             0             0              40   \n",
              "\n",
              "   income  workclass_ Federal-gov  workclass_ Local-gov  workclass_ Private  \\\n",
              "0       1                       0                     0                   0   \n",
              "1       1                       0                     0                   0   \n",
              "2       1                       0                     0                   1   \n",
              "3       1                       0                     0                   1   \n",
              "4       1                       0                     0                   1   \n",
              "\n",
              "   ...  native-country_ Portugal  native-country_ Puerto-Rico  \\\n",
              "0  ...                         0                            0   \n",
              "1  ...                         0                            0   \n",
              "2  ...                         0                            0   \n",
              "3  ...                         0                            0   \n",
              "4  ...                         0                            0   \n",
              "\n",
              "   native-country_ Scotland  native-country_ South  native-country_ Taiwan  \\\n",
              "0                         0                      0                       0   \n",
              "1                         0                      0                       0   \n",
              "2                         0                      0                       0   \n",
              "3                         0                      0                       0   \n",
              "4                         0                      0                       0   \n",
              "\n",
              "   native-country_ Thailand  native-country_ Trinadad&Tobago  \\\n",
              "0                         0                                0   \n",
              "1                         0                                0   \n",
              "2                         0                                0   \n",
              "3                         0                                0   \n",
              "4                         0                                0   \n",
              "\n",
              "   native-country_ United-States  native-country_ Vietnam  \\\n",
              "0                              1                        0   \n",
              "1                              1                        0   \n",
              "2                              1                        0   \n",
              "3                              1                        0   \n",
              "4                              0                        0   \n",
              "\n",
              "   native-country_ Yugoslavia  \n",
              "0                           0  \n",
              "1                           0  \n",
              "2                           0  \n",
              "3                           0  \n",
              "4                           0  \n",
              "\n",
              "[5 rows x 105 columns]"
            ]
          },
          "execution_count": 24,
          "metadata": {},
          "output_type": "execute_result"
        }
      ],
      "source": [
        "# 2. Standardization and preparing variables\n",
        "# Convert categorical variable into dummy/indicator variables.\n",
        "df_final = pd.get_dummies(df)\n",
        "df_final.head()"
      ]
    },
    {
      "cell_type": "markdown",
      "id": "835c59d3",
      "metadata": {
        "id": "835c59d3"
      },
      "source": [
        "- Now for training and testing our model, the data has to be divided into train and test data.\n",
        "- We will also scale the data to lie between 0 and 1."
      ]
    },
    {
      "cell_type": "code",
      "execution_count": null,
      "id": "8bb3045a",
      "metadata": {
        "id": "8bb3045a"
      },
      "outputs": [],
      "source": [
        "# Split dataset into test and train data\n",
        "X = df_final.drop(columns=['income'])\n",
        "y = df_final['income']\n",
        "X_train, X_test, y_train, y_test = train_test_split(X, y,test_size=0.2)"
      ]
    },
    {
      "cell_type": "markdown",
      "id": "1b0d70d5",
      "metadata": {
        "id": "1b0d70d5"
      },
      "source": [
        "Now let’s go ahead with defining the Support vector Classifier along with its hyperparameters. Next, we will fit this model on the training data."
      ]
    },
    {
      "cell_type": "code",
      "execution_count": null,
      "id": "fd089f6e",
      "metadata": {
        "id": "fd089f6e",
        "outputId": "97fff895-09c7-4e27-95a2-15581738d7f9"
      },
      "outputs": [
        {
          "name": "stdout",
          "output_type": "stream",
          "text": [
            "Train Score: 0.7843673366844961\n",
            "Test Score: 0.7916459472899056\n"
          ]
        }
      ],
      "source": [
        "#Define support vector classifier with hyperparameters\n",
        "svc = SVC(random_state=101)\n",
        "# Evaluate a score by cross-validation. (cvint, Determines the cross-validation splitting strategy.)\n",
        "accuracies = cross_val_score(svc,X_train,y_train,cv=5)\n",
        "svc.fit(X_train,y_train)\n",
        "print(\"Train Score:\",np.mean(accuracies))\n",
        "print(\"Test Score:\",svc.score(X_test,y_test))"
      ]
    },
    {
      "cell_type": "markdown",
      "id": "b268bcd1",
      "metadata": {
        "id": "b268bcd1"
      },
      "source": [
        "- The model has been trained and we can now observe the outputs as well.\n",
        "- Below, you can see the accuracy of the test and train dataset\n",
        "- You can even hyper tune your model by the following code:"
      ]
    },
    {
      "cell_type": "code",
      "execution_count": null,
      "id": "26fe84aa",
      "metadata": {
        "id": "26fe84aa"
      },
      "outputs": [],
      "source": [
        "grid = {\n",
        "   'C':[0.01,0.1,1,10],\n",
        "   'kernel' : [\"linear\",\"poly\",\"rbf\",\"sigmoid\"],\n",
        "   'degree' : [1,3,5,7],\n",
        "   'gamma' : [0.01,1]\n",
        "}\n",
        "svm  = SVC ()\n",
        "# GridSearchCV is a useful tool to fine tune the parameters of your model.\n",
        "# The “best” parameters that GridSearchCV identifies are technically the best that could be produced\n",
        "svm_cv = GridSearchCV(svm, grid, cv = 5)\n",
        "svm_cv.fit(X_train,y_train)\n",
        "print(\"Best Parameters:\",svm_cv.best_params_)\n",
        "print(\"Train Score:\",svm_cv.best_score_)\n",
        "print(\"Test Score:\",svm_cv.score(X_test,y_test))"
      ]
    },
    {
      "cell_type": "code",
      "execution_count": null,
      "id": "aafc69e8",
      "metadata": {
        "id": "aafc69e8"
      },
      "outputs": [],
      "source": [
        ""
      ]
    }
  ],
  "metadata": {
    "kernelspec": {
      "display_name": "Python 3",
      "language": "python",
      "name": "python3"
    },
    "language_info": {
      "codemirror_mode": {
        "name": "ipython",
        "version": 3
      },
      "file_extension": ".py",
      "mimetype": "text/x-python",
      "name": "python",
      "nbconvert_exporter": "python",
      "pygments_lexer": "ipython3",
      "version": "3.8.8"
    },
    "colab": {
      "name": "ML1_S6_Coding_Material(SVM).ipynb",
      "provenance": [],
      "include_colab_link": true
    }
  },
  "nbformat": 4,
  "nbformat_minor": 5
}