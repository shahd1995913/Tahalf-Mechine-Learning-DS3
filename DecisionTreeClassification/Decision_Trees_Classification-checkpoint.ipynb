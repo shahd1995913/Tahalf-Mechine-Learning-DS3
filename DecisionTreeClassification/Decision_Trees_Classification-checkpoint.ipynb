{
 "cells": [
  {
   "cell_type": "markdown",
   "metadata": {
    "id": "t3UGVr7DgwXg"
   },
   "source": [
    "# Decision Tree Algorithm 👨🏻‍💻\n",
    "---\n"
   ]
  },
  {
   "cell_type": "markdown",
   "metadata": {
    "id": "zpsngavejTgV"
   },
   "source": [
    "## SKlearn implementation\n",
    "---"
   ]
  },
  {
   "cell_type": "markdown",
   "metadata": {
    "id": "mkdS9NvxjTij"
   },
   "source": [
    "### `Imports`"
   ]
  },
  {
   "cell_type": "code",
   "execution_count": null,
   "metadata": {
    "executionInfo": {
     "elapsed": 283,
     "status": "ok",
     "timestamp": 1640560955996,
     "user": {
      "displayName": "Ahmed Hermas",
      "photoUrl": "https://lh3.googleusercontent.com/a-/AOh14GgWAnYWaMqVNv4BxR09Pktn0TeuNXtbJQshB1bxsw=s64",
      "userId": "17891313142098506605"
     },
     "user_tz": -120
    },
    "id": "MnaRsa7G_7BA"
   },
   "outputs": [],
   "source": [
    "import numpy as np\n",
    "import pandas as pd\n",
    "import seaborn as sns\n",
    "import matplotlib.pyplot as plt\n",
    "%matplotlib inline"
   ]
  },
  {
   "cell_type": "markdown",
   "metadata": {
    "id": "xWiQGXZrjTk5"
   },
   "source": [
    "### `Importing Dataset`"
   ]
  },
  {
   "cell_type": "markdown",
   "metadata": {
    "id": "cTNRsNA1DmpQ"
   },
   "source": [
    "Next, we import the dataset from the CSV file to the Pandas dataframes."
   ]
  },
  {
   "cell_type": "code",
   "execution_count": null,
   "metadata": {
    "colab": {
     "base_uri": "https://localhost:8080/",
     "height": 206
    },
    "executionInfo": {
     "elapsed": 675,
     "status": "ok",
     "timestamp": 1640561111791,
     "user": {
      "displayName": "Ahmed Hermas",
      "photoUrl": "https://lh3.googleusercontent.com/a-/AOh14GgWAnYWaMqVNv4BxR09Pktn0TeuNXtbJQshB1bxsw=s64",
      "userId": "17891313142098506605"
     },
     "user_tz": -120
    },
    "id": "s28fXQYDDvgn",
    "outputId": "7c004fc7-8455-4867-db7d-6cb7ab4819dc"
   },
   "outputs": [],
   "source": [
    "col = [ 'Class Name','Left weight','Left distance','Right weight','Right distance']\n",
    "df = pd.read_csv('./data/balance-scale.data',names=col,sep=',')\n",
    "df.head()"
   ]
  },
  {
   "cell_type": "markdown",
   "metadata": {
    "id": "3PC4pUo0jTnN"
   },
   "source": [
    "### `Information About Dataset`"
   ]
  },
  {
   "cell_type": "markdown",
   "metadata": {
    "id": "PuEPHTTlDfe1"
   },
   "source": [
    "We can get the overall information of our data set by using the df.info function. From the output, we can see that it has 625 records with 5 fields."
   ]
  },
  {
   "cell_type": "code",
   "execution_count": null,
   "metadata": {
    "colab": {
     "base_uri": "https://localhost:8080/"
    },
    "executionInfo": {
     "elapsed": 288,
     "status": "ok",
     "timestamp": 1640561122083,
     "user": {
      "displayName": "Ahmed Hermas",
      "photoUrl": "https://lh3.googleusercontent.com/a-/AOh14GgWAnYWaMqVNv4BxR09Pktn0TeuNXtbJQshB1bxsw=s64",
      "userId": "17891313142098506605"
     },
     "user_tz": -120
    },
    "id": "tA2jse-nEAOX",
    "outputId": "14539c39-a53b-4de7-f22a-d04927ea8ccf"
   },
   "outputs": [],
   "source": [
    "df.info()"
   ]
  },
  {
   "cell_type": "markdown",
   "metadata": {
    "id": "1jyNWnORDgo7"
   },
   "source": [
    "### `Exploratory Data Analysis (EDA)`\n"
   ]
  },
  {
   "cell_type": "markdown",
   "metadata": {
    "id": "3zJ05jqIDgq8"
   },
   "source": [
    "\n",
    "\n",
    "Let us do a bit of exploratory data analysis to understand our dataset better. We have plotted the classes by using countplot function. We can see in the figure given below that most of the classes names fall under the labels R and L which means Right and Left respectively. Very few data fall under B, which stands for balanced.\n"
   ]
  },
  {
   "cell_type": "code",
   "execution_count": null,
   "metadata": {
    "colab": {
     "base_uri": "https://localhost:8080/",
     "height": 358
    },
    "executionInfo": {
     "elapsed": 737,
     "status": "ok",
     "timestamp": 1640561134601,
     "user": {
      "displayName": "Ahmed Hermas",
      "photoUrl": "https://lh3.googleusercontent.com/a-/AOh14GgWAnYWaMqVNv4BxR09Pktn0TeuNXtbJQshB1bxsw=s64",
      "userId": "17891313142098506605"
     },
     "user_tz": -120
    },
    "id": "_5SqvpU7EEII",
    "outputId": "1a02fea4-3930-48d1-c552-fee9caec6614"
   },
   "outputs": [],
   "source": [
    "sns.countplot(df['Class Name'])"
   ]
  },
  {
   "cell_type": "code",
   "execution_count": null,
   "metadata": {
    "colab": {
     "base_uri": "https://localhost:8080/",
     "height": 355
    },
    "executionInfo": {
     "elapsed": 709,
     "status": "ok",
     "timestamp": 1640561144056,
     "user": {
      "displayName": "Ahmed Hermas",
      "photoUrl": "https://lh3.googleusercontent.com/a-/AOh14GgWAnYWaMqVNv4BxR09Pktn0TeuNXtbJQshB1bxsw=s64",
      "userId": "17891313142098506605"
     },
     "user_tz": -120
    },
    "id": "t94wAiyYEGYb",
    "outputId": "9a127c3a-4aca-4de3-be54-8ae8e48ee3f9"
   },
   "outputs": [],
   "source": [
    "sns.countplot(df['Left weight'],hue=df['Class Name'])"
   ]
  },
  {
   "cell_type": "code",
   "execution_count": null,
   "metadata": {
    "colab": {
     "base_uri": "https://localhost:8080/",
     "height": 355
    },
    "executionInfo": {
     "elapsed": 734,
     "status": "ok",
     "timestamp": 1640561149632,
     "user": {
      "displayName": "Ahmed Hermas",
      "photoUrl": "https://lh3.googleusercontent.com/a-/AOh14GgWAnYWaMqVNv4BxR09Pktn0TeuNXtbJQshB1bxsw=s64",
      "userId": "17891313142098506605"
     },
     "user_tz": -120
    },
    "id": "Zhx09MwAEGad",
    "outputId": "918ceb7d-7fd1-4299-e9bf-12948a444390"
   },
   "outputs": [],
   "source": [
    "sns.countplot(df['Right weight'],hue=df['Class Name'])"
   ]
  },
  {
   "cell_type": "markdown",
   "metadata": {
    "id": "43t49lIsDgtD"
   },
   "source": [
    "### `Splitting the Dataset in Train-Test`\n"
   ]
  },
  {
   "cell_type": "markdown",
   "metadata": {
    "id": "nvBt0Q0bDgvP"
   },
   "source": [
    "\n",
    "\n",
    "Before feeding the data into the model we first split it into train and test data using the train_test_split function.\n"
   ]
  },
  {
   "cell_type": "code",
   "execution_count": null,
   "metadata": {
    "executionInfo": {
     "elapsed": 325,
     "status": "ok",
     "timestamp": 1640561176396,
     "user": {
      "displayName": "Ahmed Hermas",
      "photoUrl": "https://lh3.googleusercontent.com/a-/AOh14GgWAnYWaMqVNv4BxR09Pktn0TeuNXtbJQshB1bxsw=s64",
      "userId": "17891313142098506605"
     },
     "user_tz": -120
    },
    "id": "AIBGOlhxEMEX"
   },
   "outputs": [],
   "source": [
    "from sklearn.model_selection import train_test_split\n",
    "X = df.drop('Class Name',axis=1)\n",
    "y = df[['Class Name']]\n",
    "X_train, X_test, y_train, y_test = train_test_split(X, y, test_size = 0.3,random_state=42)"
   ]
  },
  {
   "cell_type": "markdown",
   "metadata": {
    "id": "ymwF4RNTDgxX"
   },
   "source": [
    "### `Training the Decision Tree Classifier`"
   ]
  },
  {
   "cell_type": "markdown",
   "metadata": {
    "id": "aH4MbLj1ETvu"
   },
   "source": [
    "We have used the Gini index as our attribute selection method for the training of decision tree classifier with Sklearn function DecisionTreeClassifier().\n",
    "\n",
    "\n",
    "We have created the decision tree classifier by passing other parameters such as random state, max_depth, and min_sample_leaf to DecisionTreeClassifier().\n",
    "\n",
    "\n",
    "Finally, we do the training process by using the model.fit() method.\n"
   ]
  },
  {
   "cell_type": "code",
   "execution_count": null,
   "metadata": {
    "colab": {
     "base_uri": "https://localhost:8080/"
    },
    "executionInfo": {
     "elapsed": 280,
     "status": "ok",
     "timestamp": 1640561319636,
     "user": {
      "displayName": "Ahmed Hermas",
      "photoUrl": "https://lh3.googleusercontent.com/a-/AOh14GgWAnYWaMqVNv4BxR09Pktn0TeuNXtbJQshB1bxsw=s64",
      "userId": "17891313142098506605"
     },
     "user_tz": -120
    },
    "id": "UskJjWwfDe6x",
    "outputId": "a35bfbf0-e80a-4aa4-8e17-b5d5022ff026"
   },
   "outputs": [],
   "source": [
    "from sklearn.tree import DecisionTreeClassifier\n",
    "clf_model = DecisionTreeClassifier(criterion=\"gini\", random_state=42,max_depth=3, min_samples_leaf=5)   \n",
    "clf_model.fit(X_train,y_train)"
   ]
  },
  {
   "cell_type": "markdown",
   "metadata": {
    "id": "YaWLQW1cEan6"
   },
   "source": [
    "### `Test Accuracy`"
   ]
  },
  {
   "cell_type": "markdown",
   "metadata": {
    "id": "hDyoCudGEc6G"
   },
   "source": [
    "\n",
    "\n",
    "We will now test accuracy by using the classifier on test data. For this we first use the model.predict function and pass X_test as attributes.\n"
   ]
  },
  {
   "cell_type": "code",
   "execution_count": null,
   "metadata": {
    "executionInfo": {
     "elapsed": 3,
     "status": "ok",
     "timestamp": 1640561320544,
     "user": {
      "displayName": "Ahmed Hermas",
      "photoUrl": "https://lh3.googleusercontent.com/a-/AOh14GgWAnYWaMqVNv4BxR09Pktn0TeuNXtbJQshB1bxsw=s64",
      "userId": "17891313142098506605"
     },
     "user_tz": -120
    },
    "id": "VOz1MP6pEXsd"
   },
   "outputs": [],
   "source": [
    "y_predict = clf_model.predict(X_test)"
   ]
  },
  {
   "cell_type": "markdown",
   "metadata": {
    "id": "MQbEmKLvEfy_"
   },
   "source": [
    "\n",
    "\n",
    "Next, we use accuracy_score function of Sklearn to calculate the accuracty. We can see that we are getting a pretty good accuracy of 78.6% on our test data.\n"
   ]
  },
  {
   "cell_type": "code",
   "execution_count": null,
   "metadata": {
    "colab": {
     "base_uri": "https://localhost:8080/"
    },
    "executionInfo": {
     "elapsed": 3,
     "status": "ok",
     "timestamp": 1640561321101,
     "user": {
      "displayName": "Ahmed Hermas",
      "photoUrl": "https://lh3.googleusercontent.com/a-/AOh14GgWAnYWaMqVNv4BxR09Pktn0TeuNXtbJQshB1bxsw=s64",
      "userId": "17891313142098506605"
     },
     "user_tz": -120
    },
    "id": "2a9bgMczEeYQ",
    "outputId": "25038961-1c9f-49dd-bfad-2fccfd62f1bc"
   },
   "outputs": [],
   "source": [
    "from sklearn.metrics import accuracy_score,classification_report,confusion_matrix\n",
    "accuracy_score(y_test,y_predict)"
   ]
  },
  {
   "cell_type": "markdown",
   "metadata": {
    "id": "e1raF7_xE0-h"
   },
   "source": [
    "### `Plotting Decision Tree`"
   ]
  },
  {
   "cell_type": "markdown",
   "metadata": {
    "id": "KQdoUtOtE3iV"
   },
   "source": [
    "\n",
    "\n",
    "We can plot our decision tree with the help of the Graphviz library and passing after a bunch of parameters such as classifier model, target values, and the features name of our data.\n"
   ]
  },
  {
   "cell_type": "code",
   "execution_count": null,
   "metadata": {
    "executionInfo": {
     "elapsed": 316,
     "status": "ok",
     "timestamp": 1640561353284,
     "user": {
      "displayName": "Ahmed Hermas",
      "photoUrl": "https://lh3.googleusercontent.com/a-/AOh14GgWAnYWaMqVNv4BxR09Pktn0TeuNXtbJQshB1bxsw=s64",
      "userId": "17891313142098506605"
     },
     "user_tz": -120
    },
    "id": "N8Z0gDphEhyV"
   },
   "outputs": [],
   "source": [
    "target = list(df['Class Name'].unique())\n",
    "feature_names = list(X.columns)"
   ]
  },
  {
   "cell_type": "code",
   "execution_count": null,
   "metadata": {
    "colab": {
     "base_uri": "https://localhost:8080/",
     "height": 618
    },
    "executionInfo": {
     "elapsed": 796,
     "status": "ok",
     "timestamp": 1640561361671,
     "user": {
      "displayName": "Ahmed Hermas",
      "photoUrl": "https://lh3.googleusercontent.com/a-/AOh14GgWAnYWaMqVNv4BxR09Pktn0TeuNXtbJQshB1bxsw=s64",
      "userId": "17891313142098506605"
     },
     "user_tz": -120
    },
    "id": "o9wY5MiGE5tE",
    "outputId": "f1161ccc-847e-4b6a-f36a-52ce043d7bcf"
   },
   "outputs": [],
   "source": [
    "from sklearn import tree\n",
    "import graphviz\n",
    "dot_data = tree.export_graphviz(clf_model,\n",
    "                                out_file=None, \n",
    "                      feature_names=feature_names,  \n",
    "                      class_names=target,  \n",
    "                      filled=True, rounded=True,  \n",
    "                      special_characters=True)  \n",
    "graph = graphviz.Source(dot_data)  \n",
    "\n",
    "graph"
   ]
  }
 ],
 "metadata": {
  "colab": {
   "authorship_tag": "ABX9TyNhARTlePaX25wPrusYN4/H",
   "collapsed_sections": [],
   "mount_file_id": "1FquV8wJ7vsh6EiTcOOc1C2mhHQBD1tkB",
   "name": "Decision_Trees_Classification.ipynb",
   "provenance": []
  },
  "kernelspec": {
   "display_name": "Python 3",
   "language": "python",
   "name": "python3"
  },
  "language_info": {
   "codemirror_mode": {
    "name": "ipython",
    "version": 3
   },
   "file_extension": ".py",
   "mimetype": "text/x-python",
   "name": "python",
   "nbconvert_exporter": "python",
   "pygments_lexer": "ipython3",
   "version": "3.6.12"
  }
 },
 "nbformat": 4,
 "nbformat_minor": 1
}
